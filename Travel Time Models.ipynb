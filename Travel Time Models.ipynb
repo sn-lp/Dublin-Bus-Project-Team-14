{
 "cells": [
  {
   "cell_type": "markdown",
   "metadata": {},
   "source": [
    "# 1 - Importing the Libraries"
   ]
  },
  {
   "cell_type": "code",
   "execution_count": 4,
   "metadata": {},
   "outputs": [],
   "source": [
    "import sys"
   ]
  },
  {
   "cell_type": "code",
   "execution_count": 5,
   "metadata": {},
   "outputs": [
    {
     "name": "stdout",
     "output_type": "stream",
     "text": [
      "3.8.11 (default, Aug  3 2021, 15:09:35) \n",
      "[GCC 7.5.0]\n"
     ]
    }
   ],
   "source": [
    "print(sys.version)"
   ]
  },
  {
   "cell_type": "code",
   "execution_count": 6,
   "metadata": {},
   "outputs": [],
   "source": [
    "import pandas as pd\n",
    "import matplotlib.pyplot as plt\n",
    "import numpy as np\n",
    "from datetime import datetime\n",
    "%matplotlib inline\n",
    "\n",
    "from sklearn.linear_model import LinearRegression\n",
    "\n",
    "from sklearn.metrics import r2_score\n",
    "from sklearn.metrics import mean_squared_error\n",
    "\n",
    "from sklearn.neighbors import KNeighborsRegressor\n",
    "\n",
    "from sklearn.svm import SVR\n",
    "\n",
    "import pickle\n",
    "\n",
    "import joblib"
   ]
  },
  {
   "cell_type": "markdown",
   "metadata": {},
   "source": [
    "# 2 - Exploring Relationship between Predictive Features and Target Feature"
   ]
  },
  {
   "cell_type": "markdown",
   "metadata": {},
   "source": [
    "## 2.1 - Loading in the Datasets"
   ]
  },
  {
   "cell_type": "code",
   "execution_count": 7,
   "metadata": {},
   "outputs": [],
   "source": [
    "# loading the trips data\n",
    "dftrips = pd.read_csv(\"rt_trips_DB_2018-cleaned.csv\", parse_dates=[0], infer_datetime_format=True)"
   ]
  },
  {
   "cell_type": "code",
   "execution_count": 8,
   "metadata": {},
   "outputs": [
    {
     "data": {
      "text/html": [
       "<div>\n",
       "<style scoped>\n",
       "    .dataframe tbody tr th:only-of-type {\n",
       "        vertical-align: middle;\n",
       "    }\n",
       "\n",
       "    .dataframe tbody tr th {\n",
       "        vertical-align: top;\n",
       "    }\n",
       "\n",
       "    .dataframe thead th {\n",
       "        text-align: right;\n",
       "    }\n",
       "</style>\n",
       "<table border=\"1\" class=\"dataframe\">\n",
       "  <thead>\n",
       "    <tr style=\"text-align: right;\">\n",
       "      <th></th>\n",
       "      <th>DAYOFSERVICE</th>\n",
       "      <th>TRIPID</th>\n",
       "      <th>LINEID</th>\n",
       "      <th>ROUTEID</th>\n",
       "      <th>DIRECTION</th>\n",
       "      <th>PLANNEDTIME_ARR</th>\n",
       "      <th>PLANNEDTIME_DEP</th>\n",
       "      <th>ACTUALTIME_ARR</th>\n",
       "      <th>ACTUALTIME_DEP</th>\n",
       "    </tr>\n",
       "  </thead>\n",
       "  <tbody>\n",
       "    <tr>\n",
       "      <th>0</th>\n",
       "      <td>2018-02-07</td>\n",
       "      <td>6253783</td>\n",
       "      <td>68</td>\n",
       "      <td>68_80</td>\n",
       "      <td>1</td>\n",
       "      <td>87245</td>\n",
       "      <td>84600</td>\n",
       "      <td>87524.0</td>\n",
       "      <td>84600.0</td>\n",
       "    </tr>\n",
       "    <tr>\n",
       "      <th>1</th>\n",
       "      <td>2018-02-07</td>\n",
       "      <td>6254942</td>\n",
       "      <td>45A</td>\n",
       "      <td>45A_70</td>\n",
       "      <td>2</td>\n",
       "      <td>35512</td>\n",
       "      <td>32100</td>\n",
       "      <td>36329.0</td>\n",
       "      <td>32082.0</td>\n",
       "    </tr>\n",
       "    <tr>\n",
       "      <th>2</th>\n",
       "      <td>2018-02-07</td>\n",
       "      <td>6259460</td>\n",
       "      <td>25A</td>\n",
       "      <td>25A_273</td>\n",
       "      <td>1</td>\n",
       "      <td>57261</td>\n",
       "      <td>54420</td>\n",
       "      <td>58463.0</td>\n",
       "      <td>54443.0</td>\n",
       "    </tr>\n",
       "    <tr>\n",
       "      <th>3</th>\n",
       "      <td>2018-02-07</td>\n",
       "      <td>6253175</td>\n",
       "      <td>14</td>\n",
       "      <td>14_15</td>\n",
       "      <td>1</td>\n",
       "      <td>85383</td>\n",
       "      <td>81600</td>\n",
       "      <td>84682.0</td>\n",
       "      <td>81608.0</td>\n",
       "    </tr>\n",
       "    <tr>\n",
       "      <th>4</th>\n",
       "      <td>2018-02-07</td>\n",
       "      <td>6248240</td>\n",
       "      <td>77A</td>\n",
       "      <td>77A_28</td>\n",
       "      <td>2</td>\n",
       "      <td>41648</td>\n",
       "      <td>37200</td>\n",
       "      <td>42019.0</td>\n",
       "      <td>37538.0</td>\n",
       "    </tr>\n",
       "  </tbody>\n",
       "</table>\n",
       "</div>"
      ],
      "text/plain": [
       "  DAYOFSERVICE   TRIPID LINEID  ROUTEID  DIRECTION  PLANNEDTIME_ARR  \\\n",
       "0   2018-02-07  6253783     68    68_80          1            87245   \n",
       "1   2018-02-07  6254942    45A   45A_70          2            35512   \n",
       "2   2018-02-07  6259460    25A  25A_273          1            57261   \n",
       "3   2018-02-07  6253175     14    14_15          1            85383   \n",
       "4   2018-02-07  6248240    77A   77A_28          2            41648   \n",
       "\n",
       "   PLANNEDTIME_DEP  ACTUALTIME_ARR  ACTUALTIME_DEP  \n",
       "0            84600         87524.0         84600.0  \n",
       "1            32100         36329.0         32082.0  \n",
       "2            54420         58463.0         54443.0  \n",
       "3            81600         84682.0         81608.0  \n",
       "4            37200         42019.0         37538.0  "
      ]
     },
     "execution_count": 8,
     "metadata": {},
     "output_type": "execute_result"
    }
   ],
   "source": [
    "dftrips.head()"
   ]
  },
  {
   "cell_type": "code",
   "execution_count": 9,
   "metadata": {},
   "outputs": [],
   "source": [
    "# loading the route 1 data\n",
    "dfroute1 = pd.read_csv(\"route_1_leavetimes-cleaned.csv\", parse_dates=[0], infer_datetime_format=True)"
   ]
  },
  {
   "cell_type": "code",
   "execution_count": 10,
   "metadata": {},
   "outputs": [
    {
     "data": {
      "text/html": [
       "<div>\n",
       "<style scoped>\n",
       "    .dataframe tbody tr th:only-of-type {\n",
       "        vertical-align: middle;\n",
       "    }\n",
       "\n",
       "    .dataframe tbody tr th {\n",
       "        vertical-align: top;\n",
       "    }\n",
       "\n",
       "    .dataframe thead th {\n",
       "        text-align: right;\n",
       "    }\n",
       "</style>\n",
       "<table border=\"1\" class=\"dataframe\">\n",
       "  <thead>\n",
       "    <tr style=\"text-align: right;\">\n",
       "      <th></th>\n",
       "      <th>DAYOFSERVICE</th>\n",
       "      <th>TRIPID</th>\n",
       "      <th>PROGRNUMBER</th>\n",
       "      <th>STOPPOINTID</th>\n",
       "      <th>PLANNEDTIME_ARR</th>\n",
       "      <th>PLANNEDTIME_DEP</th>\n",
       "      <th>ACTUALTIME_ARR</th>\n",
       "      <th>ACTUALTIME_DEP</th>\n",
       "      <th>VEHICLEID</th>\n",
       "    </tr>\n",
       "  </thead>\n",
       "  <tbody>\n",
       "    <tr>\n",
       "      <th>0</th>\n",
       "      <td>2018-01-01</td>\n",
       "      <td>5972116</td>\n",
       "      <td>12</td>\n",
       "      <td>119</td>\n",
       "      <td>48030</td>\n",
       "      <td>48030</td>\n",
       "      <td>48012</td>\n",
       "      <td>48012</td>\n",
       "      <td>2693211</td>\n",
       "    </tr>\n",
       "    <tr>\n",
       "      <th>1</th>\n",
       "      <td>2018-01-01</td>\n",
       "      <td>5966674</td>\n",
       "      <td>12</td>\n",
       "      <td>119</td>\n",
       "      <td>54001</td>\n",
       "      <td>54001</td>\n",
       "      <td>54023</td>\n",
       "      <td>54023</td>\n",
       "      <td>2693267</td>\n",
       "    </tr>\n",
       "    <tr>\n",
       "      <th>2</th>\n",
       "      <td>2018-01-01</td>\n",
       "      <td>5959105</td>\n",
       "      <td>12</td>\n",
       "      <td>119</td>\n",
       "      <td>60001</td>\n",
       "      <td>60001</td>\n",
       "      <td>59955</td>\n",
       "      <td>59955</td>\n",
       "      <td>2693263</td>\n",
       "    </tr>\n",
       "    <tr>\n",
       "      <th>3</th>\n",
       "      <td>2018-01-01</td>\n",
       "      <td>5966888</td>\n",
       "      <td>12</td>\n",
       "      <td>119</td>\n",
       "      <td>58801</td>\n",
       "      <td>58801</td>\n",
       "      <td>58771</td>\n",
       "      <td>58771</td>\n",
       "      <td>2693284</td>\n",
       "    </tr>\n",
       "    <tr>\n",
       "      <th>4</th>\n",
       "      <td>2018-01-01</td>\n",
       "      <td>5965960</td>\n",
       "      <td>12</td>\n",
       "      <td>119</td>\n",
       "      <td>56401</td>\n",
       "      <td>56401</td>\n",
       "      <td>56309</td>\n",
       "      <td>56323</td>\n",
       "      <td>2693209</td>\n",
       "    </tr>\n",
       "  </tbody>\n",
       "</table>\n",
       "</div>"
      ],
      "text/plain": [
       "  DAYOFSERVICE   TRIPID  PROGRNUMBER  STOPPOINTID  PLANNEDTIME_ARR  \\\n",
       "0   2018-01-01  5972116           12          119            48030   \n",
       "1   2018-01-01  5966674           12          119            54001   \n",
       "2   2018-01-01  5959105           12          119            60001   \n",
       "3   2018-01-01  5966888           12          119            58801   \n",
       "4   2018-01-01  5965960           12          119            56401   \n",
       "\n",
       "   PLANNEDTIME_DEP  ACTUALTIME_ARR  ACTUALTIME_DEP  VEHICLEID  \n",
       "0            48030           48012           48012    2693211  \n",
       "1            54001           54023           54023    2693267  \n",
       "2            60001           59955           59955    2693263  \n",
       "3            58801           58771           58771    2693284  \n",
       "4            56401           56309           56323    2693209  "
      ]
     },
     "execution_count": 10,
     "metadata": {},
     "output_type": "execute_result"
    }
   ],
   "source": [
    "dfroute1.head()"
   ]
  },
  {
   "cell_type": "code",
   "execution_count": 11,
   "metadata": {},
   "outputs": [],
   "source": [
    "# loading in the weather datasets\n",
    "dfw = pd.read_csv(\"2018_historic_weather_3-cleaned.csv\", parse_dates=[1], infer_datetime_format=True)"
   ]
  },
  {
   "cell_type": "code",
   "execution_count": 12,
   "metadata": {},
   "outputs": [
    {
     "data": {
      "text/html": [
       "<div>\n",
       "<style scoped>\n",
       "    .dataframe tbody tr th:only-of-type {\n",
       "        vertical-align: middle;\n",
       "    }\n",
       "\n",
       "    .dataframe tbody tr th {\n",
       "        vertical-align: top;\n",
       "    }\n",
       "\n",
       "    .dataframe thead th {\n",
       "        text-align: right;\n",
       "    }\n",
       "</style>\n",
       "<table border=\"1\" class=\"dataframe\">\n",
       "  <thead>\n",
       "    <tr style=\"text-align: right;\">\n",
       "      <th></th>\n",
       "      <th>dt</th>\n",
       "      <th>dt_iso</th>\n",
       "      <th>temp</th>\n",
       "      <th>feels_like</th>\n",
       "      <th>temp_min</th>\n",
       "      <th>temp_max</th>\n",
       "      <th>pressure</th>\n",
       "      <th>humidity</th>\n",
       "      <th>wind_speed</th>\n",
       "      <th>wind_deg</th>\n",
       "      <th>clouds_all</th>\n",
       "      <th>weather_id</th>\n",
       "      <th>weather_main</th>\n",
       "      <th>weather_description</th>\n",
       "      <th>weather_icon</th>\n",
       "    </tr>\n",
       "  </thead>\n",
       "  <tbody>\n",
       "    <tr>\n",
       "      <th>0</th>\n",
       "      <td>1514764800</td>\n",
       "      <td>2018-01-01 00:00:00 +0000 UTC</td>\n",
       "      <td>4.15</td>\n",
       "      <td>-6.49</td>\n",
       "      <td>3.84</td>\n",
       "      <td>5.79</td>\n",
       "      <td>990</td>\n",
       "      <td>87</td>\n",
       "      <td>12.86</td>\n",
       "      <td>240</td>\n",
       "      <td>40</td>\n",
       "      <td>520</td>\n",
       "      <td>Rain</td>\n",
       "      <td>light intensity shower rain</td>\n",
       "      <td>09n</td>\n",
       "    </tr>\n",
       "    <tr>\n",
       "      <th>1</th>\n",
       "      <td>1514768400</td>\n",
       "      <td>2018-01-01 01:00:00 +0000 UTC</td>\n",
       "      <td>4.14</td>\n",
       "      <td>-5.79</td>\n",
       "      <td>3.65</td>\n",
       "      <td>5.86</td>\n",
       "      <td>991</td>\n",
       "      <td>87</td>\n",
       "      <td>11.83</td>\n",
       "      <td>240</td>\n",
       "      <td>75</td>\n",
       "      <td>520</td>\n",
       "      <td>Rain</td>\n",
       "      <td>light intensity shower rain</td>\n",
       "      <td>09n</td>\n",
       "    </tr>\n",
       "    <tr>\n",
       "      <th>2</th>\n",
       "      <td>1514772000</td>\n",
       "      <td>2018-01-01 02:00:00 +0000 UTC</td>\n",
       "      <td>4.61</td>\n",
       "      <td>-5.77</td>\n",
       "      <td>3.85</td>\n",
       "      <td>5.99</td>\n",
       "      <td>990</td>\n",
       "      <td>81</td>\n",
       "      <td>12.35</td>\n",
       "      <td>240</td>\n",
       "      <td>40</td>\n",
       "      <td>802</td>\n",
       "      <td>Clouds</td>\n",
       "      <td>scattered clouds</td>\n",
       "      <td>03n</td>\n",
       "    </tr>\n",
       "    <tr>\n",
       "      <th>3</th>\n",
       "      <td>1514775600</td>\n",
       "      <td>2018-01-01 03:00:00 +0000 UTC</td>\n",
       "      <td>4.64</td>\n",
       "      <td>-5.73</td>\n",
       "      <td>4.00</td>\n",
       "      <td>6.14</td>\n",
       "      <td>990</td>\n",
       "      <td>81</td>\n",
       "      <td>12.35</td>\n",
       "      <td>240</td>\n",
       "      <td>40</td>\n",
       "      <td>802</td>\n",
       "      <td>Clouds</td>\n",
       "      <td>scattered clouds</td>\n",
       "      <td>03n</td>\n",
       "    </tr>\n",
       "    <tr>\n",
       "      <th>4</th>\n",
       "      <td>1514779200</td>\n",
       "      <td>2018-01-01 04:00:00 +0000 UTC</td>\n",
       "      <td>5.04</td>\n",
       "      <td>-4.91</td>\n",
       "      <td>4.11</td>\n",
       "      <td>6.22</td>\n",
       "      <td>990</td>\n",
       "      <td>81</td>\n",
       "      <td>11.83</td>\n",
       "      <td>240</td>\n",
       "      <td>40</td>\n",
       "      <td>802</td>\n",
       "      <td>Clouds</td>\n",
       "      <td>scattered clouds</td>\n",
       "      <td>03n</td>\n",
       "    </tr>\n",
       "  </tbody>\n",
       "</table>\n",
       "</div>"
      ],
      "text/plain": [
       "           dt                         dt_iso  temp  feels_like  temp_min  \\\n",
       "0  1514764800  2018-01-01 00:00:00 +0000 UTC  4.15       -6.49      3.84   \n",
       "1  1514768400  2018-01-01 01:00:00 +0000 UTC  4.14       -5.79      3.65   \n",
       "2  1514772000  2018-01-01 02:00:00 +0000 UTC  4.61       -5.77      3.85   \n",
       "3  1514775600  2018-01-01 03:00:00 +0000 UTC  4.64       -5.73      4.00   \n",
       "4  1514779200  2018-01-01 04:00:00 +0000 UTC  5.04       -4.91      4.11   \n",
       "\n",
       "   temp_max  pressure  humidity  wind_speed  wind_deg  clouds_all  weather_id  \\\n",
       "0      5.79       990        87       12.86       240          40         520   \n",
       "1      5.86       991        87       11.83       240          75         520   \n",
       "2      5.99       990        81       12.35       240          40         802   \n",
       "3      6.14       990        81       12.35       240          40         802   \n",
       "4      6.22       990        81       11.83       240          40         802   \n",
       "\n",
       "  weather_main          weather_description weather_icon  \n",
       "0         Rain  light intensity shower rain          09n  \n",
       "1         Rain  light intensity shower rain          09n  \n",
       "2       Clouds             scattered clouds          03n  \n",
       "3       Clouds             scattered clouds          03n  \n",
       "4       Clouds             scattered clouds          03n  "
      ]
     },
     "execution_count": 12,
     "metadata": {},
     "output_type": "execute_result"
    }
   ],
   "source": [
    "dfw.head()"
   ]
  },
  {
   "cell_type": "code",
   "execution_count": 13,
   "metadata": {},
   "outputs": [],
   "source": [
    "# loading in the south Dublin traffic data\n",
    "dftraffic = pd.read_csv(\"ExtraDatasets/SDCC_Traffic_Congestion_Saturation_Flow_Data_2018.csv\", parse_dates=[2, 3], infer_datetime_format=True)"
   ]
  },
  {
   "cell_type": "code",
   "execution_count": 14,
   "metadata": {},
   "outputs": [
    {
     "data": {
      "text/html": [
       "<div>\n",
       "<style scoped>\n",
       "    .dataframe tbody tr th:only-of-type {\n",
       "        vertical-align: middle;\n",
       "    }\n",
       "\n",
       "    .dataframe tbody tr th {\n",
       "        vertical-align: top;\n",
       "    }\n",
       "\n",
       "    .dataframe thead th {\n",
       "        text-align: right;\n",
       "    }\n",
       "</style>\n",
       "<table border=\"1\" class=\"dataframe\">\n",
       "  <thead>\n",
       "    <tr style=\"text-align: right;\">\n",
       "      <th></th>\n",
       "      <th>site</th>\n",
       "      <th>day</th>\n",
       "      <th>date</th>\n",
       "      <th>start_time</th>\n",
       "      <th>end_time</th>\n",
       "      <th>flow</th>\n",
       "      <th>flow_pc</th>\n",
       "      <th>cong</th>\n",
       "      <th>cong_pc</th>\n",
       "      <th>dsat</th>\n",
       "      <th>dsat_pc</th>\n",
       "      <th>ObjectId</th>\n",
       "    </tr>\n",
       "  </thead>\n",
       "  <tbody>\n",
       "    <tr>\n",
       "      <th>0</th>\n",
       "      <td>N01111A</td>\n",
       "      <td>MO</td>\n",
       "      <td>2018-01-01</td>\n",
       "      <td>2020-10-30 00:00:00</td>\n",
       "      <td>00:15</td>\n",
       "      <td>16</td>\n",
       "      <td>100</td>\n",
       "      <td>0</td>\n",
       "      <td>100</td>\n",
       "      <td>2</td>\n",
       "      <td>21</td>\n",
       "      <td>1</td>\n",
       "    </tr>\n",
       "    <tr>\n",
       "      <th>1</th>\n",
       "      <td>N01111A</td>\n",
       "      <td>MO</td>\n",
       "      <td>2018-01-01</td>\n",
       "      <td>2020-10-30 00:15:00</td>\n",
       "      <td>00:30</td>\n",
       "      <td>75</td>\n",
       "      <td>100</td>\n",
       "      <td>0</td>\n",
       "      <td>100</td>\n",
       "      <td>5</td>\n",
       "      <td>20</td>\n",
       "      <td>2</td>\n",
       "    </tr>\n",
       "    <tr>\n",
       "      <th>2</th>\n",
       "      <td>N01111A</td>\n",
       "      <td>MO</td>\n",
       "      <td>2018-01-01</td>\n",
       "      <td>2020-10-30 00:30:00</td>\n",
       "      <td>00:45</td>\n",
       "      <td>103</td>\n",
       "      <td>100</td>\n",
       "      <td>0</td>\n",
       "      <td>100</td>\n",
       "      <td>4</td>\n",
       "      <td>75</td>\n",
       "      <td>3</td>\n",
       "    </tr>\n",
       "    <tr>\n",
       "      <th>3</th>\n",
       "      <td>N01111A</td>\n",
       "      <td>MO</td>\n",
       "      <td>2018-01-01</td>\n",
       "      <td>2020-10-30 00:45:00</td>\n",
       "      <td>01:00</td>\n",
       "      <td>78</td>\n",
       "      <td>100</td>\n",
       "      <td>0</td>\n",
       "      <td>100</td>\n",
       "      <td>4</td>\n",
       "      <td>65</td>\n",
       "      <td>4</td>\n",
       "    </tr>\n",
       "    <tr>\n",
       "      <th>4</th>\n",
       "      <td>N01111A</td>\n",
       "      <td>MO</td>\n",
       "      <td>2018-01-01</td>\n",
       "      <td>2020-10-30 01:00:00</td>\n",
       "      <td>01:15</td>\n",
       "      <td>111</td>\n",
       "      <td>100</td>\n",
       "      <td>0</td>\n",
       "      <td>100</td>\n",
       "      <td>4</td>\n",
       "      <td>23</td>\n",
       "      <td>5</td>\n",
       "    </tr>\n",
       "  </tbody>\n",
       "</table>\n",
       "</div>"
      ],
      "text/plain": [
       "      site day       date          start_time end_time  flow  flow_pc  cong  \\\n",
       "0  N01111A  MO 2018-01-01 2020-10-30 00:00:00    00:15    16      100     0   \n",
       "1  N01111A  MO 2018-01-01 2020-10-30 00:15:00    00:30    75      100     0   \n",
       "2  N01111A  MO 2018-01-01 2020-10-30 00:30:00    00:45   103      100     0   \n",
       "3  N01111A  MO 2018-01-01 2020-10-30 00:45:00    01:00    78      100     0   \n",
       "4  N01111A  MO 2018-01-01 2020-10-30 01:00:00    01:15   111      100     0   \n",
       "\n",
       "   cong_pc  dsat  dsat_pc  ObjectId  \n",
       "0      100     2       21         1  \n",
       "1      100     5       20         2  \n",
       "2      100     4       75         3  \n",
       "3      100     4       65         4  \n",
       "4      100     4       23         5  "
      ]
     },
     "execution_count": 14,
     "metadata": {},
     "output_type": "execute_result"
    }
   ],
   "source": [
    "dftraffic.head()"
   ]
  },
  {
   "cell_type": "code",
   "execution_count": 15,
   "metadata": {},
   "outputs": [],
   "source": [
    "# loading in the stops data\n",
    "dfs = pd.read_csv(\"stops-cleaned.csv\")"
   ]
  },
  {
   "cell_type": "code",
   "execution_count": 16,
   "metadata": {},
   "outputs": [
    {
     "data": {
      "text/html": [
       "<div>\n",
       "<style scoped>\n",
       "    .dataframe tbody tr th:only-of-type {\n",
       "        vertical-align: middle;\n",
       "    }\n",
       "\n",
       "    .dataframe tbody tr th {\n",
       "        vertical-align: top;\n",
       "    }\n",
       "\n",
       "    .dataframe thead th {\n",
       "        text-align: right;\n",
       "    }\n",
       "</style>\n",
       "<table border=\"1\" class=\"dataframe\">\n",
       "  <thead>\n",
       "    <tr style=\"text-align: right;\">\n",
       "      <th></th>\n",
       "      <th>stop_id</th>\n",
       "      <th>stop_name</th>\n",
       "      <th>stop_lat</th>\n",
       "      <th>stop_lon</th>\n",
       "      <th>stop_number</th>\n",
       "    </tr>\n",
       "  </thead>\n",
       "  <tbody>\n",
       "    <tr>\n",
       "      <th>0</th>\n",
       "      <td>8220DB000002</td>\n",
       "      <td>Parnell Square West, stop 2</td>\n",
       "      <td>53.352244</td>\n",
       "      <td>-6.263723</td>\n",
       "      <td>2.0</td>\n",
       "    </tr>\n",
       "    <tr>\n",
       "      <th>1</th>\n",
       "      <td>8220DB000003</td>\n",
       "      <td>Parnell Square West, stop 3</td>\n",
       "      <td>53.352309</td>\n",
       "      <td>-6.263811</td>\n",
       "      <td>3.0</td>\n",
       "    </tr>\n",
       "    <tr>\n",
       "      <th>2</th>\n",
       "      <td>8220DB000004</td>\n",
       "      <td>Parnell Square West, stop 4</td>\n",
       "      <td>53.352575</td>\n",
       "      <td>-6.264175</td>\n",
       "      <td>4.0</td>\n",
       "    </tr>\n",
       "    <tr>\n",
       "      <th>3</th>\n",
       "      <td>8220DB000006</td>\n",
       "      <td>Parnell Square West, stop 6</td>\n",
       "      <td>53.352749</td>\n",
       "      <td>-6.264454</td>\n",
       "      <td>6.0</td>\n",
       "    </tr>\n",
       "    <tr>\n",
       "      <th>4</th>\n",
       "      <td>8220DB000007</td>\n",
       "      <td>Parnell Square West, stop 7</td>\n",
       "      <td>53.352841</td>\n",
       "      <td>-6.264570</td>\n",
       "      <td>7.0</td>\n",
       "    </tr>\n",
       "  </tbody>\n",
       "</table>\n",
       "</div>"
      ],
      "text/plain": [
       "        stop_id                    stop_name   stop_lat  stop_lon  stop_number\n",
       "0  8220DB000002  Parnell Square West, stop 2  53.352244 -6.263723          2.0\n",
       "1  8220DB000003  Parnell Square West, stop 3  53.352309 -6.263811          3.0\n",
       "2  8220DB000004  Parnell Square West, stop 4  53.352575 -6.264175          4.0\n",
       "3  8220DB000006  Parnell Square West, stop 6  53.352749 -6.264454          6.0\n",
       "4  8220DB000007  Parnell Square West, stop 7  53.352841 -6.264570          7.0"
      ]
     },
     "execution_count": 16,
     "metadata": {},
     "output_type": "execute_result"
    }
   ],
   "source": [
    "dfs.head()"
   ]
  },
  {
   "cell_type": "markdown",
   "metadata": {},
   "source": [
    "## 2.2 - Adding Useful Columns to Current Dataframes"
   ]
  },
  {
   "cell_type": "code",
   "execution_count": 17,
   "metadata": {},
   "outputs": [
    {
     "data": {
      "text/html": [
       "<div>\n",
       "<style scoped>\n",
       "    .dataframe tbody tr th:only-of-type {\n",
       "        vertical-align: middle;\n",
       "    }\n",
       "\n",
       "    .dataframe tbody tr th {\n",
       "        vertical-align: top;\n",
       "    }\n",
       "\n",
       "    .dataframe thead th {\n",
       "        text-align: right;\n",
       "    }\n",
       "</style>\n",
       "<table border=\"1\" class=\"dataframe\">\n",
       "  <thead>\n",
       "    <tr style=\"text-align: right;\">\n",
       "      <th></th>\n",
       "      <th>DAYOFSERVICE</th>\n",
       "      <th>TRIPID</th>\n",
       "      <th>LINEID</th>\n",
       "      <th>ROUTEID</th>\n",
       "      <th>DIRECTION</th>\n",
       "      <th>PLANNEDTIME_ARR</th>\n",
       "      <th>PLANNEDTIME_DEP</th>\n",
       "      <th>ACTUALTIME_ARR</th>\n",
       "      <th>ACTUALTIME_DEP</th>\n",
       "      <th>TRAVELTIME</th>\n",
       "    </tr>\n",
       "  </thead>\n",
       "  <tbody>\n",
       "    <tr>\n",
       "      <th>0</th>\n",
       "      <td>2018-02-07</td>\n",
       "      <td>6253783</td>\n",
       "      <td>68</td>\n",
       "      <td>68_80</td>\n",
       "      <td>1</td>\n",
       "      <td>87245</td>\n",
       "      <td>84600</td>\n",
       "      <td>87524.0</td>\n",
       "      <td>84600.0</td>\n",
       "      <td>2924.0</td>\n",
       "    </tr>\n",
       "    <tr>\n",
       "      <th>1</th>\n",
       "      <td>2018-02-07</td>\n",
       "      <td>6254942</td>\n",
       "      <td>45A</td>\n",
       "      <td>45A_70</td>\n",
       "      <td>2</td>\n",
       "      <td>35512</td>\n",
       "      <td>32100</td>\n",
       "      <td>36329.0</td>\n",
       "      <td>32082.0</td>\n",
       "      <td>4247.0</td>\n",
       "    </tr>\n",
       "    <tr>\n",
       "      <th>2</th>\n",
       "      <td>2018-02-07</td>\n",
       "      <td>6259460</td>\n",
       "      <td>25A</td>\n",
       "      <td>25A_273</td>\n",
       "      <td>1</td>\n",
       "      <td>57261</td>\n",
       "      <td>54420</td>\n",
       "      <td>58463.0</td>\n",
       "      <td>54443.0</td>\n",
       "      <td>4020.0</td>\n",
       "    </tr>\n",
       "    <tr>\n",
       "      <th>3</th>\n",
       "      <td>2018-02-07</td>\n",
       "      <td>6253175</td>\n",
       "      <td>14</td>\n",
       "      <td>14_15</td>\n",
       "      <td>1</td>\n",
       "      <td>85383</td>\n",
       "      <td>81600</td>\n",
       "      <td>84682.0</td>\n",
       "      <td>81608.0</td>\n",
       "      <td>3074.0</td>\n",
       "    </tr>\n",
       "    <tr>\n",
       "      <th>4</th>\n",
       "      <td>2018-02-07</td>\n",
       "      <td>6248240</td>\n",
       "      <td>77A</td>\n",
       "      <td>77A_28</td>\n",
       "      <td>2</td>\n",
       "      <td>41648</td>\n",
       "      <td>37200</td>\n",
       "      <td>42019.0</td>\n",
       "      <td>37538.0</td>\n",
       "      <td>4481.0</td>\n",
       "    </tr>\n",
       "  </tbody>\n",
       "</table>\n",
       "</div>"
      ],
      "text/plain": [
       "  DAYOFSERVICE   TRIPID LINEID  ROUTEID  DIRECTION  PLANNEDTIME_ARR  \\\n",
       "0   2018-02-07  6253783     68    68_80          1            87245   \n",
       "1   2018-02-07  6254942    45A   45A_70          2            35512   \n",
       "2   2018-02-07  6259460    25A  25A_273          1            57261   \n",
       "3   2018-02-07  6253175     14    14_15          1            85383   \n",
       "4   2018-02-07  6248240    77A   77A_28          2            41648   \n",
       "\n",
       "   PLANNEDTIME_DEP  ACTUALTIME_ARR  ACTUALTIME_DEP  TRAVELTIME  \n",
       "0            84600         87524.0         84600.0      2924.0  \n",
       "1            32100         36329.0         32082.0      4247.0  \n",
       "2            54420         58463.0         54443.0      4020.0  \n",
       "3            81600         84682.0         81608.0      3074.0  \n",
       "4            37200         42019.0         37538.0      4481.0  "
      ]
     },
     "execution_count": 17,
     "metadata": {},
     "output_type": "execute_result"
    }
   ],
   "source": [
    "# adding TRAVELTIME column to the trips dataframe\n",
    "dftrips['TRAVELTIME'] = dftrips['ACTUALTIME_ARR'] - dftrips['ACTUALTIME_DEP']\n",
    "dftrips.head()"
   ]
  },
  {
   "cell_type": "code",
   "execution_count": 18,
   "metadata": {},
   "outputs": [
    {
     "data": {
      "text/html": [
       "<div>\n",
       "<style scoped>\n",
       "    .dataframe tbody tr th:only-of-type {\n",
       "        vertical-align: middle;\n",
       "    }\n",
       "\n",
       "    .dataframe tbody tr th {\n",
       "        vertical-align: top;\n",
       "    }\n",
       "\n",
       "    .dataframe thead th {\n",
       "        text-align: right;\n",
       "    }\n",
       "</style>\n",
       "<table border=\"1\" class=\"dataframe\">\n",
       "  <thead>\n",
       "    <tr style=\"text-align: right;\">\n",
       "      <th></th>\n",
       "      <th>DAYOFSERVICE</th>\n",
       "      <th>TRIPID</th>\n",
       "      <th>PROGRNUMBER</th>\n",
       "      <th>STOPPOINTID</th>\n",
       "      <th>PLANNEDTIME_ARR</th>\n",
       "      <th>PLANNEDTIME_DEP</th>\n",
       "      <th>ACTUALTIME_ARR</th>\n",
       "      <th>ACTUALTIME_DEP</th>\n",
       "      <th>VEHICLEID</th>\n",
       "      <th>STOPTIME</th>\n",
       "    </tr>\n",
       "  </thead>\n",
       "  <tbody>\n",
       "    <tr>\n",
       "      <th>0</th>\n",
       "      <td>2018-01-01</td>\n",
       "      <td>5972116</td>\n",
       "      <td>12</td>\n",
       "      <td>119</td>\n",
       "      <td>48030</td>\n",
       "      <td>48030</td>\n",
       "      <td>48012</td>\n",
       "      <td>48012</td>\n",
       "      <td>2693211</td>\n",
       "      <td>0</td>\n",
       "    </tr>\n",
       "    <tr>\n",
       "      <th>1</th>\n",
       "      <td>2018-01-01</td>\n",
       "      <td>5966674</td>\n",
       "      <td>12</td>\n",
       "      <td>119</td>\n",
       "      <td>54001</td>\n",
       "      <td>54001</td>\n",
       "      <td>54023</td>\n",
       "      <td>54023</td>\n",
       "      <td>2693267</td>\n",
       "      <td>0</td>\n",
       "    </tr>\n",
       "    <tr>\n",
       "      <th>2</th>\n",
       "      <td>2018-01-01</td>\n",
       "      <td>5959105</td>\n",
       "      <td>12</td>\n",
       "      <td>119</td>\n",
       "      <td>60001</td>\n",
       "      <td>60001</td>\n",
       "      <td>59955</td>\n",
       "      <td>59955</td>\n",
       "      <td>2693263</td>\n",
       "      <td>0</td>\n",
       "    </tr>\n",
       "    <tr>\n",
       "      <th>3</th>\n",
       "      <td>2018-01-01</td>\n",
       "      <td>5966888</td>\n",
       "      <td>12</td>\n",
       "      <td>119</td>\n",
       "      <td>58801</td>\n",
       "      <td>58801</td>\n",
       "      <td>58771</td>\n",
       "      <td>58771</td>\n",
       "      <td>2693284</td>\n",
       "      <td>0</td>\n",
       "    </tr>\n",
       "    <tr>\n",
       "      <th>4</th>\n",
       "      <td>2018-01-01</td>\n",
       "      <td>5965960</td>\n",
       "      <td>12</td>\n",
       "      <td>119</td>\n",
       "      <td>56401</td>\n",
       "      <td>56401</td>\n",
       "      <td>56309</td>\n",
       "      <td>56323</td>\n",
       "      <td>2693209</td>\n",
       "      <td>14</td>\n",
       "    </tr>\n",
       "  </tbody>\n",
       "</table>\n",
       "</div>"
      ],
      "text/plain": [
       "  DAYOFSERVICE   TRIPID  PROGRNUMBER  STOPPOINTID  PLANNEDTIME_ARR  \\\n",
       "0   2018-01-01  5972116           12          119            48030   \n",
       "1   2018-01-01  5966674           12          119            54001   \n",
       "2   2018-01-01  5959105           12          119            60001   \n",
       "3   2018-01-01  5966888           12          119            58801   \n",
       "4   2018-01-01  5965960           12          119            56401   \n",
       "\n",
       "   PLANNEDTIME_DEP  ACTUALTIME_ARR  ACTUALTIME_DEP  VEHICLEID  STOPTIME  \n",
       "0            48030           48012           48012    2693211         0  \n",
       "1            54001           54023           54023    2693267         0  \n",
       "2            60001           59955           59955    2693263         0  \n",
       "3            58801           58771           58771    2693284         0  \n",
       "4            56401           56309           56323    2693209        14  "
      ]
     },
     "execution_count": 18,
     "metadata": {},
     "output_type": "execute_result"
    }
   ],
   "source": [
    "# adding STOPTIME column to the route1 dataframe\n",
    "dfroute1['STOPTIME'] = dfroute1['ACTUALTIME_DEP'] - dfroute1['ACTUALTIME_ARR']\n",
    "dfroute1.head()"
   ]
  },
  {
   "cell_type": "code",
   "execution_count": 19,
   "metadata": {},
   "outputs": [],
   "source": [
    "# adding TRIPSTART to route 1 dataframe which is the departure time for the entire trip\n",
    "dfroute1new = dfroute1.merge(dftrips, on = ['DAYOFSERVICE', 'TRIPID'])"
   ]
  },
  {
   "cell_type": "code",
   "execution_count": 20,
   "metadata": {},
   "outputs": [
    {
     "data": {
      "text/html": [
       "<div>\n",
       "<style scoped>\n",
       "    .dataframe tbody tr th:only-of-type {\n",
       "        vertical-align: middle;\n",
       "    }\n",
       "\n",
       "    .dataframe tbody tr th {\n",
       "        vertical-align: top;\n",
       "    }\n",
       "\n",
       "    .dataframe thead th {\n",
       "        text-align: right;\n",
       "    }\n",
       "</style>\n",
       "<table border=\"1\" class=\"dataframe\">\n",
       "  <thead>\n",
       "    <tr style=\"text-align: right;\">\n",
       "      <th></th>\n",
       "      <th>DAYOFSERVICE</th>\n",
       "      <th>TRIPID</th>\n",
       "      <th>PROGRNUMBER</th>\n",
       "      <th>STOPPOINTID</th>\n",
       "      <th>PLANNEDTIME_ARR_x</th>\n",
       "      <th>PLANNEDTIME_DEP_x</th>\n",
       "      <th>ACTUALTIME_ARR_x</th>\n",
       "      <th>ACTUALTIME_DEP_x</th>\n",
       "      <th>VEHICLEID</th>\n",
       "      <th>STOPTIME</th>\n",
       "      <th>LINEID</th>\n",
       "      <th>ROUTEID</th>\n",
       "      <th>DIRECTION</th>\n",
       "      <th>PLANNEDTIME_ARR_y</th>\n",
       "      <th>PLANNEDTIME_DEP_y</th>\n",
       "      <th>ACTUALTIME_ARR_y</th>\n",
       "      <th>ACTUALTIME_DEP_y</th>\n",
       "      <th>TRAVELTIME</th>\n",
       "    </tr>\n",
       "  </thead>\n",
       "  <tbody>\n",
       "    <tr>\n",
       "      <th>0</th>\n",
       "      <td>2018-01-01</td>\n",
       "      <td>5972116</td>\n",
       "      <td>12</td>\n",
       "      <td>119</td>\n",
       "      <td>48030</td>\n",
       "      <td>48030</td>\n",
       "      <td>48012</td>\n",
       "      <td>48012</td>\n",
       "      <td>2693211</td>\n",
       "      <td>0</td>\n",
       "      <td>1</td>\n",
       "      <td>1_37</td>\n",
       "      <td>1</td>\n",
       "      <td>50199</td>\n",
       "      <td>47400</td>\n",
       "      <td>49653.0</td>\n",
       "      <td>47427.0</td>\n",
       "      <td>2226.0</td>\n",
       "    </tr>\n",
       "    <tr>\n",
       "      <th>1</th>\n",
       "      <td>2018-01-01</td>\n",
       "      <td>5972116</td>\n",
       "      <td>13</td>\n",
       "      <td>44</td>\n",
       "      <td>48079</td>\n",
       "      <td>48079</td>\n",
       "      <td>48058</td>\n",
       "      <td>48058</td>\n",
       "      <td>2693211</td>\n",
       "      <td>0</td>\n",
       "      <td>1</td>\n",
       "      <td>1_37</td>\n",
       "      <td>1</td>\n",
       "      <td>50199</td>\n",
       "      <td>47400</td>\n",
       "      <td>49653.0</td>\n",
       "      <td>47427.0</td>\n",
       "      <td>2226.0</td>\n",
       "    </tr>\n",
       "    <tr>\n",
       "      <th>2</th>\n",
       "      <td>2018-01-01</td>\n",
       "      <td>5972116</td>\n",
       "      <td>14</td>\n",
       "      <td>7603</td>\n",
       "      <td>48114</td>\n",
       "      <td>48114</td>\n",
       "      <td>48071</td>\n",
       "      <td>48071</td>\n",
       "      <td>2693211</td>\n",
       "      <td>0</td>\n",
       "      <td>1</td>\n",
       "      <td>1_37</td>\n",
       "      <td>1</td>\n",
       "      <td>50199</td>\n",
       "      <td>47400</td>\n",
       "      <td>49653.0</td>\n",
       "      <td>47427.0</td>\n",
       "      <td>2226.0</td>\n",
       "    </tr>\n",
       "    <tr>\n",
       "      <th>3</th>\n",
       "      <td>2018-01-01</td>\n",
       "      <td>5972116</td>\n",
       "      <td>15</td>\n",
       "      <td>45</td>\n",
       "      <td>48155</td>\n",
       "      <td>48155</td>\n",
       "      <td>48089</td>\n",
       "      <td>48100</td>\n",
       "      <td>2693211</td>\n",
       "      <td>11</td>\n",
       "      <td>1</td>\n",
       "      <td>1_37</td>\n",
       "      <td>1</td>\n",
       "      <td>50199</td>\n",
       "      <td>47400</td>\n",
       "      <td>49653.0</td>\n",
       "      <td>47427.0</td>\n",
       "      <td>2226.0</td>\n",
       "    </tr>\n",
       "    <tr>\n",
       "      <th>4</th>\n",
       "      <td>2018-01-01</td>\n",
       "      <td>5972116</td>\n",
       "      <td>16</td>\n",
       "      <td>46</td>\n",
       "      <td>48221</td>\n",
       "      <td>48221</td>\n",
       "      <td>48137</td>\n",
       "      <td>48137</td>\n",
       "      <td>2693211</td>\n",
       "      <td>0</td>\n",
       "      <td>1</td>\n",
       "      <td>1_37</td>\n",
       "      <td>1</td>\n",
       "      <td>50199</td>\n",
       "      <td>47400</td>\n",
       "      <td>49653.0</td>\n",
       "      <td>47427.0</td>\n",
       "      <td>2226.0</td>\n",
       "    </tr>\n",
       "  </tbody>\n",
       "</table>\n",
       "</div>"
      ],
      "text/plain": [
       "  DAYOFSERVICE   TRIPID  PROGRNUMBER  STOPPOINTID  PLANNEDTIME_ARR_x  \\\n",
       "0   2018-01-01  5972116           12          119              48030   \n",
       "1   2018-01-01  5972116           13           44              48079   \n",
       "2   2018-01-01  5972116           14         7603              48114   \n",
       "3   2018-01-01  5972116           15           45              48155   \n",
       "4   2018-01-01  5972116           16           46              48221   \n",
       "\n",
       "   PLANNEDTIME_DEP_x  ACTUALTIME_ARR_x  ACTUALTIME_DEP_x  VEHICLEID  STOPTIME  \\\n",
       "0              48030             48012             48012    2693211         0   \n",
       "1              48079             48058             48058    2693211         0   \n",
       "2              48114             48071             48071    2693211         0   \n",
       "3              48155             48089             48100    2693211        11   \n",
       "4              48221             48137             48137    2693211         0   \n",
       "\n",
       "  LINEID ROUTEID  DIRECTION  PLANNEDTIME_ARR_y  PLANNEDTIME_DEP_y  \\\n",
       "0      1    1_37          1              50199              47400   \n",
       "1      1    1_37          1              50199              47400   \n",
       "2      1    1_37          1              50199              47400   \n",
       "3      1    1_37          1              50199              47400   \n",
       "4      1    1_37          1              50199              47400   \n",
       "\n",
       "   ACTUALTIME_ARR_y  ACTUALTIME_DEP_y  TRAVELTIME  \n",
       "0           49653.0           47427.0      2226.0  \n",
       "1           49653.0           47427.0      2226.0  \n",
       "2           49653.0           47427.0      2226.0  \n",
       "3           49653.0           47427.0      2226.0  \n",
       "4           49653.0           47427.0      2226.0  "
      ]
     },
     "execution_count": 20,
     "metadata": {},
     "output_type": "execute_result"
    }
   ],
   "source": [
    "dfroute1new.head()"
   ]
  },
  {
   "cell_type": "code",
   "execution_count": 21,
   "metadata": {},
   "outputs": [],
   "source": [
    "# keeping only the columns we want for dfroute1\n",
    "dfroute1 = dfroute1new[['DAYOFSERVICE', 'TRIPID', 'PROGRNUMBER', 'STOPPOINTID', 'PLANNEDTIME_ARR_x', 'PLANNEDTIME_DEP_x', 'ACTUALTIME_ARR_x', 'ACTUALTIME_DEP_x', 'VEHICLEID', 'DIRECTION', 'STOPTIME', 'ACTUALTIME_DEP_y']]"
   ]
  },
  {
   "cell_type": "code",
   "execution_count": 22,
   "metadata": {},
   "outputs": [
    {
     "data": {
      "text/html": [
       "<div>\n",
       "<style scoped>\n",
       "    .dataframe tbody tr th:only-of-type {\n",
       "        vertical-align: middle;\n",
       "    }\n",
       "\n",
       "    .dataframe tbody tr th {\n",
       "        vertical-align: top;\n",
       "    }\n",
       "\n",
       "    .dataframe thead th {\n",
       "        text-align: right;\n",
       "    }\n",
       "</style>\n",
       "<table border=\"1\" class=\"dataframe\">\n",
       "  <thead>\n",
       "    <tr style=\"text-align: right;\">\n",
       "      <th></th>\n",
       "      <th>DAYOFSERVICE</th>\n",
       "      <th>TRIPID</th>\n",
       "      <th>PROGRNUMBER</th>\n",
       "      <th>STOPPOINTID</th>\n",
       "      <th>PLANNEDTIME_ARR_x</th>\n",
       "      <th>PLANNEDTIME_DEP_x</th>\n",
       "      <th>ACTUALTIME_ARR_x</th>\n",
       "      <th>ACTUALTIME_DEP_x</th>\n",
       "      <th>VEHICLEID</th>\n",
       "      <th>DIRECTION</th>\n",
       "      <th>STOPTIME</th>\n",
       "      <th>ACTUALTIME_DEP_y</th>\n",
       "    </tr>\n",
       "  </thead>\n",
       "  <tbody>\n",
       "    <tr>\n",
       "      <th>0</th>\n",
       "      <td>2018-01-01</td>\n",
       "      <td>5972116</td>\n",
       "      <td>12</td>\n",
       "      <td>119</td>\n",
       "      <td>48030</td>\n",
       "      <td>48030</td>\n",
       "      <td>48012</td>\n",
       "      <td>48012</td>\n",
       "      <td>2693211</td>\n",
       "      <td>1</td>\n",
       "      <td>0</td>\n",
       "      <td>47427.0</td>\n",
       "    </tr>\n",
       "    <tr>\n",
       "      <th>1</th>\n",
       "      <td>2018-01-01</td>\n",
       "      <td>5972116</td>\n",
       "      <td>13</td>\n",
       "      <td>44</td>\n",
       "      <td>48079</td>\n",
       "      <td>48079</td>\n",
       "      <td>48058</td>\n",
       "      <td>48058</td>\n",
       "      <td>2693211</td>\n",
       "      <td>1</td>\n",
       "      <td>0</td>\n",
       "      <td>47427.0</td>\n",
       "    </tr>\n",
       "    <tr>\n",
       "      <th>2</th>\n",
       "      <td>2018-01-01</td>\n",
       "      <td>5972116</td>\n",
       "      <td>14</td>\n",
       "      <td>7603</td>\n",
       "      <td>48114</td>\n",
       "      <td>48114</td>\n",
       "      <td>48071</td>\n",
       "      <td>48071</td>\n",
       "      <td>2693211</td>\n",
       "      <td>1</td>\n",
       "      <td>0</td>\n",
       "      <td>47427.0</td>\n",
       "    </tr>\n",
       "    <tr>\n",
       "      <th>3</th>\n",
       "      <td>2018-01-01</td>\n",
       "      <td>5972116</td>\n",
       "      <td>15</td>\n",
       "      <td>45</td>\n",
       "      <td>48155</td>\n",
       "      <td>48155</td>\n",
       "      <td>48089</td>\n",
       "      <td>48100</td>\n",
       "      <td>2693211</td>\n",
       "      <td>1</td>\n",
       "      <td>11</td>\n",
       "      <td>47427.0</td>\n",
       "    </tr>\n",
       "    <tr>\n",
       "      <th>4</th>\n",
       "      <td>2018-01-01</td>\n",
       "      <td>5972116</td>\n",
       "      <td>16</td>\n",
       "      <td>46</td>\n",
       "      <td>48221</td>\n",
       "      <td>48221</td>\n",
       "      <td>48137</td>\n",
       "      <td>48137</td>\n",
       "      <td>2693211</td>\n",
       "      <td>1</td>\n",
       "      <td>0</td>\n",
       "      <td>47427.0</td>\n",
       "    </tr>\n",
       "  </tbody>\n",
       "</table>\n",
       "</div>"
      ],
      "text/plain": [
       "  DAYOFSERVICE   TRIPID  PROGRNUMBER  STOPPOINTID  PLANNEDTIME_ARR_x  \\\n",
       "0   2018-01-01  5972116           12          119              48030   \n",
       "1   2018-01-01  5972116           13           44              48079   \n",
       "2   2018-01-01  5972116           14         7603              48114   \n",
       "3   2018-01-01  5972116           15           45              48155   \n",
       "4   2018-01-01  5972116           16           46              48221   \n",
       "\n",
       "   PLANNEDTIME_DEP_x  ACTUALTIME_ARR_x  ACTUALTIME_DEP_x  VEHICLEID  \\\n",
       "0              48030             48012             48012    2693211   \n",
       "1              48079             48058             48058    2693211   \n",
       "2              48114             48071             48071    2693211   \n",
       "3              48155             48089             48100    2693211   \n",
       "4              48221             48137             48137    2693211   \n",
       "\n",
       "   DIRECTION  STOPTIME  ACTUALTIME_DEP_y  \n",
       "0          1         0           47427.0  \n",
       "1          1         0           47427.0  \n",
       "2          1         0           47427.0  \n",
       "3          1        11           47427.0  \n",
       "4          1         0           47427.0  "
      ]
     },
     "execution_count": 22,
     "metadata": {},
     "output_type": "execute_result"
    }
   ],
   "source": [
    "dfroute1.head()"
   ]
  },
  {
   "cell_type": "code",
   "execution_count": 23,
   "metadata": {},
   "outputs": [
    {
     "data": {
      "text/html": [
       "<div>\n",
       "<style scoped>\n",
       "    .dataframe tbody tr th:only-of-type {\n",
       "        vertical-align: middle;\n",
       "    }\n",
       "\n",
       "    .dataframe tbody tr th {\n",
       "        vertical-align: top;\n",
       "    }\n",
       "\n",
       "    .dataframe thead th {\n",
       "        text-align: right;\n",
       "    }\n",
       "</style>\n",
       "<table border=\"1\" class=\"dataframe\">\n",
       "  <thead>\n",
       "    <tr style=\"text-align: right;\">\n",
       "      <th></th>\n",
       "      <th>DAYOFSERVICE</th>\n",
       "      <th>TRIPID</th>\n",
       "      <th>PROGRNUMBER</th>\n",
       "      <th>STOPPOINTID</th>\n",
       "      <th>PLANNEDTIME_ARR</th>\n",
       "      <th>PLANNEDTIME_DEP</th>\n",
       "      <th>ACTUALTIME_ARR</th>\n",
       "      <th>ACTUALTIME_DEP</th>\n",
       "      <th>VEHICLEID</th>\n",
       "      <th>DIRECTION</th>\n",
       "      <th>STOPTIME</th>\n",
       "      <th>TRIPSTART</th>\n",
       "    </tr>\n",
       "  </thead>\n",
       "  <tbody>\n",
       "    <tr>\n",
       "      <th>0</th>\n",
       "      <td>2018-01-01</td>\n",
       "      <td>5972116</td>\n",
       "      <td>12</td>\n",
       "      <td>119</td>\n",
       "      <td>48030</td>\n",
       "      <td>48030</td>\n",
       "      <td>48012</td>\n",
       "      <td>48012</td>\n",
       "      <td>2693211</td>\n",
       "      <td>1</td>\n",
       "      <td>0</td>\n",
       "      <td>47427.0</td>\n",
       "    </tr>\n",
       "    <tr>\n",
       "      <th>1</th>\n",
       "      <td>2018-01-01</td>\n",
       "      <td>5972116</td>\n",
       "      <td>13</td>\n",
       "      <td>44</td>\n",
       "      <td>48079</td>\n",
       "      <td>48079</td>\n",
       "      <td>48058</td>\n",
       "      <td>48058</td>\n",
       "      <td>2693211</td>\n",
       "      <td>1</td>\n",
       "      <td>0</td>\n",
       "      <td>47427.0</td>\n",
       "    </tr>\n",
       "    <tr>\n",
       "      <th>2</th>\n",
       "      <td>2018-01-01</td>\n",
       "      <td>5972116</td>\n",
       "      <td>14</td>\n",
       "      <td>7603</td>\n",
       "      <td>48114</td>\n",
       "      <td>48114</td>\n",
       "      <td>48071</td>\n",
       "      <td>48071</td>\n",
       "      <td>2693211</td>\n",
       "      <td>1</td>\n",
       "      <td>0</td>\n",
       "      <td>47427.0</td>\n",
       "    </tr>\n",
       "    <tr>\n",
       "      <th>3</th>\n",
       "      <td>2018-01-01</td>\n",
       "      <td>5972116</td>\n",
       "      <td>15</td>\n",
       "      <td>45</td>\n",
       "      <td>48155</td>\n",
       "      <td>48155</td>\n",
       "      <td>48089</td>\n",
       "      <td>48100</td>\n",
       "      <td>2693211</td>\n",
       "      <td>1</td>\n",
       "      <td>11</td>\n",
       "      <td>47427.0</td>\n",
       "    </tr>\n",
       "    <tr>\n",
       "      <th>4</th>\n",
       "      <td>2018-01-01</td>\n",
       "      <td>5972116</td>\n",
       "      <td>16</td>\n",
       "      <td>46</td>\n",
       "      <td>48221</td>\n",
       "      <td>48221</td>\n",
       "      <td>48137</td>\n",
       "      <td>48137</td>\n",
       "      <td>2693211</td>\n",
       "      <td>1</td>\n",
       "      <td>0</td>\n",
       "      <td>47427.0</td>\n",
       "    </tr>\n",
       "  </tbody>\n",
       "</table>\n",
       "</div>"
      ],
      "text/plain": [
       "  DAYOFSERVICE   TRIPID  PROGRNUMBER  STOPPOINTID  PLANNEDTIME_ARR  \\\n",
       "0   2018-01-01  5972116           12          119            48030   \n",
       "1   2018-01-01  5972116           13           44            48079   \n",
       "2   2018-01-01  5972116           14         7603            48114   \n",
       "3   2018-01-01  5972116           15           45            48155   \n",
       "4   2018-01-01  5972116           16           46            48221   \n",
       "\n",
       "   PLANNEDTIME_DEP  ACTUALTIME_ARR  ACTUALTIME_DEP  VEHICLEID  DIRECTION  \\\n",
       "0            48030           48012           48012    2693211          1   \n",
       "1            48079           48058           48058    2693211          1   \n",
       "2            48114           48071           48071    2693211          1   \n",
       "3            48155           48089           48100    2693211          1   \n",
       "4            48221           48137           48137    2693211          1   \n",
       "\n",
       "   STOPTIME  TRIPSTART  \n",
       "0         0    47427.0  \n",
       "1         0    47427.0  \n",
       "2         0    47427.0  \n",
       "3        11    47427.0  \n",
       "4         0    47427.0  "
      ]
     },
     "execution_count": 23,
     "metadata": {},
     "output_type": "execute_result"
    }
   ],
   "source": [
    "# renaming the new columns\n",
    "dfroute1 = dfroute1.rename(columns={'PLANNEDTIME_ARR_x':'PLANNEDTIME_ARR', 'PLANNEDTIME_DEP_x':'PLANNEDTIME_DEP', 'ACTUALTIME_ARR_x':'ACTUALTIME_ARR', 'ACTUALTIME_DEP_x':'ACTUALTIME_DEP', 'ACTUALTIME_DEP_y':'TRIPSTART'})\n",
    "dfroute1.head()"
   ]
  },
  {
   "cell_type": "code",
   "execution_count": 24,
   "metadata": {},
   "outputs": [
    {
     "data": {
      "text/html": [
       "<div>\n",
       "<style scoped>\n",
       "    .dataframe tbody tr th:only-of-type {\n",
       "        vertical-align: middle;\n",
       "    }\n",
       "\n",
       "    .dataframe tbody tr th {\n",
       "        vertical-align: top;\n",
       "    }\n",
       "\n",
       "    .dataframe thead th {\n",
       "        text-align: right;\n",
       "    }\n",
       "</style>\n",
       "<table border=\"1\" class=\"dataframe\">\n",
       "  <thead>\n",
       "    <tr style=\"text-align: right;\">\n",
       "      <th></th>\n",
       "      <th>DAYOFSERVICE</th>\n",
       "      <th>TRIPID</th>\n",
       "      <th>PROGRNUMBER</th>\n",
       "      <th>STOPPOINTID</th>\n",
       "      <th>PLANNEDTIME_ARR</th>\n",
       "      <th>PLANNEDTIME_DEP</th>\n",
       "      <th>ACTUALTIME_ARR</th>\n",
       "      <th>ACTUALTIME_DEP</th>\n",
       "      <th>VEHICLEID</th>\n",
       "      <th>DIRECTION</th>\n",
       "      <th>STOPTIME</th>\n",
       "      <th>TRIPSTART</th>\n",
       "      <th>TRAVELTIME</th>\n",
       "    </tr>\n",
       "  </thead>\n",
       "  <tbody>\n",
       "    <tr>\n",
       "      <th>0</th>\n",
       "      <td>2018-01-01</td>\n",
       "      <td>5972116</td>\n",
       "      <td>12</td>\n",
       "      <td>119</td>\n",
       "      <td>48030</td>\n",
       "      <td>48030</td>\n",
       "      <td>48012</td>\n",
       "      <td>48012</td>\n",
       "      <td>2693211</td>\n",
       "      <td>1</td>\n",
       "      <td>0</td>\n",
       "      <td>47427.0</td>\n",
       "      <td>585.0</td>\n",
       "    </tr>\n",
       "    <tr>\n",
       "      <th>1</th>\n",
       "      <td>2018-01-01</td>\n",
       "      <td>5972116</td>\n",
       "      <td>13</td>\n",
       "      <td>44</td>\n",
       "      <td>48079</td>\n",
       "      <td>48079</td>\n",
       "      <td>48058</td>\n",
       "      <td>48058</td>\n",
       "      <td>2693211</td>\n",
       "      <td>1</td>\n",
       "      <td>0</td>\n",
       "      <td>47427.0</td>\n",
       "      <td>631.0</td>\n",
       "    </tr>\n",
       "    <tr>\n",
       "      <th>2</th>\n",
       "      <td>2018-01-01</td>\n",
       "      <td>5972116</td>\n",
       "      <td>14</td>\n",
       "      <td>7603</td>\n",
       "      <td>48114</td>\n",
       "      <td>48114</td>\n",
       "      <td>48071</td>\n",
       "      <td>48071</td>\n",
       "      <td>2693211</td>\n",
       "      <td>1</td>\n",
       "      <td>0</td>\n",
       "      <td>47427.0</td>\n",
       "      <td>644.0</td>\n",
       "    </tr>\n",
       "    <tr>\n",
       "      <th>3</th>\n",
       "      <td>2018-01-01</td>\n",
       "      <td>5972116</td>\n",
       "      <td>15</td>\n",
       "      <td>45</td>\n",
       "      <td>48155</td>\n",
       "      <td>48155</td>\n",
       "      <td>48089</td>\n",
       "      <td>48100</td>\n",
       "      <td>2693211</td>\n",
       "      <td>1</td>\n",
       "      <td>11</td>\n",
       "      <td>47427.0</td>\n",
       "      <td>662.0</td>\n",
       "    </tr>\n",
       "    <tr>\n",
       "      <th>4</th>\n",
       "      <td>2018-01-01</td>\n",
       "      <td>5972116</td>\n",
       "      <td>16</td>\n",
       "      <td>46</td>\n",
       "      <td>48221</td>\n",
       "      <td>48221</td>\n",
       "      <td>48137</td>\n",
       "      <td>48137</td>\n",
       "      <td>2693211</td>\n",
       "      <td>1</td>\n",
       "      <td>0</td>\n",
       "      <td>47427.0</td>\n",
       "      <td>710.0</td>\n",
       "    </tr>\n",
       "  </tbody>\n",
       "</table>\n",
       "</div>"
      ],
      "text/plain": [
       "  DAYOFSERVICE   TRIPID  PROGRNUMBER  STOPPOINTID  PLANNEDTIME_ARR  \\\n",
       "0   2018-01-01  5972116           12          119            48030   \n",
       "1   2018-01-01  5972116           13           44            48079   \n",
       "2   2018-01-01  5972116           14         7603            48114   \n",
       "3   2018-01-01  5972116           15           45            48155   \n",
       "4   2018-01-01  5972116           16           46            48221   \n",
       "\n",
       "   PLANNEDTIME_DEP  ACTUALTIME_ARR  ACTUALTIME_DEP  VEHICLEID  DIRECTION  \\\n",
       "0            48030           48012           48012    2693211          1   \n",
       "1            48079           48058           48058    2693211          1   \n",
       "2            48114           48071           48071    2693211          1   \n",
       "3            48155           48089           48100    2693211          1   \n",
       "4            48221           48137           48137    2693211          1   \n",
       "\n",
       "   STOPTIME  TRIPSTART  TRAVELTIME  \n",
       "0         0    47427.0       585.0  \n",
       "1         0    47427.0       631.0  \n",
       "2         0    47427.0       644.0  \n",
       "3        11    47427.0       662.0  \n",
       "4         0    47427.0       710.0  "
      ]
     },
     "execution_count": 24,
     "metadata": {},
     "output_type": "execute_result"
    }
   ],
   "source": [
    "# adding a column for time since start of the trip, or TRAVELTIME, calculated as ACTUALTIME_ARR - TRIPSTART\n",
    "dfroute1['TRAVELTIME'] = dfroute1['ACTUALTIME_ARR'] - dfroute1['TRIPSTART']\n",
    "dfroute1.head()"
   ]
  },
  {
   "cell_type": "code",
   "execution_count": 25,
   "metadata": {},
   "outputs": [],
   "source": [
    "# adding month of year column for trips dataframe\n",
    "dftrips['MONTHOFYEAR'] = dftrips['DAYOFSERVICE'].dt.month"
   ]
  },
  {
   "cell_type": "code",
   "execution_count": 26,
   "metadata": {},
   "outputs": [],
   "source": [
    "# adding month of year column for route 1 dataframe\n",
    "dfroute1['MONTHOFYEAR'] = dfroute1['DAYOFSERVICE'].dt.month"
   ]
  },
  {
   "cell_type": "code",
   "execution_count": 27,
   "metadata": {},
   "outputs": [],
   "source": [
    "# adding day column for trips dataframe\n",
    "dftrips['DAYOFWEEK'] = dftrips['DAYOFSERVICE'].dt.dayofweek"
   ]
  },
  {
   "cell_type": "code",
   "execution_count": 28,
   "metadata": {},
   "outputs": [
    {
     "data": {
      "text/html": [
       "<div>\n",
       "<style scoped>\n",
       "    .dataframe tbody tr th:only-of-type {\n",
       "        vertical-align: middle;\n",
       "    }\n",
       "\n",
       "    .dataframe tbody tr th {\n",
       "        vertical-align: top;\n",
       "    }\n",
       "\n",
       "    .dataframe thead th {\n",
       "        text-align: right;\n",
       "    }\n",
       "</style>\n",
       "<table border=\"1\" class=\"dataframe\">\n",
       "  <thead>\n",
       "    <tr style=\"text-align: right;\">\n",
       "      <th></th>\n",
       "      <th>DAYOFSERVICE</th>\n",
       "      <th>TRIPID</th>\n",
       "      <th>LINEID</th>\n",
       "      <th>ROUTEID</th>\n",
       "      <th>DIRECTION</th>\n",
       "      <th>PLANNEDTIME_ARR</th>\n",
       "      <th>PLANNEDTIME_DEP</th>\n",
       "      <th>ACTUALTIME_ARR</th>\n",
       "      <th>ACTUALTIME_DEP</th>\n",
       "      <th>TRAVELTIME</th>\n",
       "      <th>MONTHOFYEAR</th>\n",
       "      <th>DAYOFWEEK</th>\n",
       "    </tr>\n",
       "  </thead>\n",
       "  <tbody>\n",
       "    <tr>\n",
       "      <th>0</th>\n",
       "      <td>2018-02-07</td>\n",
       "      <td>6253783</td>\n",
       "      <td>68</td>\n",
       "      <td>68_80</td>\n",
       "      <td>1</td>\n",
       "      <td>87245</td>\n",
       "      <td>84600</td>\n",
       "      <td>87524.0</td>\n",
       "      <td>84600.0</td>\n",
       "      <td>2924.0</td>\n",
       "      <td>2</td>\n",
       "      <td>2</td>\n",
       "    </tr>\n",
       "    <tr>\n",
       "      <th>1</th>\n",
       "      <td>2018-02-07</td>\n",
       "      <td>6254942</td>\n",
       "      <td>45A</td>\n",
       "      <td>45A_70</td>\n",
       "      <td>2</td>\n",
       "      <td>35512</td>\n",
       "      <td>32100</td>\n",
       "      <td>36329.0</td>\n",
       "      <td>32082.0</td>\n",
       "      <td>4247.0</td>\n",
       "      <td>2</td>\n",
       "      <td>2</td>\n",
       "    </tr>\n",
       "    <tr>\n",
       "      <th>2</th>\n",
       "      <td>2018-02-07</td>\n",
       "      <td>6259460</td>\n",
       "      <td>25A</td>\n",
       "      <td>25A_273</td>\n",
       "      <td>1</td>\n",
       "      <td>57261</td>\n",
       "      <td>54420</td>\n",
       "      <td>58463.0</td>\n",
       "      <td>54443.0</td>\n",
       "      <td>4020.0</td>\n",
       "      <td>2</td>\n",
       "      <td>2</td>\n",
       "    </tr>\n",
       "    <tr>\n",
       "      <th>3</th>\n",
       "      <td>2018-02-07</td>\n",
       "      <td>6253175</td>\n",
       "      <td>14</td>\n",
       "      <td>14_15</td>\n",
       "      <td>1</td>\n",
       "      <td>85383</td>\n",
       "      <td>81600</td>\n",
       "      <td>84682.0</td>\n",
       "      <td>81608.0</td>\n",
       "      <td>3074.0</td>\n",
       "      <td>2</td>\n",
       "      <td>2</td>\n",
       "    </tr>\n",
       "    <tr>\n",
       "      <th>4</th>\n",
       "      <td>2018-02-07</td>\n",
       "      <td>6248240</td>\n",
       "      <td>77A</td>\n",
       "      <td>77A_28</td>\n",
       "      <td>2</td>\n",
       "      <td>41648</td>\n",
       "      <td>37200</td>\n",
       "      <td>42019.0</td>\n",
       "      <td>37538.0</td>\n",
       "      <td>4481.0</td>\n",
       "      <td>2</td>\n",
       "      <td>2</td>\n",
       "    </tr>\n",
       "  </tbody>\n",
       "</table>\n",
       "</div>"
      ],
      "text/plain": [
       "  DAYOFSERVICE   TRIPID LINEID  ROUTEID  DIRECTION  PLANNEDTIME_ARR  \\\n",
       "0   2018-02-07  6253783     68    68_80          1            87245   \n",
       "1   2018-02-07  6254942    45A   45A_70          2            35512   \n",
       "2   2018-02-07  6259460    25A  25A_273          1            57261   \n",
       "3   2018-02-07  6253175     14    14_15          1            85383   \n",
       "4   2018-02-07  6248240    77A   77A_28          2            41648   \n",
       "\n",
       "   PLANNEDTIME_DEP  ACTUALTIME_ARR  ACTUALTIME_DEP  TRAVELTIME  MONTHOFYEAR  \\\n",
       "0            84600         87524.0         84600.0      2924.0            2   \n",
       "1            32100         36329.0         32082.0      4247.0            2   \n",
       "2            54420         58463.0         54443.0      4020.0            2   \n",
       "3            81600         84682.0         81608.0      3074.0            2   \n",
       "4            37200         42019.0         37538.0      4481.0            2   \n",
       "\n",
       "   DAYOFWEEK  \n",
       "0          2  \n",
       "1          2  \n",
       "2          2  \n",
       "3          2  \n",
       "4          2  "
      ]
     },
     "execution_count": 28,
     "metadata": {},
     "output_type": "execute_result"
    }
   ],
   "source": [
    "dftrips.head()"
   ]
  },
  {
   "cell_type": "code",
   "execution_count": 29,
   "metadata": {},
   "outputs": [],
   "source": [
    "# adding day column for route1 dataframe\n",
    "dfroute1['DAYOFWEEK'] = dfroute1['DAYOFSERVICE'].dt.dayofweek"
   ]
  },
  {
   "cell_type": "code",
   "execution_count": 30,
   "metadata": {},
   "outputs": [],
   "source": [
    "# adding hour column for trips dataframe\n",
    "dftrips['HOUROFDAY'] = (dftrips['ACTUALTIME_ARR'] // 3600).astype(int)"
   ]
  },
  {
   "cell_type": "code",
   "execution_count": 31,
   "metadata": {},
   "outputs": [
    {
     "data": {
      "text/html": [
       "<div>\n",
       "<style scoped>\n",
       "    .dataframe tbody tr th:only-of-type {\n",
       "        vertical-align: middle;\n",
       "    }\n",
       "\n",
       "    .dataframe tbody tr th {\n",
       "        vertical-align: top;\n",
       "    }\n",
       "\n",
       "    .dataframe thead th {\n",
       "        text-align: right;\n",
       "    }\n",
       "</style>\n",
       "<table border=\"1\" class=\"dataframe\">\n",
       "  <thead>\n",
       "    <tr style=\"text-align: right;\">\n",
       "      <th></th>\n",
       "      <th>DAYOFSERVICE</th>\n",
       "      <th>TRIPID</th>\n",
       "      <th>LINEID</th>\n",
       "      <th>ROUTEID</th>\n",
       "      <th>DIRECTION</th>\n",
       "      <th>PLANNEDTIME_ARR</th>\n",
       "      <th>PLANNEDTIME_DEP</th>\n",
       "      <th>ACTUALTIME_ARR</th>\n",
       "      <th>ACTUALTIME_DEP</th>\n",
       "      <th>TRAVELTIME</th>\n",
       "      <th>MONTHOFYEAR</th>\n",
       "      <th>DAYOFWEEK</th>\n",
       "      <th>HOUROFDAY</th>\n",
       "    </tr>\n",
       "  </thead>\n",
       "  <tbody>\n",
       "    <tr>\n",
       "      <th>0</th>\n",
       "      <td>2018-02-07</td>\n",
       "      <td>6253783</td>\n",
       "      <td>68</td>\n",
       "      <td>68_80</td>\n",
       "      <td>1</td>\n",
       "      <td>87245</td>\n",
       "      <td>84600</td>\n",
       "      <td>87524.0</td>\n",
       "      <td>84600.0</td>\n",
       "      <td>2924.0</td>\n",
       "      <td>2</td>\n",
       "      <td>2</td>\n",
       "      <td>24</td>\n",
       "    </tr>\n",
       "    <tr>\n",
       "      <th>1</th>\n",
       "      <td>2018-02-07</td>\n",
       "      <td>6254942</td>\n",
       "      <td>45A</td>\n",
       "      <td>45A_70</td>\n",
       "      <td>2</td>\n",
       "      <td>35512</td>\n",
       "      <td>32100</td>\n",
       "      <td>36329.0</td>\n",
       "      <td>32082.0</td>\n",
       "      <td>4247.0</td>\n",
       "      <td>2</td>\n",
       "      <td>2</td>\n",
       "      <td>10</td>\n",
       "    </tr>\n",
       "    <tr>\n",
       "      <th>2</th>\n",
       "      <td>2018-02-07</td>\n",
       "      <td>6259460</td>\n",
       "      <td>25A</td>\n",
       "      <td>25A_273</td>\n",
       "      <td>1</td>\n",
       "      <td>57261</td>\n",
       "      <td>54420</td>\n",
       "      <td>58463.0</td>\n",
       "      <td>54443.0</td>\n",
       "      <td>4020.0</td>\n",
       "      <td>2</td>\n",
       "      <td>2</td>\n",
       "      <td>16</td>\n",
       "    </tr>\n",
       "    <tr>\n",
       "      <th>3</th>\n",
       "      <td>2018-02-07</td>\n",
       "      <td>6253175</td>\n",
       "      <td>14</td>\n",
       "      <td>14_15</td>\n",
       "      <td>1</td>\n",
       "      <td>85383</td>\n",
       "      <td>81600</td>\n",
       "      <td>84682.0</td>\n",
       "      <td>81608.0</td>\n",
       "      <td>3074.0</td>\n",
       "      <td>2</td>\n",
       "      <td>2</td>\n",
       "      <td>23</td>\n",
       "    </tr>\n",
       "    <tr>\n",
       "      <th>4</th>\n",
       "      <td>2018-02-07</td>\n",
       "      <td>6248240</td>\n",
       "      <td>77A</td>\n",
       "      <td>77A_28</td>\n",
       "      <td>2</td>\n",
       "      <td>41648</td>\n",
       "      <td>37200</td>\n",
       "      <td>42019.0</td>\n",
       "      <td>37538.0</td>\n",
       "      <td>4481.0</td>\n",
       "      <td>2</td>\n",
       "      <td>2</td>\n",
       "      <td>11</td>\n",
       "    </tr>\n",
       "  </tbody>\n",
       "</table>\n",
       "</div>"
      ],
      "text/plain": [
       "  DAYOFSERVICE   TRIPID LINEID  ROUTEID  DIRECTION  PLANNEDTIME_ARR  \\\n",
       "0   2018-02-07  6253783     68    68_80          1            87245   \n",
       "1   2018-02-07  6254942    45A   45A_70          2            35512   \n",
       "2   2018-02-07  6259460    25A  25A_273          1            57261   \n",
       "3   2018-02-07  6253175     14    14_15          1            85383   \n",
       "4   2018-02-07  6248240    77A   77A_28          2            41648   \n",
       "\n",
       "   PLANNEDTIME_DEP  ACTUALTIME_ARR  ACTUALTIME_DEP  TRAVELTIME  MONTHOFYEAR  \\\n",
       "0            84600         87524.0         84600.0      2924.0            2   \n",
       "1            32100         36329.0         32082.0      4247.0            2   \n",
       "2            54420         58463.0         54443.0      4020.0            2   \n",
       "3            81600         84682.0         81608.0      3074.0            2   \n",
       "4            37200         42019.0         37538.0      4481.0            2   \n",
       "\n",
       "   DAYOFWEEK  HOUROFDAY  \n",
       "0          2         24  \n",
       "1          2         10  \n",
       "2          2         16  \n",
       "3          2         23  \n",
       "4          2         11  "
      ]
     },
     "execution_count": 31,
     "metadata": {},
     "output_type": "execute_result"
    }
   ],
   "source": [
    "dftrips.head()"
   ]
  },
  {
   "cell_type": "code",
   "execution_count": 32,
   "metadata": {},
   "outputs": [],
   "source": [
    "# adding hour column for route1 dataframe\n",
    "dfroute1['HOUROFDAY'] = (dfroute1['ACTUALTIME_DEP'] // 3600).astype(int)"
   ]
  },
  {
   "cell_type": "code",
   "execution_count": 33,
   "metadata": {},
   "outputs": [
    {
     "data": {
      "text/html": [
       "<div>\n",
       "<style scoped>\n",
       "    .dataframe tbody tr th:only-of-type {\n",
       "        vertical-align: middle;\n",
       "    }\n",
       "\n",
       "    .dataframe tbody tr th {\n",
       "        vertical-align: top;\n",
       "    }\n",
       "\n",
       "    .dataframe thead th {\n",
       "        text-align: right;\n",
       "    }\n",
       "</style>\n",
       "<table border=\"1\" class=\"dataframe\">\n",
       "  <thead>\n",
       "    <tr style=\"text-align: right;\">\n",
       "      <th></th>\n",
       "      <th>DAYOFSERVICE</th>\n",
       "      <th>TRIPID</th>\n",
       "      <th>PROGRNUMBER</th>\n",
       "      <th>STOPPOINTID</th>\n",
       "      <th>PLANNEDTIME_ARR</th>\n",
       "      <th>PLANNEDTIME_DEP</th>\n",
       "      <th>ACTUALTIME_ARR</th>\n",
       "      <th>ACTUALTIME_DEP</th>\n",
       "      <th>VEHICLEID</th>\n",
       "      <th>DIRECTION</th>\n",
       "      <th>STOPTIME</th>\n",
       "      <th>TRIPSTART</th>\n",
       "      <th>TRAVELTIME</th>\n",
       "      <th>MONTHOFYEAR</th>\n",
       "      <th>DAYOFWEEK</th>\n",
       "      <th>HOUROFDAY</th>\n",
       "    </tr>\n",
       "  </thead>\n",
       "  <tbody>\n",
       "    <tr>\n",
       "      <th>0</th>\n",
       "      <td>2018-01-01</td>\n",
       "      <td>5972116</td>\n",
       "      <td>12</td>\n",
       "      <td>119</td>\n",
       "      <td>48030</td>\n",
       "      <td>48030</td>\n",
       "      <td>48012</td>\n",
       "      <td>48012</td>\n",
       "      <td>2693211</td>\n",
       "      <td>1</td>\n",
       "      <td>0</td>\n",
       "      <td>47427.0</td>\n",
       "      <td>585.0</td>\n",
       "      <td>1</td>\n",
       "      <td>0</td>\n",
       "      <td>13</td>\n",
       "    </tr>\n",
       "    <tr>\n",
       "      <th>1</th>\n",
       "      <td>2018-01-01</td>\n",
       "      <td>5972116</td>\n",
       "      <td>13</td>\n",
       "      <td>44</td>\n",
       "      <td>48079</td>\n",
       "      <td>48079</td>\n",
       "      <td>48058</td>\n",
       "      <td>48058</td>\n",
       "      <td>2693211</td>\n",
       "      <td>1</td>\n",
       "      <td>0</td>\n",
       "      <td>47427.0</td>\n",
       "      <td>631.0</td>\n",
       "      <td>1</td>\n",
       "      <td>0</td>\n",
       "      <td>13</td>\n",
       "    </tr>\n",
       "    <tr>\n",
       "      <th>2</th>\n",
       "      <td>2018-01-01</td>\n",
       "      <td>5972116</td>\n",
       "      <td>14</td>\n",
       "      <td>7603</td>\n",
       "      <td>48114</td>\n",
       "      <td>48114</td>\n",
       "      <td>48071</td>\n",
       "      <td>48071</td>\n",
       "      <td>2693211</td>\n",
       "      <td>1</td>\n",
       "      <td>0</td>\n",
       "      <td>47427.0</td>\n",
       "      <td>644.0</td>\n",
       "      <td>1</td>\n",
       "      <td>0</td>\n",
       "      <td>13</td>\n",
       "    </tr>\n",
       "    <tr>\n",
       "      <th>3</th>\n",
       "      <td>2018-01-01</td>\n",
       "      <td>5972116</td>\n",
       "      <td>15</td>\n",
       "      <td>45</td>\n",
       "      <td>48155</td>\n",
       "      <td>48155</td>\n",
       "      <td>48089</td>\n",
       "      <td>48100</td>\n",
       "      <td>2693211</td>\n",
       "      <td>1</td>\n",
       "      <td>11</td>\n",
       "      <td>47427.0</td>\n",
       "      <td>662.0</td>\n",
       "      <td>1</td>\n",
       "      <td>0</td>\n",
       "      <td>13</td>\n",
       "    </tr>\n",
       "    <tr>\n",
       "      <th>4</th>\n",
       "      <td>2018-01-01</td>\n",
       "      <td>5972116</td>\n",
       "      <td>16</td>\n",
       "      <td>46</td>\n",
       "      <td>48221</td>\n",
       "      <td>48221</td>\n",
       "      <td>48137</td>\n",
       "      <td>48137</td>\n",
       "      <td>2693211</td>\n",
       "      <td>1</td>\n",
       "      <td>0</td>\n",
       "      <td>47427.0</td>\n",
       "      <td>710.0</td>\n",
       "      <td>1</td>\n",
       "      <td>0</td>\n",
       "      <td>13</td>\n",
       "    </tr>\n",
       "  </tbody>\n",
       "</table>\n",
       "</div>"
      ],
      "text/plain": [
       "  DAYOFSERVICE   TRIPID  PROGRNUMBER  STOPPOINTID  PLANNEDTIME_ARR  \\\n",
       "0   2018-01-01  5972116           12          119            48030   \n",
       "1   2018-01-01  5972116           13           44            48079   \n",
       "2   2018-01-01  5972116           14         7603            48114   \n",
       "3   2018-01-01  5972116           15           45            48155   \n",
       "4   2018-01-01  5972116           16           46            48221   \n",
       "\n",
       "   PLANNEDTIME_DEP  ACTUALTIME_ARR  ACTUALTIME_DEP  VEHICLEID  DIRECTION  \\\n",
       "0            48030           48012           48012    2693211          1   \n",
       "1            48079           48058           48058    2693211          1   \n",
       "2            48114           48071           48071    2693211          1   \n",
       "3            48155           48089           48100    2693211          1   \n",
       "4            48221           48137           48137    2693211          1   \n",
       "\n",
       "   STOPTIME  TRIPSTART  TRAVELTIME  MONTHOFYEAR  DAYOFWEEK  HOUROFDAY  \n",
       "0         0    47427.0       585.0            1          0         13  \n",
       "1         0    47427.0       631.0            1          0         13  \n",
       "2         0    47427.0       644.0            1          0         13  \n",
       "3        11    47427.0       662.0            1          0         13  \n",
       "4         0    47427.0       710.0            1          0         13  "
      ]
     },
     "execution_count": 33,
     "metadata": {},
     "output_type": "execute_result"
    }
   ],
   "source": [
    "dfroute1.head()"
   ]
  },
  {
   "cell_type": "code",
   "execution_count": 34,
   "metadata": {},
   "outputs": [
    {
     "data": {
      "text/html": [
       "<div>\n",
       "<style scoped>\n",
       "    .dataframe tbody tr th:only-of-type {\n",
       "        vertical-align: middle;\n",
       "    }\n",
       "\n",
       "    .dataframe tbody tr th {\n",
       "        vertical-align: top;\n",
       "    }\n",
       "\n",
       "    .dataframe thead th {\n",
       "        text-align: right;\n",
       "    }\n",
       "</style>\n",
       "<table border=\"1\" class=\"dataframe\">\n",
       "  <thead>\n",
       "    <tr style=\"text-align: right;\">\n",
       "      <th></th>\n",
       "      <th>dt</th>\n",
       "      <th>dt_iso</th>\n",
       "      <th>temp</th>\n",
       "      <th>feels_like</th>\n",
       "      <th>temp_min</th>\n",
       "      <th>temp_max</th>\n",
       "      <th>pressure</th>\n",
       "      <th>humidity</th>\n",
       "      <th>wind_speed</th>\n",
       "      <th>wind_deg</th>\n",
       "      <th>clouds_all</th>\n",
       "      <th>weather_id</th>\n",
       "      <th>weather_main</th>\n",
       "      <th>weather_description</th>\n",
       "      <th>weather_icon</th>\n",
       "    </tr>\n",
       "  </thead>\n",
       "  <tbody>\n",
       "    <tr>\n",
       "      <th>0</th>\n",
       "      <td>1514764800</td>\n",
       "      <td>2018-01-01 00:00:00 +0000 UTC</td>\n",
       "      <td>4.15</td>\n",
       "      <td>-6.49</td>\n",
       "      <td>3.84</td>\n",
       "      <td>5.79</td>\n",
       "      <td>990</td>\n",
       "      <td>87</td>\n",
       "      <td>12.86</td>\n",
       "      <td>240</td>\n",
       "      <td>40</td>\n",
       "      <td>520</td>\n",
       "      <td>Rain</td>\n",
       "      <td>light intensity shower rain</td>\n",
       "      <td>09n</td>\n",
       "    </tr>\n",
       "    <tr>\n",
       "      <th>1</th>\n",
       "      <td>1514768400</td>\n",
       "      <td>2018-01-01 01:00:00 +0000 UTC</td>\n",
       "      <td>4.14</td>\n",
       "      <td>-5.79</td>\n",
       "      <td>3.65</td>\n",
       "      <td>5.86</td>\n",
       "      <td>991</td>\n",
       "      <td>87</td>\n",
       "      <td>11.83</td>\n",
       "      <td>240</td>\n",
       "      <td>75</td>\n",
       "      <td>520</td>\n",
       "      <td>Rain</td>\n",
       "      <td>light intensity shower rain</td>\n",
       "      <td>09n</td>\n",
       "    </tr>\n",
       "    <tr>\n",
       "      <th>2</th>\n",
       "      <td>1514772000</td>\n",
       "      <td>2018-01-01 02:00:00 +0000 UTC</td>\n",
       "      <td>4.61</td>\n",
       "      <td>-5.77</td>\n",
       "      <td>3.85</td>\n",
       "      <td>5.99</td>\n",
       "      <td>990</td>\n",
       "      <td>81</td>\n",
       "      <td>12.35</td>\n",
       "      <td>240</td>\n",
       "      <td>40</td>\n",
       "      <td>802</td>\n",
       "      <td>Clouds</td>\n",
       "      <td>scattered clouds</td>\n",
       "      <td>03n</td>\n",
       "    </tr>\n",
       "    <tr>\n",
       "      <th>3</th>\n",
       "      <td>1514775600</td>\n",
       "      <td>2018-01-01 03:00:00 +0000 UTC</td>\n",
       "      <td>4.64</td>\n",
       "      <td>-5.73</td>\n",
       "      <td>4.00</td>\n",
       "      <td>6.14</td>\n",
       "      <td>990</td>\n",
       "      <td>81</td>\n",
       "      <td>12.35</td>\n",
       "      <td>240</td>\n",
       "      <td>40</td>\n",
       "      <td>802</td>\n",
       "      <td>Clouds</td>\n",
       "      <td>scattered clouds</td>\n",
       "      <td>03n</td>\n",
       "    </tr>\n",
       "    <tr>\n",
       "      <th>4</th>\n",
       "      <td>1514779200</td>\n",
       "      <td>2018-01-01 04:00:00 +0000 UTC</td>\n",
       "      <td>5.04</td>\n",
       "      <td>-4.91</td>\n",
       "      <td>4.11</td>\n",
       "      <td>6.22</td>\n",
       "      <td>990</td>\n",
       "      <td>81</td>\n",
       "      <td>11.83</td>\n",
       "      <td>240</td>\n",
       "      <td>40</td>\n",
       "      <td>802</td>\n",
       "      <td>Clouds</td>\n",
       "      <td>scattered clouds</td>\n",
       "      <td>03n</td>\n",
       "    </tr>\n",
       "  </tbody>\n",
       "</table>\n",
       "</div>"
      ],
      "text/plain": [
       "           dt                         dt_iso  temp  feels_like  temp_min  \\\n",
       "0  1514764800  2018-01-01 00:00:00 +0000 UTC  4.15       -6.49      3.84   \n",
       "1  1514768400  2018-01-01 01:00:00 +0000 UTC  4.14       -5.79      3.65   \n",
       "2  1514772000  2018-01-01 02:00:00 +0000 UTC  4.61       -5.77      3.85   \n",
       "3  1514775600  2018-01-01 03:00:00 +0000 UTC  4.64       -5.73      4.00   \n",
       "4  1514779200  2018-01-01 04:00:00 +0000 UTC  5.04       -4.91      4.11   \n",
       "\n",
       "   temp_max  pressure  humidity  wind_speed  wind_deg  clouds_all  weather_id  \\\n",
       "0      5.79       990        87       12.86       240          40         520   \n",
       "1      5.86       991        87       11.83       240          75         520   \n",
       "2      5.99       990        81       12.35       240          40         802   \n",
       "3      6.14       990        81       12.35       240          40         802   \n",
       "4      6.22       990        81       11.83       240          40         802   \n",
       "\n",
       "  weather_main          weather_description weather_icon  \n",
       "0         Rain  light intensity shower rain          09n  \n",
       "1         Rain  light intensity shower rain          09n  \n",
       "2       Clouds             scattered clouds          03n  \n",
       "3       Clouds             scattered clouds          03n  \n",
       "4       Clouds             scattered clouds          03n  "
      ]
     },
     "execution_count": 34,
     "metadata": {},
     "output_type": "execute_result"
    }
   ],
   "source": [
    "dfw.head()"
   ]
  },
  {
   "cell_type": "code",
   "execution_count": 35,
   "metadata": {},
   "outputs": [
    {
     "name": "stdout",
     "output_type": "stream",
     "text": [
      "      w_main_Clouds  w_main_Drizzle  w_main_Fog  w_main_Mist  w_main_Rain  \\\n",
      "0                 0               0           0            0            1   \n",
      "1                 0               0           0            0            1   \n",
      "2                 1               0           0            0            0   \n",
      "3                 1               0           0            0            0   \n",
      "4                 1               0           0            0            0   \n",
      "...             ...             ...         ...          ...          ...   \n",
      "8795              1               0           0            0            0   \n",
      "8796              1               0           0            0            0   \n",
      "8797              1               0           0            0            0   \n",
      "8798              1               0           0            0            0   \n",
      "8799              1               0           0            0            0   \n",
      "\n",
      "      w_main_Smoke  w_main_Snow  \n",
      "0                0            0  \n",
      "1                0            0  \n",
      "2                0            0  \n",
      "3                0            0  \n",
      "4                0            0  \n",
      "...            ...          ...  \n",
      "8795             0            0  \n",
      "8796             0            0  \n",
      "8797             0            0  \n",
      "8798             0            0  \n",
      "8799             0            0  \n",
      "\n",
      "[8800 rows x 7 columns]\n"
     ]
    }
   ],
   "source": [
    "# getting dummy columns for weather_main\n",
    "weather_main_dummies = pd.get_dummies(dfw['weather_main'], prefix='w_main', drop_first=True)\n",
    "print(weather_main_dummies)"
   ]
  },
  {
   "cell_type": "code",
   "execution_count": 36,
   "metadata": {},
   "outputs": [],
   "source": [
    "# adding dummies to weather main dataframe\n",
    "dfw = pd.concat([dfw, weather_main_dummies], axis=1)"
   ]
  },
  {
   "cell_type": "code",
   "execution_count": 37,
   "metadata": {},
   "outputs": [
    {
     "name": "stdout",
     "output_type": "stream",
     "text": [
      "2018-01-01 00:00:00\n"
     ]
    }
   ],
   "source": [
    "string = \"2018-01-01 00:00:00 +0000 UTC\"\n",
    "new_string = string[:-10]\n",
    "print(new_string)"
   ]
  },
  {
   "cell_type": "code",
   "execution_count": 38,
   "metadata": {},
   "outputs": [
    {
     "data": {
      "text/plain": [
       "0    2018-01-01 00:00:00\n",
       "1    2018-01-01 01:00:00\n",
       "2    2018-01-01 02:00:00\n",
       "3    2018-01-01 03:00:00\n",
       "4    2018-01-01 04:00:00\n",
       "5    2018-01-01 05:00:00\n",
       "6    2018-01-01 06:00:00\n",
       "7    2018-01-01 07:00:00\n",
       "8    2018-01-01 08:00:00\n",
       "9    2018-01-01 09:00:00\n",
       "Name: dt_iso, dtype: object"
      ]
     },
     "execution_count": 38,
     "metadata": {},
     "output_type": "execute_result"
    }
   ],
   "source": [
    "dfw['dt_iso'].str.slice(start=0, stop=-10).head(10)"
   ]
  },
  {
   "cell_type": "code",
   "execution_count": 39,
   "metadata": {},
   "outputs": [],
   "source": [
    "# adding date column to weather dataframe (UTC truncated)\n",
    "dfw['date'] = dfw['dt_iso'].str.slice(start=0, stop=-10)"
   ]
  },
  {
   "cell_type": "code",
   "execution_count": 40,
   "metadata": {},
   "outputs": [],
   "source": [
    "# converting DAYOFSERVICE column to datetime\n",
    "dfw['date'] = dfw['date'].astype('datetime64')"
   ]
  },
  {
   "cell_type": "code",
   "execution_count": 41,
   "metadata": {},
   "outputs": [],
   "source": [
    "# adding HOUROFDAY column to weather dataframe\n",
    "dfw['HOUROFDAY'] = dfw['date'].dt.hour"
   ]
  },
  {
   "cell_type": "code",
   "execution_count": 42,
   "metadata": {},
   "outputs": [
    {
     "name": "stderr",
     "output_type": "stream",
     "text": [
      "/home/team14/miniconda2/envs/dublinBus/lib/python3.8/site-packages/pandas/core/indexing.py:1732: SettingWithCopyWarning: \n",
      "A value is trying to be set on a copy of a slice from a DataFrame\n",
      "\n",
      "See the caveats in the documentation: https://pandas.pydata.org/pandas-docs/stable/user_guide/indexing.html#returning-a-view-versus-a-copy\n",
      "  self._setitem_single_block(indexer, value, name)\n"
     ]
    }
   ],
   "source": [
    "# adding 24 to hour column if it is 0, 1 or 2\n",
    "dfw['HOUROFDAY'].loc[dfw['HOUROFDAY'] < 4] += 24"
   ]
  },
  {
   "cell_type": "code",
   "execution_count": 43,
   "metadata": {},
   "outputs": [
    {
     "data": {
      "text/plain": [
       "9     369\n",
       "27    369\n",
       "23    368\n",
       "4     368\n",
       "22    367\n",
       "21    367\n",
       "25    367\n",
       "11    367\n",
       "10    367\n",
       "24    367\n",
       "7     367\n",
       "6     367\n",
       "5     367\n",
       "12    367\n",
       "8     366\n",
       "13    366\n",
       "16    366\n",
       "17    366\n",
       "19    366\n",
       "26    366\n",
       "14    365\n",
       "15    365\n",
       "18    365\n",
       "20    365\n",
       "Name: HOUROFDAY, dtype: int64"
      ]
     },
     "execution_count": 43,
     "metadata": {},
     "output_type": "execute_result"
    }
   ],
   "source": [
    "dfw['HOUROFDAY'].value_counts()"
   ]
  },
  {
   "cell_type": "code",
   "execution_count": 44,
   "metadata": {},
   "outputs": [],
   "source": [
    "# removing the hour from the date column and renaming it for the merge\n",
    "dfw['DAYOFSERVICE'] = dfw['date'].dt.date"
   ]
  },
  {
   "cell_type": "code",
   "execution_count": 45,
   "metadata": {},
   "outputs": [],
   "source": [
    "# converting route1 DAYOFSERVICE to datetime\n",
    "dfroute1['DAYOFSERVICE'] = dfroute1['DAYOFSERVICE'].astype('datetime64')"
   ]
  },
  {
   "cell_type": "code",
   "execution_count": 46,
   "metadata": {},
   "outputs": [],
   "source": [
    "# converting DAYOFSERVICE column to datetime\n",
    "dfw['DAYOFSERVICE'] = dfw['DAYOFSERVICE'].astype('datetime64')"
   ]
  },
  {
   "cell_type": "code",
   "execution_count": 47,
   "metadata": {},
   "outputs": [
    {
     "data": {
      "text/html": [
       "<div>\n",
       "<style scoped>\n",
       "    .dataframe tbody tr th:only-of-type {\n",
       "        vertical-align: middle;\n",
       "    }\n",
       "\n",
       "    .dataframe tbody tr th {\n",
       "        vertical-align: top;\n",
       "    }\n",
       "\n",
       "    .dataframe thead th {\n",
       "        text-align: right;\n",
       "    }\n",
       "</style>\n",
       "<table border=\"1\" class=\"dataframe\">\n",
       "  <thead>\n",
       "    <tr style=\"text-align: right;\">\n",
       "      <th></th>\n",
       "      <th>dt</th>\n",
       "      <th>dt_iso</th>\n",
       "      <th>temp</th>\n",
       "      <th>feels_like</th>\n",
       "      <th>temp_min</th>\n",
       "      <th>temp_max</th>\n",
       "      <th>pressure</th>\n",
       "      <th>humidity</th>\n",
       "      <th>wind_speed</th>\n",
       "      <th>wind_deg</th>\n",
       "      <th>...</th>\n",
       "      <th>w_main_Clouds</th>\n",
       "      <th>w_main_Drizzle</th>\n",
       "      <th>w_main_Fog</th>\n",
       "      <th>w_main_Mist</th>\n",
       "      <th>w_main_Rain</th>\n",
       "      <th>w_main_Smoke</th>\n",
       "      <th>w_main_Snow</th>\n",
       "      <th>date</th>\n",
       "      <th>HOUROFDAY</th>\n",
       "      <th>DAYOFSERVICE</th>\n",
       "    </tr>\n",
       "  </thead>\n",
       "  <tbody>\n",
       "    <tr>\n",
       "      <th>0</th>\n",
       "      <td>1514764800</td>\n",
       "      <td>2018-01-01 00:00:00 +0000 UTC</td>\n",
       "      <td>4.15</td>\n",
       "      <td>-6.49</td>\n",
       "      <td>3.84</td>\n",
       "      <td>5.79</td>\n",
       "      <td>990</td>\n",
       "      <td>87</td>\n",
       "      <td>12.86</td>\n",
       "      <td>240</td>\n",
       "      <td>...</td>\n",
       "      <td>0</td>\n",
       "      <td>0</td>\n",
       "      <td>0</td>\n",
       "      <td>0</td>\n",
       "      <td>1</td>\n",
       "      <td>0</td>\n",
       "      <td>0</td>\n",
       "      <td>2018-01-01 00:00:00</td>\n",
       "      <td>24</td>\n",
       "      <td>2018-01-01</td>\n",
       "    </tr>\n",
       "    <tr>\n",
       "      <th>1</th>\n",
       "      <td>1514768400</td>\n",
       "      <td>2018-01-01 01:00:00 +0000 UTC</td>\n",
       "      <td>4.14</td>\n",
       "      <td>-5.79</td>\n",
       "      <td>3.65</td>\n",
       "      <td>5.86</td>\n",
       "      <td>991</td>\n",
       "      <td>87</td>\n",
       "      <td>11.83</td>\n",
       "      <td>240</td>\n",
       "      <td>...</td>\n",
       "      <td>0</td>\n",
       "      <td>0</td>\n",
       "      <td>0</td>\n",
       "      <td>0</td>\n",
       "      <td>1</td>\n",
       "      <td>0</td>\n",
       "      <td>0</td>\n",
       "      <td>2018-01-01 01:00:00</td>\n",
       "      <td>25</td>\n",
       "      <td>2018-01-01</td>\n",
       "    </tr>\n",
       "    <tr>\n",
       "      <th>2</th>\n",
       "      <td>1514772000</td>\n",
       "      <td>2018-01-01 02:00:00 +0000 UTC</td>\n",
       "      <td>4.61</td>\n",
       "      <td>-5.77</td>\n",
       "      <td>3.85</td>\n",
       "      <td>5.99</td>\n",
       "      <td>990</td>\n",
       "      <td>81</td>\n",
       "      <td>12.35</td>\n",
       "      <td>240</td>\n",
       "      <td>...</td>\n",
       "      <td>1</td>\n",
       "      <td>0</td>\n",
       "      <td>0</td>\n",
       "      <td>0</td>\n",
       "      <td>0</td>\n",
       "      <td>0</td>\n",
       "      <td>0</td>\n",
       "      <td>2018-01-01 02:00:00</td>\n",
       "      <td>26</td>\n",
       "      <td>2018-01-01</td>\n",
       "    </tr>\n",
       "    <tr>\n",
       "      <th>3</th>\n",
       "      <td>1514775600</td>\n",
       "      <td>2018-01-01 03:00:00 +0000 UTC</td>\n",
       "      <td>4.64</td>\n",
       "      <td>-5.73</td>\n",
       "      <td>4.00</td>\n",
       "      <td>6.14</td>\n",
       "      <td>990</td>\n",
       "      <td>81</td>\n",
       "      <td>12.35</td>\n",
       "      <td>240</td>\n",
       "      <td>...</td>\n",
       "      <td>1</td>\n",
       "      <td>0</td>\n",
       "      <td>0</td>\n",
       "      <td>0</td>\n",
       "      <td>0</td>\n",
       "      <td>0</td>\n",
       "      <td>0</td>\n",
       "      <td>2018-01-01 03:00:00</td>\n",
       "      <td>27</td>\n",
       "      <td>2018-01-01</td>\n",
       "    </tr>\n",
       "    <tr>\n",
       "      <th>4</th>\n",
       "      <td>1514779200</td>\n",
       "      <td>2018-01-01 04:00:00 +0000 UTC</td>\n",
       "      <td>5.04</td>\n",
       "      <td>-4.91</td>\n",
       "      <td>4.11</td>\n",
       "      <td>6.22</td>\n",
       "      <td>990</td>\n",
       "      <td>81</td>\n",
       "      <td>11.83</td>\n",
       "      <td>240</td>\n",
       "      <td>...</td>\n",
       "      <td>1</td>\n",
       "      <td>0</td>\n",
       "      <td>0</td>\n",
       "      <td>0</td>\n",
       "      <td>0</td>\n",
       "      <td>0</td>\n",
       "      <td>0</td>\n",
       "      <td>2018-01-01 04:00:00</td>\n",
       "      <td>4</td>\n",
       "      <td>2018-01-01</td>\n",
       "    </tr>\n",
       "  </tbody>\n",
       "</table>\n",
       "<p>5 rows × 25 columns</p>\n",
       "</div>"
      ],
      "text/plain": [
       "           dt                         dt_iso  temp  feels_like  temp_min  \\\n",
       "0  1514764800  2018-01-01 00:00:00 +0000 UTC  4.15       -6.49      3.84   \n",
       "1  1514768400  2018-01-01 01:00:00 +0000 UTC  4.14       -5.79      3.65   \n",
       "2  1514772000  2018-01-01 02:00:00 +0000 UTC  4.61       -5.77      3.85   \n",
       "3  1514775600  2018-01-01 03:00:00 +0000 UTC  4.64       -5.73      4.00   \n",
       "4  1514779200  2018-01-01 04:00:00 +0000 UTC  5.04       -4.91      4.11   \n",
       "\n",
       "   temp_max  pressure  humidity  wind_speed  wind_deg  ...  w_main_Clouds  \\\n",
       "0      5.79       990        87       12.86       240  ...              0   \n",
       "1      5.86       991        87       11.83       240  ...              0   \n",
       "2      5.99       990        81       12.35       240  ...              1   \n",
       "3      6.14       990        81       12.35       240  ...              1   \n",
       "4      6.22       990        81       11.83       240  ...              1   \n",
       "\n",
       "   w_main_Drizzle w_main_Fog w_main_Mist w_main_Rain  w_main_Smoke  \\\n",
       "0               0          0           0           1             0   \n",
       "1               0          0           0           1             0   \n",
       "2               0          0           0           0             0   \n",
       "3               0          0           0           0             0   \n",
       "4               0          0           0           0             0   \n",
       "\n",
       "   w_main_Snow                date  HOUROFDAY  DAYOFSERVICE  \n",
       "0            0 2018-01-01 00:00:00         24    2018-01-01  \n",
       "1            0 2018-01-01 01:00:00         25    2018-01-01  \n",
       "2            0 2018-01-01 02:00:00         26    2018-01-01  \n",
       "3            0 2018-01-01 03:00:00         27    2018-01-01  \n",
       "4            0 2018-01-01 04:00:00          4    2018-01-01  \n",
       "\n",
       "[5 rows x 25 columns]"
      ]
     },
     "execution_count": 47,
     "metadata": {},
     "output_type": "execute_result"
    }
   ],
   "source": [
    "dfw.head()"
   ]
  },
  {
   "cell_type": "code",
   "execution_count": 48,
   "metadata": {},
   "outputs": [],
   "source": [
    "# merging route 1 data with weather data (merge on date and hour, keep temp, wind_speed and w_main dummies)\n",
    "dfroute1 = dfroute1.merge(dfw[['temp', 'wind_speed', 'w_main_Clouds', 'w_main_Drizzle', 'w_main_Fog', 'w_main_Mist', 'w_main_Rain', 'w_main_Smoke', 'w_main_Snow', 'DAYOFSERVICE', 'HOUROFDAY']], on=['DAYOFSERVICE', 'HOUROFDAY'])"
   ]
  },
  {
   "cell_type": "code",
   "execution_count": 49,
   "metadata": {},
   "outputs": [
    {
     "data": {
      "text/html": [
       "<div>\n",
       "<style scoped>\n",
       "    .dataframe tbody tr th:only-of-type {\n",
       "        vertical-align: middle;\n",
       "    }\n",
       "\n",
       "    .dataframe tbody tr th {\n",
       "        vertical-align: top;\n",
       "    }\n",
       "\n",
       "    .dataframe thead th {\n",
       "        text-align: right;\n",
       "    }\n",
       "</style>\n",
       "<table border=\"1\" class=\"dataframe\">\n",
       "  <thead>\n",
       "    <tr style=\"text-align: right;\">\n",
       "      <th></th>\n",
       "      <th>DAYOFSERVICE</th>\n",
       "      <th>TRIPID</th>\n",
       "      <th>PROGRNUMBER</th>\n",
       "      <th>STOPPOINTID</th>\n",
       "      <th>PLANNEDTIME_ARR</th>\n",
       "      <th>PLANNEDTIME_DEP</th>\n",
       "      <th>ACTUALTIME_ARR</th>\n",
       "      <th>ACTUALTIME_DEP</th>\n",
       "      <th>VEHICLEID</th>\n",
       "      <th>DIRECTION</th>\n",
       "      <th>...</th>\n",
       "      <th>HOUROFDAY</th>\n",
       "      <th>temp</th>\n",
       "      <th>wind_speed</th>\n",
       "      <th>w_main_Clouds</th>\n",
       "      <th>w_main_Drizzle</th>\n",
       "      <th>w_main_Fog</th>\n",
       "      <th>w_main_Mist</th>\n",
       "      <th>w_main_Rain</th>\n",
       "      <th>w_main_Smoke</th>\n",
       "      <th>w_main_Snow</th>\n",
       "    </tr>\n",
       "  </thead>\n",
       "  <tbody>\n",
       "    <tr>\n",
       "      <th>0</th>\n",
       "      <td>2018-01-01</td>\n",
       "      <td>5972116</td>\n",
       "      <td>12</td>\n",
       "      <td>119</td>\n",
       "      <td>48030</td>\n",
       "      <td>48030</td>\n",
       "      <td>48012</td>\n",
       "      <td>48012</td>\n",
       "      <td>2693211</td>\n",
       "      <td>1</td>\n",
       "      <td>...</td>\n",
       "      <td>13</td>\n",
       "      <td>7.43</td>\n",
       "      <td>12.86</td>\n",
       "      <td>0</td>\n",
       "      <td>0</td>\n",
       "      <td>0</td>\n",
       "      <td>0</td>\n",
       "      <td>1</td>\n",
       "      <td>0</td>\n",
       "      <td>0</td>\n",
       "    </tr>\n",
       "    <tr>\n",
       "      <th>1</th>\n",
       "      <td>2018-01-01</td>\n",
       "      <td>5972116</td>\n",
       "      <td>13</td>\n",
       "      <td>44</td>\n",
       "      <td>48079</td>\n",
       "      <td>48079</td>\n",
       "      <td>48058</td>\n",
       "      <td>48058</td>\n",
       "      <td>2693211</td>\n",
       "      <td>1</td>\n",
       "      <td>...</td>\n",
       "      <td>13</td>\n",
       "      <td>7.43</td>\n",
       "      <td>12.86</td>\n",
       "      <td>0</td>\n",
       "      <td>0</td>\n",
       "      <td>0</td>\n",
       "      <td>0</td>\n",
       "      <td>1</td>\n",
       "      <td>0</td>\n",
       "      <td>0</td>\n",
       "    </tr>\n",
       "    <tr>\n",
       "      <th>2</th>\n",
       "      <td>2018-01-01</td>\n",
       "      <td>5972116</td>\n",
       "      <td>14</td>\n",
       "      <td>7603</td>\n",
       "      <td>48114</td>\n",
       "      <td>48114</td>\n",
       "      <td>48071</td>\n",
       "      <td>48071</td>\n",
       "      <td>2693211</td>\n",
       "      <td>1</td>\n",
       "      <td>...</td>\n",
       "      <td>13</td>\n",
       "      <td>7.43</td>\n",
       "      <td>12.86</td>\n",
       "      <td>0</td>\n",
       "      <td>0</td>\n",
       "      <td>0</td>\n",
       "      <td>0</td>\n",
       "      <td>1</td>\n",
       "      <td>0</td>\n",
       "      <td>0</td>\n",
       "    </tr>\n",
       "    <tr>\n",
       "      <th>3</th>\n",
       "      <td>2018-01-01</td>\n",
       "      <td>5972116</td>\n",
       "      <td>15</td>\n",
       "      <td>45</td>\n",
       "      <td>48155</td>\n",
       "      <td>48155</td>\n",
       "      <td>48089</td>\n",
       "      <td>48100</td>\n",
       "      <td>2693211</td>\n",
       "      <td>1</td>\n",
       "      <td>...</td>\n",
       "      <td>13</td>\n",
       "      <td>7.43</td>\n",
       "      <td>12.86</td>\n",
       "      <td>0</td>\n",
       "      <td>0</td>\n",
       "      <td>0</td>\n",
       "      <td>0</td>\n",
       "      <td>1</td>\n",
       "      <td>0</td>\n",
       "      <td>0</td>\n",
       "    </tr>\n",
       "    <tr>\n",
       "      <th>4</th>\n",
       "      <td>2018-01-01</td>\n",
       "      <td>5972116</td>\n",
       "      <td>16</td>\n",
       "      <td>46</td>\n",
       "      <td>48221</td>\n",
       "      <td>48221</td>\n",
       "      <td>48137</td>\n",
       "      <td>48137</td>\n",
       "      <td>2693211</td>\n",
       "      <td>1</td>\n",
       "      <td>...</td>\n",
       "      <td>13</td>\n",
       "      <td>7.43</td>\n",
       "      <td>12.86</td>\n",
       "      <td>0</td>\n",
       "      <td>0</td>\n",
       "      <td>0</td>\n",
       "      <td>0</td>\n",
       "      <td>1</td>\n",
       "      <td>0</td>\n",
       "      <td>0</td>\n",
       "    </tr>\n",
       "  </tbody>\n",
       "</table>\n",
       "<p>5 rows × 25 columns</p>\n",
       "</div>"
      ],
      "text/plain": [
       "  DAYOFSERVICE   TRIPID  PROGRNUMBER  STOPPOINTID  PLANNEDTIME_ARR  \\\n",
       "0   2018-01-01  5972116           12          119            48030   \n",
       "1   2018-01-01  5972116           13           44            48079   \n",
       "2   2018-01-01  5972116           14         7603            48114   \n",
       "3   2018-01-01  5972116           15           45            48155   \n",
       "4   2018-01-01  5972116           16           46            48221   \n",
       "\n",
       "   PLANNEDTIME_DEP  ACTUALTIME_ARR  ACTUALTIME_DEP  VEHICLEID  DIRECTION  ...  \\\n",
       "0            48030           48012           48012    2693211          1  ...   \n",
       "1            48079           48058           48058    2693211          1  ...   \n",
       "2            48114           48071           48071    2693211          1  ...   \n",
       "3            48155           48089           48100    2693211          1  ...   \n",
       "4            48221           48137           48137    2693211          1  ...   \n",
       "\n",
       "   HOUROFDAY  temp  wind_speed  w_main_Clouds  w_main_Drizzle  w_main_Fog  \\\n",
       "0         13  7.43       12.86              0               0           0   \n",
       "1         13  7.43       12.86              0               0           0   \n",
       "2         13  7.43       12.86              0               0           0   \n",
       "3         13  7.43       12.86              0               0           0   \n",
       "4         13  7.43       12.86              0               0           0   \n",
       "\n",
       "   w_main_Mist  w_main_Rain  w_main_Smoke  w_main_Snow  \n",
       "0            0            1             0            0  \n",
       "1            0            1             0            0  \n",
       "2            0            1             0            0  \n",
       "3            0            1             0            0  \n",
       "4            0            1             0            0  \n",
       "\n",
       "[5 rows x 25 columns]"
      ]
     },
     "execution_count": 49,
     "metadata": {},
     "output_type": "execute_result"
    }
   ],
   "source": [
    "dfroute1.head()"
   ]
  },
  {
   "cell_type": "markdown",
   "metadata": {},
   "source": [
    "## 2.3 - Visualising Target Feature and Predictive Features"
   ]
  },
  {
   "cell_type": "markdown",
   "metadata": {},
   "source": [
    "### 2.3.1 - Visualising Trips Travel Time"
   ]
  },
  {
   "cell_type": "code",
   "execution_count": 50,
   "metadata": {},
   "outputs": [
    {
     "data": {
      "text/plain": [
       "<AxesSubplot:>"
      ]
     },
     "execution_count": 50,
     "metadata": {},
     "output_type": "execute_result"
    },
    {
     "data": {
      "image/png": "[encoded data removed]",
      "text/plain": [
       "<Figure size 432x288 with 1 Axes>"
      ]
     },
     "metadata": {
      "needs_background": "light"
     },
     "output_type": "display_data"
    }
   ],
   "source": [
    "dftrips['TRAVELTIME'].loc[dftrips['LINEID'] == '1'].hist()"
   ]
  },
  {
   "cell_type": "code",
   "execution_count": 51,
   "metadata": {},
   "outputs": [
    {
     "data": {
      "text/plain": [
       "<AxesSubplot:>"
      ]
     },
     "execution_count": 51,
     "metadata": {},
     "output_type": "execute_result"
    },
    {
     "data": {
      "image/png": "[encoded data removed]",
      "text/plain": [
       "<Figure size 432x288 with 1 Axes>"
      ]
     },
     "metadata": {
      "needs_background": "light"
     },
     "output_type": "display_data"
    }
   ],
   "source": [
    "dftrips['TRAVELTIME'].loc[dftrips['LINEID'] == '1'].plot(kind='box')"
   ]
  },
  {
   "cell_type": "code",
   "execution_count": 52,
   "metadata": {},
   "outputs": [
    {
     "data": {
      "text/plain": [
       "1147       1140.0\n",
       "2680        900.0\n",
       "2892        721.0\n",
       "6533        901.0\n",
       "7047        766.0\n",
       "            ...  \n",
       "1875766     745.0\n",
       "1881809     878.0\n",
       "1887225     903.0\n",
       "1889113    1090.0\n",
       "1891697    1145.0\n",
       "Name: TRAVELTIME, Length: 717, dtype: float64"
      ]
     },
     "execution_count": 52,
     "metadata": {},
     "output_type": "execute_result"
    }
   ],
   "source": [
    "dftrips['TRAVELTIME'].loc[(dftrips['LINEID'] == '1') & (dftrips['TRAVELTIME'] < dftrips['TRAVELTIME'].mean() * 0.3)]"
   ]
  },
  {
   "cell_type": "code",
   "execution_count": 53,
   "metadata": {},
   "outputs": [
    {
     "data": {
      "text/plain": [
       "1379603    23458.0\n",
       "Name: TRAVELTIME, dtype: float64"
      ]
     },
     "execution_count": 53,
     "metadata": {},
     "output_type": "execute_result"
    }
   ],
   "source": [
    "dftrips['TRAVELTIME'].loc[(dftrips['LINEID'] == '1') & (dftrips['TRAVELTIME'] > dftrips['TRAVELTIME'].mean() * 5)]"
   ]
  },
  {
   "cell_type": "markdown",
   "metadata": {},
   "source": [
    "I think it is worth removing outliers for entire trips dataframe based on the threshold of below 30% of the mean and above 500% of the mean."
   ]
  },
  {
   "cell_type": "code",
   "execution_count": 54,
   "metadata": {},
   "outputs": [],
   "source": [
    "# dropping the outliers from the trips dataframe based on the above information\n",
    "# need to loop over each LINEID\n",
    "for lineid in dftrips['LINEID'].unique():\n",
    "    dftrips = dftrips.drop(dftrips[(dftrips['LINEID'] == lineid) & ((dftrips['TRAVELTIME'] > dftrips['TRAVELTIME'].mean() * 5) | (dftrips['TRAVELTIME'] < dftrips['TRAVELTIME'].mean() * 0.3))].index)"
   ]
  },
  {
   "cell_type": "code",
   "execution_count": 55,
   "metadata": {},
   "outputs": [
    {
     "data": {
      "text/plain": [
       "<AxesSubplot:>"
      ]
     },
     "execution_count": 55,
     "metadata": {},
     "output_type": "execute_result"
    },
    {
     "data": {
      "image/png": "[encoded data removed]",
      "text/plain": [
       "<Figure size 432x288 with 1 Axes>"
      ]
     },
     "metadata": {
      "needs_background": "light"
     },
     "output_type": "display_data"
    }
   ],
   "source": [
    "dftrips['TRAVELTIME'].loc[dftrips['LINEID'] == '1'].hist()"
   ]
  },
  {
   "cell_type": "markdown",
   "metadata": {},
   "source": [
    "### 2.3.2 - Visualising Route 1 Leave Times Stop Time"
   ]
  },
  {
   "cell_type": "code",
   "execution_count": 56,
   "metadata": {},
   "outputs": [
    {
     "data": {
      "text/plain": [
       "0      487593\n",
       "12      47955\n",
       "13      46807\n",
       "11      45244\n",
       "14      43970\n",
       "        ...  \n",
       "828         1\n",
       "833         1\n",
       "460         1\n",
       "606         1\n",
       "686         1\n",
       "Name: STOPTIME, Length: 838, dtype: int64"
      ]
     },
     "execution_count": 56,
     "metadata": {},
     "output_type": "execute_result"
    }
   ],
   "source": [
    "dfroute1['STOPTIME'].value_counts()"
   ]
  },
  {
   "cell_type": "code",
   "execution_count": 57,
   "metadata": {},
   "outputs": [
    {
     "data": {
      "text/plain": [
       "(1294978, 25)"
      ]
     },
     "execution_count": 57,
     "metadata": {},
     "output_type": "execute_result"
    }
   ],
   "source": [
    "dfroute1.shape"
   ]
  },
  {
   "cell_type": "markdown",
   "metadata": {},
   "source": [
    "### 2.3.3 - Visualising Route 1 Leave Times Travel Time"
   ]
  },
  {
   "cell_type": "code",
   "execution_count": 58,
   "metadata": {},
   "outputs": [
    {
     "data": {
      "text/plain": [
       "<AxesSubplot:>"
      ]
     },
     "execution_count": 58,
     "metadata": {},
     "output_type": "execute_result"
    },
    {
     "data": {
      "image/png": "[encoded data removed]",
      "text/plain": [
       "<Figure size 432x288 with 1 Axes>"
      ]
     },
     "metadata": {
      "needs_background": "light"
     },
     "output_type": "display_data"
    }
   ],
   "source": [
    "dfroute1['TRAVELTIME'].hist()"
   ]
  },
  {
   "cell_type": "code",
   "execution_count": 59,
   "metadata": {},
   "outputs": [
    {
     "data": {
      "text/plain": [
       "<AxesSubplot:>"
      ]
     },
     "execution_count": 59,
     "metadata": {},
     "output_type": "execute_result"
    },
    {
     "data": {
      "image/png": "[encoded data removed]",
      "text/plain": [
       "<Figure size 432x288 with 1 Axes>"
      ]
     },
     "metadata": {
      "needs_background": "light"
     },
     "output_type": "display_data"
    }
   ],
   "source": [
    "dfroute1['TRAVELTIME'].plot(kind='box')"
   ]
  },
  {
   "cell_type": "code",
   "execution_count": 60,
   "metadata": {},
   "outputs": [
    {
     "data": {
      "text/plain": [
       "1513.7175867080368"
      ]
     },
     "execution_count": 60,
     "metadata": {},
     "output_type": "execute_result"
    }
   ],
   "source": [
    "dfroute1['TRAVELTIME'].mean()"
   ]
  },
  {
   "cell_type": "code",
   "execution_count": 61,
   "metadata": {},
   "outputs": [
    {
     "data": {
      "text/plain": [
       "657422    22133.0\n",
       "657423    22367.0\n",
       "657424    22372.0\n",
       "657425    22444.0\n",
       "657426    22465.0\n",
       "657427    22543.0\n",
       "657428    22603.0\n",
       "657429    22670.0\n",
       "657430    22785.0\n",
       "657431    22900.0\n",
       "657432    22956.0\n",
       "657433    23005.0\n",
       "657434    23027.0\n",
       "657435    23116.0\n",
       "657436    23180.0\n",
       "657437    23235.0\n",
       "657438    23276.0\n",
       "657439    23330.0\n",
       "657440    23377.0\n",
       "657441    23403.0\n",
       "657442    23458.0\n",
       "657443    22835.0\n",
       "657444    21936.0\n",
       "657445    22700.0\n",
       "Name: TRAVELTIME, dtype: float64"
      ]
     },
     "execution_count": 61,
     "metadata": {},
     "output_type": "execute_result"
    }
   ],
   "source": [
    "dfroute1['TRAVELTIME'].loc[dfroute1['TRAVELTIME'] > dfroute1['TRAVELTIME'].mean() * 10]"
   ]
  },
  {
   "cell_type": "code",
   "execution_count": 62,
   "metadata": {},
   "outputs": [
    {
     "data": {
      "text/plain": [
       "(1294978, 25)"
      ]
     },
     "execution_count": 62,
     "metadata": {},
     "output_type": "execute_result"
    }
   ],
   "source": [
    "dfroute1.shape"
   ]
  },
  {
   "cell_type": "code",
   "execution_count": 63,
   "metadata": {},
   "outputs": [],
   "source": [
    "# dropping travel times which are more than 10 times the average travel time for route 1 trips\n",
    "dfroute1 = dfroute1.drop(dfroute1[dfroute1['TRAVELTIME'] > dfroute1['TRAVELTIME'].mean() * 10].index)"
   ]
  },
  {
   "cell_type": "code",
   "execution_count": 64,
   "metadata": {},
   "outputs": [
    {
     "data": {
      "text/plain": [
       "(1294954, 25)"
      ]
     },
     "execution_count": 64,
     "metadata": {},
     "output_type": "execute_result"
    }
   ],
   "source": [
    "dfroute1.shape"
   ]
  },
  {
   "cell_type": "code",
   "execution_count": 65,
   "metadata": {},
   "outputs": [
    {
     "data": {
      "text/plain": [
       "<AxesSubplot:>"
      ]
     },
     "execution_count": 65,
     "metadata": {},
     "output_type": "execute_result"
    },
    {
     "data": {
      "image/png": "[encoded data removed]",
      "text/plain": [
       "<Figure size 432x288 with 1 Axes>"
      ]
     },
     "metadata": {
      "needs_background": "light"
     },
     "output_type": "display_data"
    }
   ],
   "source": [
    "dfroute1['TRAVELTIME'].plot(kind='box')"
   ]
  },
  {
   "cell_type": "markdown",
   "metadata": {},
   "source": [
    "## 2.4 - Exploring Predictive Features"
   ]
  },
  {
   "cell_type": "code",
   "execution_count": 66,
   "metadata": {},
   "outputs": [
    {
     "data": {
      "text/plain": [
       "<AxesSubplot:xlabel='PROGRNUMBER', ylabel='TRAVELTIME'>"
      ]
     },
     "execution_count": 66,
     "metadata": {},
     "output_type": "execute_result"
    },
    {
     "data": {
      "image/png": "[encoded data removed]",
      "text/plain": [
       "<Figure size 432x288 with 1 Axes>"
      ]
     },
     "metadata": {
      "needs_background": "light"
     },
     "output_type": "display_data"
    }
   ],
   "source": [
    "# plotting scatter plot for PROGRNUMBER vs TRAVELTIME for route 1\n",
    "dfroute1[['PROGRNUMBER', 'TRAVELTIME']].plot(kind='scatter', x='PROGRNUMBER', y='TRAVELTIME')"
   ]
  },
  {
   "cell_type": "markdown",
   "metadata": {},
   "source": [
    "The above plot shows how the progress number has a clear impact on the travel time for each step of each trip."
   ]
  },
  {
   "cell_type": "code",
   "execution_count": 67,
   "metadata": {},
   "outputs": [
    {
     "name": "stderr",
     "output_type": "stream",
     "text": [
      "<ipython-input-67-9b64fcdddab9>:2: FutureWarning: casting datetime64[ns] values to int64 with .astype(...) is deprecated and will raise in a future version. Use .view(...) instead.\n",
      "  dftrips['DAYOFSERVICE'] = dftrips['DAYOFSERVICE'].astype('int64')\n"
     ]
    },
    {
     "data": {
      "text/plain": [
       "<AxesSubplot:xlabel='DAYOFSERVICE', ylabel='TRAVELTIME'>"
      ]
     },
     "execution_count": 67,
     "metadata": {},
     "output_type": "execute_result"
    },
    {
     "data": {
      "image/png": "[encoded data removed]",
      "text/plain": [
       "<Figure size 432x288 with 1 Axes>"
      ]
     },
     "metadata": {
      "needs_background": "light"
     },
     "output_type": "display_data"
    }
   ],
   "source": [
    "# plotting DAYOFSERVICE vs TRAVELTIME for trips\n",
    "dftrips['DAYOFSERVICE'] = dftrips['DAYOFSERVICE'].astype('int64')\n",
    "dftrips[['DAYOFSERVICE', 'TRAVELTIME']].plot(kind='scatter', x='DAYOFSERVICE', y='TRAVELTIME', s=1)"
   ]
  },
  {
   "cell_type": "code",
   "execution_count": 68,
   "metadata": {},
   "outputs": [],
   "source": [
    "dftrips['DAYOFSERVICE'] = dftrips['DAYOFSERVICE'].astype('datetime64[ns]')"
   ]
  },
  {
   "cell_type": "code",
   "execution_count": 69,
   "metadata": {},
   "outputs": [
    {
     "name": "stdout",
     "output_type": "stream",
     "text": [
      "3845.264024821957\n",
      "3971.365633477558\n",
      "4008.2671428857275\n",
      "4040.8353596637457\n",
      "4034.669695662365\n",
      "3602.051169935154\n",
      "3463.6907238511594\n"
     ]
    }
   ],
   "source": [
    "# printing average travel time for each day for trips\n",
    "for i in range(7):\n",
    "    print(dftrips['TRAVELTIME'].loc[dftrips['DAYOFWEEK'] == i].mean())"
   ]
  },
  {
   "cell_type": "markdown",
   "metadata": {},
   "source": [
    "We can see from the above result that the day of the week has an impact on the travel time for the trips. This will therefore constitute an important predictive factor."
   ]
  },
  {
   "cell_type": "code",
   "execution_count": 70,
   "metadata": {},
   "outputs": [
    {
     "name": "stdout",
     "output_type": "stream",
     "text": [
      "Hour: 0 Mean travel time: nan\n",
      "Hour: 1 Mean travel time: nan\n",
      "Hour: 2 Mean travel time: nan\n",
      "Hour: 3 Mean travel time: nan\n",
      "Hour: 4 Mean travel time: 1513.125\n",
      "Hour: 5 Mean travel time: 2229.626245847176\n",
      "Hour: 6 Mean travel time: 2775.06897007333\n",
      "Hour: 7 Mean travel time: 3183.5531250823083\n",
      "Hour: 8 Mean travel time: 3791.2738891270833\n",
      "Hour: 9 Mean travel time: 4271.80875589451\n",
      "Hour: 10 Mean travel time: 3976.6420875589083\n",
      "Hour: 11 Mean travel time: 3828.488940946252\n",
      "Hour: 12 Mean travel time: 3899.572964498743\n",
      "Hour: 13 Mean travel time: 4006.5217204301075\n",
      "Hour: 14 Mean travel time: 4062.9893708151953\n",
      "Hour: 15 Mean travel time: 4125.26744080641\n",
      "Hour: 16 Mean travel time: 4143.005070300982\n",
      "Hour: 17 Mean travel time: 4308.484890223867\n",
      "Hour: 18 Mean travel time: 4385.500349766469\n",
      "Hour: 19 Mean travel time: 4155.9436259018785\n",
      "Hour: 20 Mean travel time: 3724.3805985812032\n",
      "Hour: 21 Mean travel time: 3436.6284870637824\n",
      "Hour: 22 Mean travel time: 3203.6331045003813\n",
      "Hour: 23 Mean travel time: 2829.4541860898753\n",
      "Hour: 24 Mean travel time: 3096.962449476292\n",
      "Hour: 25 Mean travel time: 3429.1447368421054\n",
      "Hour: 26 Mean travel time: 7058.0\n"
     ]
    }
   ],
   "source": [
    "# printing average travel time for each hour for trips\n",
    "for hour in range(27):\n",
    "    print(\"Hour:\", hour, \"Mean travel time:\", dftrips['TRAVELTIME'].loc[dftrips['HOUROFDAY'] == hour].mean())"
   ]
  },
  {
   "cell_type": "markdown",
   "metadata": {},
   "source": [
    "The above results indicate a strong relationship between the hour of the day and the travel time, with longer trips around the peak times of 8/9am and 5/6pm."
   ]
  },
  {
   "cell_type": "code",
   "execution_count": 71,
   "metadata": {},
   "outputs": [
    {
     "name": "stdout",
     "output_type": "stream",
     "text": [
      "Month: 1 3807.985753752757\n",
      "Month: 2 3890.755246525072\n",
      "Month: 3 3905.9075967583126\n",
      "Month: 4 3881.938189203039\n",
      "Month: 5 3922.649172805217\n",
      "Month: 6 3826.9738919979927\n",
      "Month: 7 3781.033601110415\n",
      "Month: 8 3777.938548071118\n",
      "Month: 9 3890.8973885042665\n",
      "Month: 10 3979.874382462885\n",
      "Month: 11 4071.1315448502833\n",
      "Month: 12 3975.95940984863\n"
     ]
    }
   ],
   "source": [
    "# printing average travel time for each month for trips\n",
    "for month in range(1, 13):\n",
    "    print(\"Month:\", month, dftrips['TRAVELTIME'].loc[dftrips['MONTHOFYEAR'] == month].mean())"
   ]
  },
  {
   "cell_type": "markdown",
   "metadata": {},
   "source": [
    "The above results indicate that the month has a small impact on the travel time of trips over the year."
   ]
  },
  {
   "cell_type": "code",
   "execution_count": 72,
   "metadata": {},
   "outputs": [
    {
     "name": "stdout",
     "output_type": "stream",
     "text": [
      "Direction: 1 Travel time: 1443.3685315175296\n",
      "Direction: 2 Travel time: 1579.1839813729223\n"
     ]
    }
   ],
   "source": [
    "# comparing travel time when direction is 1 vs when direction is 2\n",
    "for i in range(1, 3):\n",
    "    print(\"Direction:\", i, \"Travel time:\", dfroute1['TRAVELTIME'].loc[dfroute1['DIRECTION'] == i].mean())"
   ]
  },
  {
   "cell_type": "markdown",
   "metadata": {},
   "source": [
    "We can see a clear difference between the average travel time when the direction is 1 vs when it is 2. Therefore, it will make a good predictive feature for our model."
   ]
  },
  {
   "cell_type": "markdown",
   "metadata": {},
   "source": [
    "# 3 - Linear Models"
   ]
  },
  {
   "cell_type": "markdown",
   "metadata": {},
   "source": [
    "## 3.1 - Linear Model for Route 1 Data using Progress Number, Direction, Hour, Day and Month "
   ]
  },
  {
   "cell_type": "code",
   "execution_count": 73,
   "metadata": {},
   "outputs": [],
   "source": [
    "# 70/30 train/test split for route 1 data\n",
    "trainroute1 = dfroute1.sample(frac=0.7, random_state=1)\n",
    "testroute1 = dfroute1.drop(trainroute1.index)"
   ]
  },
  {
   "cell_type": "code",
   "execution_count": 74,
   "metadata": {},
   "outputs": [
    {
     "data": {
      "text/html": [
       "<div>\n",
       "<style scoped>\n",
       "    .dataframe tbody tr th:only-of-type {\n",
       "        vertical-align: middle;\n",
       "    }\n",
       "\n",
       "    .dataframe tbody tr th {\n",
       "        vertical-align: top;\n",
       "    }\n",
       "\n",
       "    .dataframe thead th {\n",
       "        text-align: right;\n",
       "    }\n",
       "</style>\n",
       "<table border=\"1\" class=\"dataframe\">\n",
       "  <thead>\n",
       "    <tr style=\"text-align: right;\">\n",
       "      <th></th>\n",
       "      <th>DAYOFSERVICE</th>\n",
       "      <th>TRIPID</th>\n",
       "      <th>PROGRNUMBER</th>\n",
       "      <th>STOPPOINTID</th>\n",
       "      <th>PLANNEDTIME_ARR</th>\n",
       "      <th>PLANNEDTIME_DEP</th>\n",
       "      <th>ACTUALTIME_ARR</th>\n",
       "      <th>ACTUALTIME_DEP</th>\n",
       "      <th>VEHICLEID</th>\n",
       "      <th>DIRECTION</th>\n",
       "      <th>...</th>\n",
       "      <th>HOUROFDAY</th>\n",
       "      <th>temp</th>\n",
       "      <th>wind_speed</th>\n",
       "      <th>w_main_Clouds</th>\n",
       "      <th>w_main_Drizzle</th>\n",
       "      <th>w_main_Fog</th>\n",
       "      <th>w_main_Mist</th>\n",
       "      <th>w_main_Rain</th>\n",
       "      <th>w_main_Smoke</th>\n",
       "      <th>w_main_Snow</th>\n",
       "    </tr>\n",
       "  </thead>\n",
       "  <tbody>\n",
       "    <tr>\n",
       "      <th>456869</th>\n",
       "      <td>2018-05-31</td>\n",
       "      <td>6847425</td>\n",
       "      <td>15</td>\n",
       "      <td>396</td>\n",
       "      <td>46481</td>\n",
       "      <td>46481</td>\n",
       "      <td>46509</td>\n",
       "      <td>46528</td>\n",
       "      <td>2534840</td>\n",
       "      <td>2</td>\n",
       "      <td>...</td>\n",
       "      <td>12</td>\n",
       "      <td>19.85</td>\n",
       "      <td>6.17</td>\n",
       "      <td>1</td>\n",
       "      <td>0</td>\n",
       "      <td>0</td>\n",
       "      <td>0</td>\n",
       "      <td>0</td>\n",
       "      <td>0</td>\n",
       "      <td>0</td>\n",
       "    </tr>\n",
       "    <tr>\n",
       "      <th>911249</th>\n",
       "      <td>2018-09-18</td>\n",
       "      <td>8092424</td>\n",
       "      <td>33</td>\n",
       "      <td>203</td>\n",
       "      <td>84920</td>\n",
       "      <td>84920</td>\n",
       "      <td>85160</td>\n",
       "      <td>85174</td>\n",
       "      <td>2172251</td>\n",
       "      <td>2</td>\n",
       "      <td>...</td>\n",
       "      <td>23</td>\n",
       "      <td>14.00</td>\n",
       "      <td>7.72</td>\n",
       "      <td>1</td>\n",
       "      <td>0</td>\n",
       "      <td>0</td>\n",
       "      <td>0</td>\n",
       "      <td>0</td>\n",
       "      <td>0</td>\n",
       "      <td>0</td>\n",
       "    </tr>\n",
       "    <tr>\n",
       "      <th>808902</th>\n",
       "      <td>2018-08-09</td>\n",
       "      <td>7320032</td>\n",
       "      <td>16</td>\n",
       "      <td>397</td>\n",
       "      <td>53668</td>\n",
       "      <td>53668</td>\n",
       "      <td>53679</td>\n",
       "      <td>53692</td>\n",
       "      <td>2534838</td>\n",
       "      <td>2</td>\n",
       "      <td>...</td>\n",
       "      <td>14</td>\n",
       "      <td>17.31</td>\n",
       "      <td>4.12</td>\n",
       "      <td>1</td>\n",
       "      <td>0</td>\n",
       "      <td>0</td>\n",
       "      <td>0</td>\n",
       "      <td>0</td>\n",
       "      <td>0</td>\n",
       "      <td>0</td>\n",
       "    </tr>\n",
       "    <tr>\n",
       "      <th>203119</th>\n",
       "      <td>2018-02-26</td>\n",
       "      <td>6294977</td>\n",
       "      <td>34</td>\n",
       "      <td>372</td>\n",
       "      <td>50512</td>\n",
       "      <td>50512</td>\n",
       "      <td>50154</td>\n",
       "      <td>50169</td>\n",
       "      <td>2693266</td>\n",
       "      <td>1</td>\n",
       "      <td>...</td>\n",
       "      <td>13</td>\n",
       "      <td>1.94</td>\n",
       "      <td>8.23</td>\n",
       "      <td>1</td>\n",
       "      <td>0</td>\n",
       "      <td>0</td>\n",
       "      <td>0</td>\n",
       "      <td>0</td>\n",
       "      <td>0</td>\n",
       "      <td>0</td>\n",
       "    </tr>\n",
       "    <tr>\n",
       "      <th>382704</th>\n",
       "      <td>2018-04-20</td>\n",
       "      <td>6633737</td>\n",
       "      <td>25</td>\n",
       "      <td>14</td>\n",
       "      <td>39137</td>\n",
       "      <td>39137</td>\n",
       "      <td>39366</td>\n",
       "      <td>39366</td>\n",
       "      <td>2534840</td>\n",
       "      <td>2</td>\n",
       "      <td>...</td>\n",
       "      <td>10</td>\n",
       "      <td>12.70</td>\n",
       "      <td>5.14</td>\n",
       "      <td>1</td>\n",
       "      <td>0</td>\n",
       "      <td>0</td>\n",
       "      <td>0</td>\n",
       "      <td>0</td>\n",
       "      <td>0</td>\n",
       "      <td>0</td>\n",
       "    </tr>\n",
       "  </tbody>\n",
       "</table>\n",
       "<p>5 rows × 25 columns</p>\n",
       "</div>"
      ],
      "text/plain": [
       "       DAYOFSERVICE   TRIPID  PROGRNUMBER  STOPPOINTID  PLANNEDTIME_ARR  \\\n",
       "456869   2018-05-31  6847425           15          396            46481   \n",
       "911249   2018-09-18  8092424           33          203            84920   \n",
       "808902   2018-08-09  7320032           16          397            53668   \n",
       "203119   2018-02-26  6294977           34          372            50512   \n",
       "382704   2018-04-20  6633737           25           14            39137   \n",
       "\n",
       "        PLANNEDTIME_DEP  ACTUALTIME_ARR  ACTUALTIME_DEP  VEHICLEID  DIRECTION  \\\n",
       "456869            46481           46509           46528    2534840          2   \n",
       "911249            84920           85160           85174    2172251          2   \n",
       "808902            53668           53679           53692    2534838          2   \n",
       "203119            50512           50154           50169    2693266          1   \n",
       "382704            39137           39366           39366    2534840          2   \n",
       "\n",
       "        ...  HOUROFDAY   temp  wind_speed  w_main_Clouds  w_main_Drizzle  \\\n",
       "456869  ...         12  19.85        6.17              1               0   \n",
       "911249  ...         23  14.00        7.72              1               0   \n",
       "808902  ...         14  17.31        4.12              1               0   \n",
       "203119  ...         13   1.94        8.23              1               0   \n",
       "382704  ...         10  12.70        5.14              1               0   \n",
       "\n",
       "        w_main_Fog  w_main_Mist  w_main_Rain  w_main_Smoke  w_main_Snow  \n",
       "456869           0            0            0             0            0  \n",
       "911249           0            0            0             0            0  \n",
       "808902           0            0            0             0            0  \n",
       "203119           0            0            0             0            0  \n",
       "382704           0            0            0             0            0  \n",
       "\n",
       "[5 rows x 25 columns]"
      ]
     },
     "execution_count": 74,
     "metadata": {},
     "output_type": "execute_result"
    }
   ],
   "source": [
    "trainroute1.head()"
   ]
  },
  {
   "cell_type": "code",
   "execution_count": 75,
   "metadata": {},
   "outputs": [],
   "source": [
    "# the descriptive features for this model\n",
    "r1features = ['PROGRNUMBER', 'DIRECTION', 'HOUROFDAY', 'DAYOFWEEK', 'MONTHOFYEAR']\n",
    "\n",
    "X = trainroute1[r1features]\n",
    "y = trainroute1['TRAVELTIME']"
   ]
  },
  {
   "cell_type": "code",
   "execution_count": 76,
   "metadata": {},
   "outputs": [],
   "source": [
    "# fitting the model\n",
    "linregr1 = LinearRegression().fit(X, y)"
   ]
  },
  {
   "cell_type": "code",
   "execution_count": 77,
   "metadata": {},
   "outputs": [
    {
     "name": "stdout",
     "output_type": "stream",
     "text": [
      "Intercept:  -138.99189897740303\n",
      "Features and coeficients: [('PROGRNUMBER', 85.33675745368105), ('DIRECTION', 76.01041673357813), ('HOUROFDAY', -16.902809799406178), ('DAYOFWEEK', -12.187930034871925), ('MONTHOFYEAR', 4.004109810250798)]\n"
     ]
    }
   ],
   "source": [
    "# printing the intercept and weights learned for each feature\n",
    "print(\"Intercept: \", linregr1.intercept_)\n",
    "print(\"Features and coeficients:\", list(zip(r1features, linregr1.coef_)))"
   ]
  },
  {
   "cell_type": "code",
   "execution_count": 78,
   "metadata": {},
   "outputs": [
    {
     "name": "stdout",
     "output_type": "stream",
     "text": [
      "Predictions for first 20 rows of training dataframe: \n",
      "\n",
      "         TRAVELTIME    Predicted\n",
      "456869        817.0  1073.703338\n",
      "911249       2149.0  2464.226363\n",
      "808902        883.0  1137.246805\n",
      "203119       2166.0  2626.739963\n",
      "382704       2144.0  1944.684492\n",
      "1281194      1810.0  2329.036158\n",
      "144258       1668.0  1585.899483\n",
      "1072832       191.0    50.030337\n",
      "991285        139.0   231.957135\n",
      "543174       2432.0  2116.715885\n",
      "895489         63.0   -65.755038\n",
      "488077       1102.0  1160.893386\n",
      "235929       1577.0  1491.452778\n",
      "959439        516.0   577.811171\n",
      "964122       3369.0  2350.118678\n",
      "501294       2957.0  2780.335068\n",
      "837476        800.0  1134.497154\n",
      "611430       2243.0  2035.383237\n",
      "39504         635.0   754.860368\n",
      "378116       2717.0  2179.077075\n"
     ]
    }
   ],
   "source": [
    "# predicting the travel time for the first 20 rows of the training dataframe\n",
    "linregr1_predictions = linregr1.predict(X.head(20))\n",
    "\n",
    "print(\"Predictions for first 20 rows of training dataframe: \\n\")\n",
    "actual_vs_pred_linregr1 = pd.concat([y.head(20), pd.DataFrame(linregr1_predictions, columns=['Predicted'], index=y.head(20).index)], axis=1)\n",
    "print(actual_vs_pred_linregr1)"
   ]
  },
  {
   "cell_type": "code",
   "execution_count": 79,
   "metadata": {},
   "outputs": [],
   "source": [
    "# predicting the travel time for entire test dataframe\n",
    "linregr1_test_predictions = linregr1.predict(testroute1[r1features])"
   ]
  },
  {
   "cell_type": "code",
   "execution_count": 80,
   "metadata": {},
   "outputs": [],
   "source": [
    "# difference between test travel times and test predictions\n",
    "r1prediction_diffs = testroute1['TRAVELTIME'] - linregr1_test_predictions"
   ]
  },
  {
   "cell_type": "code",
   "execution_count": 81,
   "metadata": {},
   "outputs": [
    {
     "name": "stdout",
     "output_type": "stream",
     "text": [
      "RMSE: 392.2088347624452\n"
     ]
    }
   ],
   "source": [
    "# calculating root mean square error\n",
    "r1_linmodel_rmse = ((r1prediction_diffs**2).mean())**0.5\n",
    "print(\"RMSE:\", r1_linmodel_rmse)"
   ]
  },
  {
   "cell_type": "markdown",
   "metadata": {},
   "source": [
    "We can see that on average we are off by 6 and a half minutes. This result is quite poor when we consider the fact that the average travel time in this dataset is 25 minutes."
   ]
  },
  {
   "cell_type": "code",
   "execution_count": 82,
   "metadata": {},
   "outputs": [
    {
     "name": "stdout",
     "output_type": "stream",
     "text": [
      "R2 score: 0.8751041148749964\n"
     ]
    }
   ],
   "source": [
    "# printing r2 score\n",
    "print(\"R2 score:\", r2_score(testroute1['TRAVELTIME'], linregr1_test_predictions))"
   ]
  },
  {
   "cell_type": "markdown",
   "metadata": {},
   "source": [
    "The R2 score for this model looks pretty good, however, I think higher scores can certainly be achieved."
   ]
  },
  {
   "cell_type": "markdown",
   "metadata": {},
   "source": [
    "## 3.2 - Linear Model for Route 1 Data using the Weather Data also"
   ]
  },
  {
   "cell_type": "code",
   "execution_count": 83,
   "metadata": {},
   "outputs": [],
   "source": [
    "# the descriptive features for this model\n",
    "r1features2 = ['PROGRNUMBER', 'DIRECTION', 'HOUROFDAY', 'DAYOFWEEK', 'MONTHOFYEAR', 'temp', 'wind_speed', 'w_main_Clouds', 'w_main_Drizzle', 'w_main_Fog', 'w_main_Mist', 'w_main_Rain', 'w_main_Smoke', 'w_main_Snow']\n",
    "\n",
    "X = trainroute1[r1features2]\n",
    "y = trainroute1['TRAVELTIME']"
   ]
  },
  {
   "cell_type": "code",
   "execution_count": 84,
   "metadata": {},
   "outputs": [],
   "source": [
    "# fitting the model\n",
    "linreg2r1 = LinearRegression().fit(X, y)"
   ]
  },
  {
   "cell_type": "code",
   "execution_count": 85,
   "metadata": {},
   "outputs": [
    {
     "name": "stdout",
     "output_type": "stream",
     "text": [
      "Intercept:  -263.16490922448156\n",
      "Features and coeficients: [('PROGRNUMBER', 85.27653048809785), ('DIRECTION', 76.50276828555971), ('HOUROFDAY', -16.41143736002084), ('DAYOFWEEK', -12.131796383475), ('MONTHOFYEAR', 3.935004470453512), ('temp', 2.8879712451771997), ('wind_speed', 6.788323733535796), ('w_main_Clouds', 47.899939304471836), ('w_main_Drizzle', 35.907014708082905), ('w_main_Fog', 78.12990287806873), ('w_main_Mist', 113.06833828525653), ('w_main_Rain', 76.6412667774563), ('w_main_Smoke', 0.6679839536023532), ('w_main_Snow', -32.317509753149906)]\n"
     ]
    }
   ],
   "source": [
    "# printing the intercept and weights learned for each feature\n",
    "print(\"Intercept: \", linreg2r1.intercept_)\n",
    "print(\"Features and coeficients:\", list(zip(r1features2, linreg2r1.coef_)))"
   ]
  },
  {
   "cell_type": "code",
   "execution_count": 86,
   "metadata": {},
   "outputs": [
    {
     "name": "stdout",
     "output_type": "stream",
     "text": [
      "Predictions for first 20 rows of training dataframe: \n",
      "\n",
      "         TRAVELTIME    Predicted\n",
      "456869        817.0  1102.441096\n",
      "911249       2149.0  2490.523714\n",
      "808902        883.0  1145.448254\n",
      "203119       2166.0  2616.631727\n",
      "382704       2144.0  1944.321506\n",
      "1281194      1810.0  2320.381744\n",
      "144258       1668.0  1557.530945\n",
      "1072832       191.0    50.283508\n",
      "991285        139.0   219.924679\n",
      "543174       2432.0  2130.334924\n",
      "895489         63.0   -61.719352\n",
      "488077       1102.0  1145.695975\n",
      "235929       1577.0  1458.454022\n",
      "959439        516.0   554.121743\n",
      "964122       3369.0  2325.679246\n",
      "501294       2957.0  2790.277681\n",
      "837476        800.0  1131.933136\n",
      "611430       2243.0  2069.869472\n",
      "39504         635.0   749.488885\n",
      "378116       2717.0  2208.435620\n"
     ]
    }
   ],
   "source": [
    "# predicting the travel time for the first 20 rows of the training dataframe\n",
    "linreg2r1_predictions = linreg2r1.predict(X.head(20))\n",
    "\n",
    "print(\"Predictions for first 20 rows of training dataframe: \\n\")\n",
    "actual_vs_pred_linreg2r1 = pd.concat([y.head(20), pd.DataFrame(linreg2r1_predictions, columns=['Predicted'], index=y.head(20).index)], axis=1)\n",
    "print(actual_vs_pred_linreg2r1)"
   ]
  },
  {
   "cell_type": "code",
   "execution_count": 87,
   "metadata": {},
   "outputs": [],
   "source": [
    "# predicting the travel time for entire test dataframe\n",
    "linreg2r1_test_predictions = linreg2r1.predict(testroute1[r1features2])"
   ]
  },
  {
   "cell_type": "code",
   "execution_count": 88,
   "metadata": {},
   "outputs": [],
   "source": [
    "# difference between test travel times and test predictions\n",
    "r1prediction_diffs2 = testroute1['TRAVELTIME'] - linreg2r1_test_predictions"
   ]
  },
  {
   "cell_type": "code",
   "execution_count": 89,
   "metadata": {},
   "outputs": [
    {
     "name": "stdout",
     "output_type": "stream",
     "text": [
      "RMSE: 391.354012080429\n"
     ]
    }
   ],
   "source": [
    "# calculating root mean square error\n",
    "r1_linmodel2_rmse = ((r1prediction_diffs2**2).mean())**0.5\n",
    "print(\"RMSE:\", r1_linmodel2_rmse)"
   ]
  },
  {
   "cell_type": "code",
   "execution_count": 90,
   "metadata": {},
   "outputs": [
    {
     "name": "stdout",
     "output_type": "stream",
     "text": [
      "R2 score: 0.8756479449964676\n"
     ]
    }
   ],
   "source": [
    "# printing r2 score\n",
    "print(\"R2 score:\", r2_score(testroute1['TRAVELTIME'], linreg2r1_test_predictions))"
   ]
  },
  {
   "cell_type": "markdown",
   "metadata": {},
   "source": [
    "## 3.3 - Creating Dummies for Hour of Day and using them instead"
   ]
  },
  {
   "cell_type": "code",
   "execution_count": 91,
   "metadata": {},
   "outputs": [
    {
     "data": {
      "text/html": [
       "<div>\n",
       "<style scoped>\n",
       "    .dataframe tbody tr th:only-of-type {\n",
       "        vertical-align: middle;\n",
       "    }\n",
       "\n",
       "    .dataframe tbody tr th {\n",
       "        vertical-align: top;\n",
       "    }\n",
       "\n",
       "    .dataframe thead th {\n",
       "        text-align: right;\n",
       "    }\n",
       "</style>\n",
       "<table border=\"1\" class=\"dataframe\">\n",
       "  <thead>\n",
       "    <tr style=\"text-align: right;\">\n",
       "      <th></th>\n",
       "      <th>DAYOFSERVICE</th>\n",
       "      <th>TRIPID</th>\n",
       "      <th>PROGRNUMBER</th>\n",
       "      <th>STOPPOINTID</th>\n",
       "      <th>PLANNEDTIME_ARR</th>\n",
       "      <th>PLANNEDTIME_DEP</th>\n",
       "      <th>ACTUALTIME_ARR</th>\n",
       "      <th>ACTUALTIME_DEP</th>\n",
       "      <th>VEHICLEID</th>\n",
       "      <th>DIRECTION</th>\n",
       "      <th>...</th>\n",
       "      <th>HOUROFDAY</th>\n",
       "      <th>temp</th>\n",
       "      <th>wind_speed</th>\n",
       "      <th>w_main_Clouds</th>\n",
       "      <th>w_main_Drizzle</th>\n",
       "      <th>w_main_Fog</th>\n",
       "      <th>w_main_Mist</th>\n",
       "      <th>w_main_Rain</th>\n",
       "      <th>w_main_Smoke</th>\n",
       "      <th>w_main_Snow</th>\n",
       "    </tr>\n",
       "  </thead>\n",
       "  <tbody>\n",
       "    <tr>\n",
       "      <th>0</th>\n",
       "      <td>2018-01-01</td>\n",
       "      <td>5972116</td>\n",
       "      <td>12</td>\n",
       "      <td>119</td>\n",
       "      <td>48030</td>\n",
       "      <td>48030</td>\n",
       "      <td>48012</td>\n",
       "      <td>48012</td>\n",
       "      <td>2693211</td>\n",
       "      <td>1</td>\n",
       "      <td>...</td>\n",
       "      <td>13</td>\n",
       "      <td>7.43</td>\n",
       "      <td>12.86</td>\n",
       "      <td>0</td>\n",
       "      <td>0</td>\n",
       "      <td>0</td>\n",
       "      <td>0</td>\n",
       "      <td>1</td>\n",
       "      <td>0</td>\n",
       "      <td>0</td>\n",
       "    </tr>\n",
       "    <tr>\n",
       "      <th>1</th>\n",
       "      <td>2018-01-01</td>\n",
       "      <td>5972116</td>\n",
       "      <td>13</td>\n",
       "      <td>44</td>\n",
       "      <td>48079</td>\n",
       "      <td>48079</td>\n",
       "      <td>48058</td>\n",
       "      <td>48058</td>\n",
       "      <td>2693211</td>\n",
       "      <td>1</td>\n",
       "      <td>...</td>\n",
       "      <td>13</td>\n",
       "      <td>7.43</td>\n",
       "      <td>12.86</td>\n",
       "      <td>0</td>\n",
       "      <td>0</td>\n",
       "      <td>0</td>\n",
       "      <td>0</td>\n",
       "      <td>1</td>\n",
       "      <td>0</td>\n",
       "      <td>0</td>\n",
       "    </tr>\n",
       "    <tr>\n",
       "      <th>2</th>\n",
       "      <td>2018-01-01</td>\n",
       "      <td>5972116</td>\n",
       "      <td>14</td>\n",
       "      <td>7603</td>\n",
       "      <td>48114</td>\n",
       "      <td>48114</td>\n",
       "      <td>48071</td>\n",
       "      <td>48071</td>\n",
       "      <td>2693211</td>\n",
       "      <td>1</td>\n",
       "      <td>...</td>\n",
       "      <td>13</td>\n",
       "      <td>7.43</td>\n",
       "      <td>12.86</td>\n",
       "      <td>0</td>\n",
       "      <td>0</td>\n",
       "      <td>0</td>\n",
       "      <td>0</td>\n",
       "      <td>1</td>\n",
       "      <td>0</td>\n",
       "      <td>0</td>\n",
       "    </tr>\n",
       "    <tr>\n",
       "      <th>3</th>\n",
       "      <td>2018-01-01</td>\n",
       "      <td>5972116</td>\n",
       "      <td>15</td>\n",
       "      <td>45</td>\n",
       "      <td>48155</td>\n",
       "      <td>48155</td>\n",
       "      <td>48089</td>\n",
       "      <td>48100</td>\n",
       "      <td>2693211</td>\n",
       "      <td>1</td>\n",
       "      <td>...</td>\n",
       "      <td>13</td>\n",
       "      <td>7.43</td>\n",
       "      <td>12.86</td>\n",
       "      <td>0</td>\n",
       "      <td>0</td>\n",
       "      <td>0</td>\n",
       "      <td>0</td>\n",
       "      <td>1</td>\n",
       "      <td>0</td>\n",
       "      <td>0</td>\n",
       "    </tr>\n",
       "    <tr>\n",
       "      <th>4</th>\n",
       "      <td>2018-01-01</td>\n",
       "      <td>5972116</td>\n",
       "      <td>16</td>\n",
       "      <td>46</td>\n",
       "      <td>48221</td>\n",
       "      <td>48221</td>\n",
       "      <td>48137</td>\n",
       "      <td>48137</td>\n",
       "      <td>2693211</td>\n",
       "      <td>1</td>\n",
       "      <td>...</td>\n",
       "      <td>13</td>\n",
       "      <td>7.43</td>\n",
       "      <td>12.86</td>\n",
       "      <td>0</td>\n",
       "      <td>0</td>\n",
       "      <td>0</td>\n",
       "      <td>0</td>\n",
       "      <td>1</td>\n",
       "      <td>0</td>\n",
       "      <td>0</td>\n",
       "    </tr>\n",
       "  </tbody>\n",
       "</table>\n",
       "<p>5 rows × 25 columns</p>\n",
       "</div>"
      ],
      "text/plain": [
       "  DAYOFSERVICE   TRIPID  PROGRNUMBER  STOPPOINTID  PLANNEDTIME_ARR  \\\n",
       "0   2018-01-01  5972116           12          119            48030   \n",
       "1   2018-01-01  5972116           13           44            48079   \n",
       "2   2018-01-01  5972116           14         7603            48114   \n",
       "3   2018-01-01  5972116           15           45            48155   \n",
       "4   2018-01-01  5972116           16           46            48221   \n",
       "\n",
       "   PLANNEDTIME_DEP  ACTUALTIME_ARR  ACTUALTIME_DEP  VEHICLEID  DIRECTION  ...  \\\n",
       "0            48030           48012           48012    2693211          1  ...   \n",
       "1            48079           48058           48058    2693211          1  ...   \n",
       "2            48114           48071           48071    2693211          1  ...   \n",
       "3            48155           48089           48100    2693211          1  ...   \n",
       "4            48221           48137           48137    2693211          1  ...   \n",
       "\n",
       "   HOUROFDAY  temp  wind_speed  w_main_Clouds  w_main_Drizzle  w_main_Fog  \\\n",
       "0         13  7.43       12.86              0               0           0   \n",
       "1         13  7.43       12.86              0               0           0   \n",
       "2         13  7.43       12.86              0               0           0   \n",
       "3         13  7.43       12.86              0               0           0   \n",
       "4         13  7.43       12.86              0               0           0   \n",
       "\n",
       "   w_main_Mist  w_main_Rain  w_main_Smoke  w_main_Snow  \n",
       "0            0            1             0            0  \n",
       "1            0            1             0            0  \n",
       "2            0            1             0            0  \n",
       "3            0            1             0            0  \n",
       "4            0            1             0            0  \n",
       "\n",
       "[5 rows x 25 columns]"
      ]
     },
     "execution_count": 91,
     "metadata": {},
     "output_type": "execute_result"
    }
   ],
   "source": [
    "dfroute1.head()"
   ]
  },
  {
   "cell_type": "code",
   "execution_count": 92,
   "metadata": {},
   "outputs": [
    {
     "name": "stdout",
     "output_type": "stream",
     "text": [
      "         h_7  h_8  h_9  h_10  h_11  h_12  h_13  h_14  h_15  h_16  h_17  h_18  \\\n",
      "0          0    0    0     0     0     0     1     0     0     0     0     0   \n",
      "1          0    0    0     0     0     0     1     0     0     0     0     0   \n",
      "2          0    0    0     0     0     0     1     0     0     0     0     0   \n",
      "3          0    0    0     0     0     0     1     0     0     0     0     0   \n",
      "4          0    0    0     0     0     0     1     0     0     0     0     0   \n",
      "...      ...  ...  ...   ...   ...   ...   ...   ...   ...   ...   ...   ...   \n",
      "1294973    1    0    0     0     0     0     0     0     0     0     0     0   \n",
      "1294974    1    0    0     0     0     0     0     0     0     0     0     0   \n",
      "1294975    1    0    0     0     0     0     0     0     0     0     0     0   \n",
      "1294976    1    0    0     0     0     0     0     0     0     0     0     0   \n",
      "1294977    1    0    0     0     0     0     0     0     0     0     0     0   \n",
      "\n",
      "         h_19  h_20  h_21  h_22  h_23  h_24  \n",
      "0           0     0     0     0     0     0  \n",
      "1           0     0     0     0     0     0  \n",
      "2           0     0     0     0     0     0  \n",
      "3           0     0     0     0     0     0  \n",
      "4           0     0     0     0     0     0  \n",
      "...       ...   ...   ...   ...   ...   ...  \n",
      "1294973     0     0     0     0     0     0  \n",
      "1294974     0     0     0     0     0     0  \n",
      "1294975     0     0     0     0     0     0  \n",
      "1294976     0     0     0     0     0     0  \n",
      "1294977     0     0     0     0     0     0  \n",
      "\n",
      "[1294954 rows x 18 columns]\n"
     ]
    }
   ],
   "source": [
    "# getting dummies for HOUROFDAY\n",
    "hour_dummies = pd.get_dummies(dfroute1['HOUROFDAY'], prefix='h', drop_first=True)\n",
    "print(hour_dummies)"
   ]
  },
  {
   "cell_type": "code",
   "execution_count": 93,
   "metadata": {},
   "outputs": [],
   "source": [
    "# adding dummies to route 1 dataframe\n",
    "dfroute1 = pd.concat([dfroute1, hour_dummies], axis=1)"
   ]
  },
  {
   "cell_type": "code",
   "execution_count": 94,
   "metadata": {},
   "outputs": [
    {
     "data": {
      "text/html": [
       "<div>\n",
       "<style scoped>\n",
       "    .dataframe tbody tr th:only-of-type {\n",
       "        vertical-align: middle;\n",
       "    }\n",
       "\n",
       "    .dataframe tbody tr th {\n",
       "        vertical-align: top;\n",
       "    }\n",
       "\n",
       "    .dataframe thead th {\n",
       "        text-align: right;\n",
       "    }\n",
       "</style>\n",
       "<table border=\"1\" class=\"dataframe\">\n",
       "  <thead>\n",
       "    <tr style=\"text-align: right;\">\n",
       "      <th></th>\n",
       "      <th>DAYOFSERVICE</th>\n",
       "      <th>TRIPID</th>\n",
       "      <th>PROGRNUMBER</th>\n",
       "      <th>STOPPOINTID</th>\n",
       "      <th>PLANNEDTIME_ARR</th>\n",
       "      <th>PLANNEDTIME_DEP</th>\n",
       "      <th>ACTUALTIME_ARR</th>\n",
       "      <th>ACTUALTIME_DEP</th>\n",
       "      <th>VEHICLEID</th>\n",
       "      <th>DIRECTION</th>\n",
       "      <th>...</th>\n",
       "      <th>h_15</th>\n",
       "      <th>h_16</th>\n",
       "      <th>h_17</th>\n",
       "      <th>h_18</th>\n",
       "      <th>h_19</th>\n",
       "      <th>h_20</th>\n",
       "      <th>h_21</th>\n",
       "      <th>h_22</th>\n",
       "      <th>h_23</th>\n",
       "      <th>h_24</th>\n",
       "    </tr>\n",
       "  </thead>\n",
       "  <tbody>\n",
       "    <tr>\n",
       "      <th>0</th>\n",
       "      <td>2018-01-01</td>\n",
       "      <td>5972116</td>\n",
       "      <td>12</td>\n",
       "      <td>119</td>\n",
       "      <td>48030</td>\n",
       "      <td>48030</td>\n",
       "      <td>48012</td>\n",
       "      <td>48012</td>\n",
       "      <td>2693211</td>\n",
       "      <td>1</td>\n",
       "      <td>...</td>\n",
       "      <td>0</td>\n",
       "      <td>0</td>\n",
       "      <td>0</td>\n",
       "      <td>0</td>\n",
       "      <td>0</td>\n",
       "      <td>0</td>\n",
       "      <td>0</td>\n",
       "      <td>0</td>\n",
       "      <td>0</td>\n",
       "      <td>0</td>\n",
       "    </tr>\n",
       "    <tr>\n",
       "      <th>1</th>\n",
       "      <td>2018-01-01</td>\n",
       "      <td>5972116</td>\n",
       "      <td>13</td>\n",
       "      <td>44</td>\n",
       "      <td>48079</td>\n",
       "      <td>48079</td>\n",
       "      <td>48058</td>\n",
       "      <td>48058</td>\n",
       "      <td>2693211</td>\n",
       "      <td>1</td>\n",
       "      <td>...</td>\n",
       "      <td>0</td>\n",
       "      <td>0</td>\n",
       "      <td>0</td>\n",
       "      <td>0</td>\n",
       "      <td>0</td>\n",
       "      <td>0</td>\n",
       "      <td>0</td>\n",
       "      <td>0</td>\n",
       "      <td>0</td>\n",
       "      <td>0</td>\n",
       "    </tr>\n",
       "    <tr>\n",
       "      <th>2</th>\n",
       "      <td>2018-01-01</td>\n",
       "      <td>5972116</td>\n",
       "      <td>14</td>\n",
       "      <td>7603</td>\n",
       "      <td>48114</td>\n",
       "      <td>48114</td>\n",
       "      <td>48071</td>\n",
       "      <td>48071</td>\n",
       "      <td>2693211</td>\n",
       "      <td>1</td>\n",
       "      <td>...</td>\n",
       "      <td>0</td>\n",
       "      <td>0</td>\n",
       "      <td>0</td>\n",
       "      <td>0</td>\n",
       "      <td>0</td>\n",
       "      <td>0</td>\n",
       "      <td>0</td>\n",
       "      <td>0</td>\n",
       "      <td>0</td>\n",
       "      <td>0</td>\n",
       "    </tr>\n",
       "    <tr>\n",
       "      <th>3</th>\n",
       "      <td>2018-01-01</td>\n",
       "      <td>5972116</td>\n",
       "      <td>15</td>\n",
       "      <td>45</td>\n",
       "      <td>48155</td>\n",
       "      <td>48155</td>\n",
       "      <td>48089</td>\n",
       "      <td>48100</td>\n",
       "      <td>2693211</td>\n",
       "      <td>1</td>\n",
       "      <td>...</td>\n",
       "      <td>0</td>\n",
       "      <td>0</td>\n",
       "      <td>0</td>\n",
       "      <td>0</td>\n",
       "      <td>0</td>\n",
       "      <td>0</td>\n",
       "      <td>0</td>\n",
       "      <td>0</td>\n",
       "      <td>0</td>\n",
       "      <td>0</td>\n",
       "    </tr>\n",
       "    <tr>\n",
       "      <th>4</th>\n",
       "      <td>2018-01-01</td>\n",
       "      <td>5972116</td>\n",
       "      <td>16</td>\n",
       "      <td>46</td>\n",
       "      <td>48221</td>\n",
       "      <td>48221</td>\n",
       "      <td>48137</td>\n",
       "      <td>48137</td>\n",
       "      <td>2693211</td>\n",
       "      <td>1</td>\n",
       "      <td>...</td>\n",
       "      <td>0</td>\n",
       "      <td>0</td>\n",
       "      <td>0</td>\n",
       "      <td>0</td>\n",
       "      <td>0</td>\n",
       "      <td>0</td>\n",
       "      <td>0</td>\n",
       "      <td>0</td>\n",
       "      <td>0</td>\n",
       "      <td>0</td>\n",
       "    </tr>\n",
       "  </tbody>\n",
       "</table>\n",
       "<p>5 rows × 43 columns</p>\n",
       "</div>"
      ],
      "text/plain": [
       "  DAYOFSERVICE   TRIPID  PROGRNUMBER  STOPPOINTID  PLANNEDTIME_ARR  \\\n",
       "0   2018-01-01  5972116           12          119            48030   \n",
       "1   2018-01-01  5972116           13           44            48079   \n",
       "2   2018-01-01  5972116           14         7603            48114   \n",
       "3   2018-01-01  5972116           15           45            48155   \n",
       "4   2018-01-01  5972116           16           46            48221   \n",
       "\n",
       "   PLANNEDTIME_DEP  ACTUALTIME_ARR  ACTUALTIME_DEP  VEHICLEID  DIRECTION  ...  \\\n",
       "0            48030           48012           48012    2693211          1  ...   \n",
       "1            48079           48058           48058    2693211          1  ...   \n",
       "2            48114           48071           48071    2693211          1  ...   \n",
       "3            48155           48089           48100    2693211          1  ...   \n",
       "4            48221           48137           48137    2693211          1  ...   \n",
       "\n",
       "   h_15  h_16  h_17  h_18  h_19  h_20  h_21  h_22  h_23  h_24  \n",
       "0     0     0     0     0     0     0     0     0     0     0  \n",
       "1     0     0     0     0     0     0     0     0     0     0  \n",
       "2     0     0     0     0     0     0     0     0     0     0  \n",
       "3     0     0     0     0     0     0     0     0     0     0  \n",
       "4     0     0     0     0     0     0     0     0     0     0  \n",
       "\n",
       "[5 rows x 43 columns]"
      ]
     },
     "execution_count": 94,
     "metadata": {},
     "output_type": "execute_result"
    }
   ],
   "source": [
    "dfroute1.head()"
   ]
  },
  {
   "cell_type": "code",
   "execution_count": 95,
   "metadata": {},
   "outputs": [],
   "source": [
    "# 70/30 train/test split for route 1 data\n",
    "trainroute1 = dfroute1.sample(frac=0.7, random_state=1)\n",
    "testroute1 = dfroute1.drop(trainroute1.index)"
   ]
  },
  {
   "cell_type": "code",
   "execution_count": 96,
   "metadata": {},
   "outputs": [],
   "source": [
    "# the descriptive features for this model\n",
    "r1features3 = ['PROGRNUMBER', 'DIRECTION', 'DAYOFWEEK', 'MONTHOFYEAR', 'h_7', 'h_8', 'h_9', 'h_10', 'h_11', 'h_12', 'h_13', 'h_14', 'h_15', 'h_16', 'h_17', 'h_18', 'h_19', 'h_20', 'h_21', 'h_22', 'h_23', 'h_24']\n",
    "\n",
    "X = trainroute1[r1features3]\n",
    "y = trainroute1['TRAVELTIME']"
   ]
  },
  {
   "cell_type": "code",
   "execution_count": 97,
   "metadata": {},
   "outputs": [],
   "source": [
    "# fitting the model\n",
    "linreg3r1 = LinearRegression().fit(X, y)"
   ]
  },
  {
   "cell_type": "code",
   "execution_count": 98,
   "metadata": {},
   "outputs": [
    {
     "name": "stdout",
     "output_type": "stream",
     "text": [
      "Intercept:  -481.4102587327252\n",
      "Features and coeficients: [('PROGRNUMBER', 84.48307054105268), ('DIRECTION', 80.23496240631516), ('DAYOFWEEK', -14.748811747035766), ('MONTHOFYEAR', 4.75280608809436), ('h_7', 31.752351062029504), ('h_8', 204.5268937412737), ('h_9', 286.4886414855074), ('h_10', 122.88095189456546), ('h_11', 106.9158527793839), ('h_12', 128.0151763227275), ('h_13', 151.2825267553857), ('h_14', 139.102504417966), ('h_15', 166.90727121786568), ('h_16', 201.46805980895266), ('h_17', 276.1514282149543), ('h_18', 316.15538537837944), ('h_19', 145.64710899535623), ('h_20', -33.80674523021234), ('h_21', -186.01436188433385), ('h_22', -294.52721763542496), ('h_23', -204.8684942937776), ('h_24', 712.6579646417637)]\n"
     ]
    }
   ],
   "source": [
    "# printing the intercept and weights learned for each feature\n",
    "print(\"Intercept: \", linreg3r1.intercept_)\n",
    "print(\"Features and coeficients:\", list(zip(r1features3, linreg3r1.coef_)))"
   ]
  },
  {
   "cell_type": "code",
   "execution_count": 99,
   "metadata": {},
   "outputs": [
    {
     "name": "stdout",
     "output_type": "stream",
     "text": [
      "Predictions for first 20 rows of training dataframe: \n",
      "\n",
      "         TRAVELTIME    Predicted\n",
      "456869        817.0  1053.838496\n",
      "911249       2149.0  2290.158943\n",
      "808902        883.0  1163.667313\n",
      "203119       2166.0  2632.037241\n",
      "382704       2144.0  1874.033359\n",
      "1281194      1810.0  2266.514642\n",
      "144258       1668.0  1561.227312\n",
      "1072832       191.0   174.921597\n",
      "991285        139.0   229.048576\n",
      "543174       2432.0  2123.712112\n",
      "895489         63.0    67.019606\n",
      "488077       1102.0  1091.972727\n",
      "235929       1577.0  1574.484362\n",
      "959439        516.0   858.076194\n",
      "964122       3369.0  2451.211696\n",
      "501294       2957.0  2788.332966\n",
      "837476        800.0  1084.242048\n",
      "611430       2243.0  2043.981847\n",
      "39504         635.0   840.619643\n",
      "378116       2717.0  2147.365607\n"
     ]
    }
   ],
   "source": [
    "# predicting the travel time for the first 20 rows of the training dataframe\n",
    "linreg3r1_predictions = linreg3r1.predict(X.head(20))\n",
    "\n",
    "print(\"Predictions for first 20 rows of training dataframe: \\n\")\n",
    "actual_vs_pred_linreg3r1 = pd.concat([y.head(20), pd.DataFrame(linreg3r1_predictions, columns=['Predicted'], index=y.head(20).index)], axis=1)\n",
    "print(actual_vs_pred_linreg3r1)"
   ]
  },
  {
   "cell_type": "code",
   "execution_count": 100,
   "metadata": {},
   "outputs": [],
   "source": [
    "# predicting the travel time for entire test dataframe\n",
    "linreg3r1_test_predictions = linreg3r1.predict(testroute1[r1features3])"
   ]
  },
  {
   "cell_type": "code",
   "execution_count": 101,
   "metadata": {},
   "outputs": [],
   "source": [
    "# difference between test travel times and test predictions\n",
    "r1prediction_diffs3 = testroute1['TRAVELTIME'] - linreg3r1_test_predictions"
   ]
  },
  {
   "cell_type": "code",
   "execution_count": 102,
   "metadata": {},
   "outputs": [
    {
     "name": "stdout",
     "output_type": "stream",
     "text": [
      "RMSE: 365.99591879901936\n"
     ]
    }
   ],
   "source": [
    "# calculating root mean square error\n",
    "r1_linmodel3_rmse = ((r1prediction_diffs3**2).mean())**0.5\n",
    "print(\"RMSE:\", r1_linmodel3_rmse)"
   ]
  },
  {
   "cell_type": "code",
   "execution_count": 103,
   "metadata": {},
   "outputs": [
    {
     "name": "stdout",
     "output_type": "stream",
     "text": [
      "R2 score: 0.8912408334081313\n"
     ]
    }
   ],
   "source": [
    "# printing r2 score\n",
    "print(\"R2 score:\", r2_score(testroute1['TRAVELTIME'], linreg3r1_test_predictions))"
   ]
  },
  {
   "cell_type": "markdown",
   "metadata": {},
   "source": [
    "We have a 30 second improvement from using these dummy variables for the hour."
   ]
  },
  {
   "cell_type": "code",
   "execution_count": 104,
   "metadata": {},
   "outputs": [
    {
     "name": "stdout",
     "output_type": "stream",
     "text": [
      "1564.6846202648762\n",
      "1511.5374300792946\n",
      "1479.4790292416312\n",
      "1457.1365873121426\n",
      "1467.3883099229724\n",
      "1377.102354933046\n",
      "1488.3893805309735\n"
     ]
    }
   ],
   "source": [
    "for condition in np.delete(dfw['weather_main'].unique(), 3):\n",
    "    print(dfroute1['TRAVELTIME'].loc[dfroute1['w_main_{}'.format(condition)] == 1].mean())"
   ]
  },
  {
   "cell_type": "markdown",
   "metadata": {},
   "source": [
    "We can see the effect that the weather condition has on the travel times above."
   ]
  },
  {
   "cell_type": "code",
   "execution_count": 105,
   "metadata": {},
   "outputs": [
    {
     "data": {
      "text/plain": [
       "<AxesSubplot:>"
      ]
     },
     "execution_count": 105,
     "metadata": {},
     "output_type": "execute_result"
    },
    {
     "data": {
      "image/png": "[encoded data removed]",
      "text/plain": [
       "<Figure size 432x288 with 1 Axes>"
      ]
     },
     "metadata": {
      "needs_background": "light"
     },
     "output_type": "display_data"
    }
   ],
   "source": [
    "dfroute1['temp'].hist()"
   ]
  },
  {
   "cell_type": "code",
   "execution_count": 106,
   "metadata": {},
   "outputs": [
    {
     "name": "stdout",
     "output_type": "stream",
     "text": [
      "662.4870689655172\n",
      "1132.5035587188613\n",
      "1284.8890583999512\n",
      "1358.8275577982597\n",
      "1488.7693145789526\n",
      "1531.8056746036618\n",
      "1549.0380858825395\n",
      "1520.3456836806438\n",
      "1492.4901508713763\n",
      "1476.988988721086\n",
      "1523.0199810184524\n",
      "1555.0161773207797\n",
      "1576.1618067264176\n",
      "1625.3144757570453\n",
      "1616.5127464309994\n",
      "1549.8966267682263\n",
      "nan\n"
     ]
    }
   ],
   "source": [
    "for i in range(-5, 28, 2):\n",
    "    print(dfroute1['TRAVELTIME'].loc[(dfroute1['temp'] > i) & (dfroute1['temp'] < i+2)].mean())"
   ]
  },
  {
   "cell_type": "markdown",
   "metadata": {},
   "source": [
    "We can also see that temperature has an effect on the travel time, where colder temperatures seem to correlate with lower travel times."
   ]
  },
  {
   "cell_type": "code",
   "execution_count": 107,
   "metadata": {},
   "outputs": [
    {
     "data": {
      "text/plain": [
       "<AxesSubplot:>"
      ]
     },
     "execution_count": 107,
     "metadata": {},
     "output_type": "execute_result"
    },
    {
     "data": {
      "image/png": "[encoded data removed]",
      "text/plain": [
       "<Figure size 432x288 with 1 Axes>"
      ]
     },
     "metadata": {
      "needs_background": "light"
     },
     "output_type": "display_data"
    }
   ],
   "source": [
    "dfroute1['wind_speed'].hist()"
   ]
  },
  {
   "cell_type": "code",
   "execution_count": 108,
   "metadata": {},
   "outputs": [
    {
     "name": "stdout",
     "output_type": "stream",
     "text": [
      "1393.3423306790573\n",
      "1466.9334770602484\n",
      "1531.8551430868395\n",
      "1553.3904757046496\n",
      "1546.5560622978871\n",
      "1507.6970341293206\n",
      "1563.0552311819472\n",
      "1372.9494609164421\n",
      "1321.3322091062394\n",
      "1293.6323232323232\n",
      "nan\n"
     ]
    }
   ],
   "source": [
    "for i in range(0, 21, 2):\n",
    "    print(dfroute1['TRAVELTIME'].loc[(dfroute1['wind_speed'] > i) & (dfroute1['wind_speed'] < i+2)].mean())"
   ]
  },
  {
   "cell_type": "markdown",
   "metadata": {},
   "source": [
    "There appears to be a nonlinear relationship between the wind speed and the travel time."
   ]
  },
  {
   "cell_type": "code",
   "execution_count": 109,
   "metadata": {},
   "outputs": [],
   "source": [
    "# descriptive features (same model as last time except we include temp and weather condition)\n",
    "r1features4 = ['PROGRNUMBER', 'DIRECTION', 'DAYOFWEEK', 'MONTHOFYEAR', 'temp', 'w_main_Clouds', 'w_main_Drizzle', 'w_main_Fog', 'w_main_Mist', 'w_main_Rain', 'w_main_Smoke', 'w_main_Snow', 'h_7', 'h_8', 'h_9', 'h_10', 'h_11', 'h_12', 'h_13', 'h_14', 'h_15', 'h_16', 'h_17', 'h_18', 'h_19', 'h_20', 'h_21', 'h_22', 'h_23', 'h_24']\n",
    "\n",
    "X = trainroute1[r1features4]\n",
    "y = trainroute1['TRAVELTIME']"
   ]
  },
  {
   "cell_type": "code",
   "execution_count": 110,
   "metadata": {},
   "outputs": [],
   "source": [
    "# fitting the model\n",
    "linreg4r1 = LinearRegression().fit(X, y)"
   ]
  },
  {
   "cell_type": "code",
   "execution_count": 111,
   "metadata": {},
   "outputs": [
    {
     "name": "stdout",
     "output_type": "stream",
     "text": [
      "Intercept:  -465.6750949537734\n",
      "Features and coeficients: [('PROGRNUMBER', 84.4654750215961), ('DIRECTION', 80.26737800719923), ('DAYOFWEEK', -14.574141213288001), ('MONTHOFYEAR', 5.252026992352576), ('temp', -2.0501244258750617), ('w_main_Clouds', -7.0007323995521515), ('w_main_Drizzle', -16.729007417466043), ('w_main_Fog', -32.23752793611141), ('w_main_Mist', 94.10367865417274), ('w_main_Rain', 17.346166315420042), ('w_main_Smoke', -28.98091530550773), ('w_main_Snow', -112.1107437380235), ('h_7', 33.15372678881498), ('h_8', 209.16547557575944), ('h_9', 292.7293078143686), ('h_10', 130.35667179815653), ('h_11', 115.12816220760497), ('h_12', 138.6324890816003), ('h_13', 162.12035310882146), ('h_14', 149.9633186696209), ('h_15', 177.40543449827794), ('h_16', 211.00399692160835), ('h_17', 286.4029656664623), ('h_18', 325.25093311584436), ('h_19', 153.09402097873553), ('h_20', -28.822950874372726), ('h_21', -181.32311667761053), ('h_22', -290.43575352496265), ('h_23', -200.02426201671867), ('h_24', 722.7072080583405)]\n"
     ]
    }
   ],
   "source": [
    "# printing the intercept and weights learned for each feature\n",
    "print(\"Intercept: \", linreg4r1.intercept_)\n",
    "print(\"Features and coeficients:\", list(zip(r1features4, linreg4r1.coef_)))"
   ]
  },
  {
   "cell_type": "code",
   "execution_count": 112,
   "metadata": {},
   "outputs": [
    {
     "name": "stdout",
     "output_type": "stream",
     "text": [
      "Predictions for first 20 rows of training dataframe: \n",
      "\n",
      "         TRAVELTIME    Predicted\n",
      "456869        817.0  1035.316285\n",
      "911249       2149.0  2279.187702\n",
      "808902        883.0  1152.075986\n",
      "203119       2166.0  2648.064867\n",
      "382704       2144.0  1866.527439\n",
      "1281194      1810.0  2263.676181\n",
      "144258       1668.0  1576.353345\n",
      "1072832       191.0   203.758147\n",
      "991285        139.0   229.410627\n",
      "543174       2432.0  2107.293957\n",
      "895489         63.0    58.396508\n",
      "488077       1102.0  1086.969697\n",
      "235929       1577.0  1579.967140\n",
      "959439        516.0   864.838110\n",
      "964122       3369.0  2455.711107\n",
      "501294       2957.0  2777.052464\n",
      "837476        800.0  1081.371675\n",
      "611430       2243.0  2023.139710\n",
      "39504         635.0   844.506686\n",
      "378116       2717.0  2137.094978\n"
     ]
    }
   ],
   "source": [
    "# predicting the travel time for the first 20 rows of the training dataframe\n",
    "linreg4r1_predictions = linreg4r1.predict(X.head(20))\n",
    "\n",
    "print(\"Predictions for first 20 rows of training dataframe: \\n\")\n",
    "actual_vs_pred_linreg4r1 = pd.concat([y.head(20), pd.DataFrame(linreg4r1_predictions, columns=['Predicted'], index=y.head(20).index)], axis=1)\n",
    "print(actual_vs_pred_linreg4r1)"
   ]
  },
  {
   "cell_type": "code",
   "execution_count": 113,
   "metadata": {},
   "outputs": [],
   "source": [
    "# predicting the travel time for entire test dataframe\n",
    "linreg4r1_test_predictions = linreg4r1.predict(testroute1[r1features4])"
   ]
  },
  {
   "cell_type": "code",
   "execution_count": 114,
   "metadata": {},
   "outputs": [],
   "source": [
    "# difference between test travel times and test predictions\n",
    "r1prediction_diffs4 = testroute1['TRAVELTIME'] - linreg4r1_test_predictions"
   ]
  },
  {
   "cell_type": "code",
   "execution_count": 115,
   "metadata": {},
   "outputs": [
    {
     "name": "stdout",
     "output_type": "stream",
     "text": [
      "RMSE: 365.60834689012785\n"
     ]
    }
   ],
   "source": [
    "# calculating root mean square error\n",
    "r1_linmodel4_rmse = ((r1prediction_diffs4**2).mean())**0.5\n",
    "print(\"RMSE:\", r1_linmodel4_rmse)"
   ]
  },
  {
   "cell_type": "code",
   "execution_count": 116,
   "metadata": {},
   "outputs": [
    {
     "name": "stdout",
     "output_type": "stream",
     "text": [
      "R2 score: 0.8914710528022948\n"
     ]
    }
   ],
   "source": [
    "# printing r2 score\n",
    "print(\"R2 score:\", r2_score(testroute1['TRAVELTIME'], linreg4r1_test_predictions))"
   ]
  },
  {
   "cell_type": "markdown",
   "metadata": {},
   "source": [
    "These results are the best results so far, however, they are only marginally better than the previous results for RMSE and R2 score."
   ]
  },
  {
   "cell_type": "markdown",
   "metadata": {},
   "source": [
    "## 3.4 - Removing more outliers from route 1 dataframe to improve results"
   ]
  },
  {
   "cell_type": "code",
   "execution_count": 117,
   "metadata": {},
   "outputs": [
    {
     "data": {
      "text/plain": [
       "<AxesSubplot:>"
      ]
     },
     "execution_count": 117,
     "metadata": {},
     "output_type": "execute_result"
    },
    {
     "data": {
      "image/png": "[encoded data removed]",
      "text/plain": [
       "<Figure size 432x288 with 1 Axes>"
      ]
     },
     "metadata": {
      "needs_background": "light"
     },
     "output_type": "display_data"
    }
   ],
   "source": [
    "dfroute1['TRAVELTIME'].plot(kind='box')"
   ]
  },
  {
   "cell_type": "code",
   "execution_count": 118,
   "metadata": {},
   "outputs": [
    {
     "data": {
      "text/plain": [
       "<AxesSubplot:xlabel='PROGRNUMBER', ylabel='TRAVELTIME'>"
      ]
     },
     "execution_count": 118,
     "metadata": {},
     "output_type": "execute_result"
    },
    {
     "data": {
      "image/png": "[encoded data removed]",
      "text/plain": [
       "<Figure size 432x288 with 1 Axes>"
      ]
     },
     "metadata": {
      "needs_background": "light"
     },
     "output_type": "display_data"
    }
   ],
   "source": [
    "# plotting scatter plot for PROGRNUMBER vs TRAVELTIME for route 1\n",
    "dfroute1[['PROGRNUMBER', 'TRAVELTIME']].plot(kind='scatter', x='PROGRNUMBER', y='TRAVELTIME')"
   ]
  },
  {
   "cell_type": "code",
   "execution_count": 119,
   "metadata": {},
   "outputs": [
    {
     "data": {
      "text/html": [
       "<div>\n",
       "<style scoped>\n",
       "    .dataframe tbody tr th:only-of-type {\n",
       "        vertical-align: middle;\n",
       "    }\n",
       "\n",
       "    .dataframe tbody tr th {\n",
       "        vertical-align: top;\n",
       "    }\n",
       "\n",
       "    .dataframe thead th {\n",
       "        text-align: right;\n",
       "    }\n",
       "</style>\n",
       "<table border=\"1\" class=\"dataframe\">\n",
       "  <thead>\n",
       "    <tr style=\"text-align: right;\">\n",
       "      <th></th>\n",
       "      <th>TRIPID</th>\n",
       "      <th>TRAVELTIME</th>\n",
       "    </tr>\n",
       "  </thead>\n",
       "  <tbody>\n",
       "    <tr>\n",
       "      <th>1168186</th>\n",
       "      <td>8100476</td>\n",
       "      <td>-661.0</td>\n",
       "    </tr>\n",
       "    <tr>\n",
       "      <th>1168187</th>\n",
       "      <td>8100476</td>\n",
       "      <td>-291.0</td>\n",
       "    </tr>\n",
       "    <tr>\n",
       "      <th>1168189</th>\n",
       "      <td>8100476</td>\n",
       "      <td>-139.0</td>\n",
       "    </tr>\n",
       "    <tr>\n",
       "      <th>1168206</th>\n",
       "      <td>8100476</td>\n",
       "      <td>-17.0</td>\n",
       "    </tr>\n",
       "  </tbody>\n",
       "</table>\n",
       "</div>"
      ],
      "text/plain": [
       "          TRIPID  TRAVELTIME\n",
       "1168186  8100476      -661.0\n",
       "1168187  8100476      -291.0\n",
       "1168189  8100476      -139.0\n",
       "1168206  8100476       -17.0"
      ]
     },
     "execution_count": 119,
     "metadata": {},
     "output_type": "execute_result"
    }
   ],
   "source": [
    "# printing negative travel times\n",
    "dfroute1[['TRIPID', 'TRAVELTIME']].loc[dfroute1['TRAVELTIME'] < 0]"
   ]
  },
  {
   "cell_type": "code",
   "execution_count": 120,
   "metadata": {},
   "outputs": [
    {
     "data": {
      "text/html": [
       "<div>\n",
       "<style scoped>\n",
       "    .dataframe tbody tr th:only-of-type {\n",
       "        vertical-align: middle;\n",
       "    }\n",
       "\n",
       "    .dataframe tbody tr th {\n",
       "        vertical-align: top;\n",
       "    }\n",
       "\n",
       "    .dataframe thead th {\n",
       "        text-align: right;\n",
       "    }\n",
       "</style>\n",
       "<table border=\"1\" class=\"dataframe\">\n",
       "  <thead>\n",
       "    <tr style=\"text-align: right;\">\n",
       "      <th></th>\n",
       "      <th>TRIPID</th>\n",
       "      <th>TRAVELTIME</th>\n",
       "    </tr>\n",
       "  </thead>\n",
       "  <tbody>\n",
       "    <tr>\n",
       "      <th>346424</th>\n",
       "      <td>6626022</td>\n",
       "      <td>13464.0</td>\n",
       "    </tr>\n",
       "    <tr>\n",
       "      <th>749477</th>\n",
       "      <td>7331176</td>\n",
       "      <td>7640.0</td>\n",
       "    </tr>\n",
       "    <tr>\n",
       "      <th>749478</th>\n",
       "      <td>7331176</td>\n",
       "      <td>7686.0</td>\n",
       "    </tr>\n",
       "    <tr>\n",
       "      <th>749479</th>\n",
       "      <td>7331176</td>\n",
       "      <td>7715.0</td>\n",
       "    </tr>\n",
       "    <tr>\n",
       "      <th>749480</th>\n",
       "      <td>7331176</td>\n",
       "      <td>7761.0</td>\n",
       "    </tr>\n",
       "    <tr>\n",
       "      <th>...</th>\n",
       "      <td>...</td>\n",
       "      <td>...</td>\n",
       "    </tr>\n",
       "    <tr>\n",
       "      <th>1204118</th>\n",
       "      <td>8156147</td>\n",
       "      <td>9124.0</td>\n",
       "    </tr>\n",
       "    <tr>\n",
       "      <th>1204119</th>\n",
       "      <td>8156147</td>\n",
       "      <td>8526.0</td>\n",
       "    </tr>\n",
       "    <tr>\n",
       "      <th>1204120</th>\n",
       "      <td>8156147</td>\n",
       "      <td>8699.0</td>\n",
       "    </tr>\n",
       "    <tr>\n",
       "      <th>1204121</th>\n",
       "      <td>8156147</td>\n",
       "      <td>8744.0</td>\n",
       "    </tr>\n",
       "    <tr>\n",
       "      <th>1204122</th>\n",
       "      <td>8156147</td>\n",
       "      <td>8959.0</td>\n",
       "    </tr>\n",
       "  </tbody>\n",
       "</table>\n",
       "<p>69 rows × 2 columns</p>\n",
       "</div>"
      ],
      "text/plain": [
       "          TRIPID  TRAVELTIME\n",
       "346424   6626022     13464.0\n",
       "749477   7331176      7640.0\n",
       "749478   7331176      7686.0\n",
       "749479   7331176      7715.0\n",
       "749480   7331176      7761.0\n",
       "...          ...         ...\n",
       "1204118  8156147      9124.0\n",
       "1204119  8156147      8526.0\n",
       "1204120  8156147      8699.0\n",
       "1204121  8156147      8744.0\n",
       "1204122  8156147      8959.0\n",
       "\n",
       "[69 rows x 2 columns]"
      ]
     },
     "execution_count": 120,
     "metadata": {},
     "output_type": "execute_result"
    }
   ],
   "source": [
    "# printing travel times larger than 5 times the mean\n",
    "dfroute1[['TRIPID', 'TRAVELTIME']].loc[dfroute1['TRAVELTIME'] > dfroute1['TRAVELTIME'].mean()*5]"
   ]
  },
  {
   "cell_type": "code",
   "execution_count": 121,
   "metadata": {},
   "outputs": [
    {
     "data": {
      "text/html": [
       "<div>\n",
       "<style scoped>\n",
       "    .dataframe tbody tr th:only-of-type {\n",
       "        vertical-align: middle;\n",
       "    }\n",
       "\n",
       "    .dataframe tbody tr th {\n",
       "        vertical-align: top;\n",
       "    }\n",
       "\n",
       "    .dataframe thead th {\n",
       "        text-align: right;\n",
       "    }\n",
       "</style>\n",
       "<table border=\"1\" class=\"dataframe\">\n",
       "  <thead>\n",
       "    <tr style=\"text-align: right;\">\n",
       "      <th></th>\n",
       "      <th>TRIPID</th>\n",
       "      <th>TRAVELTIME</th>\n",
       "    </tr>\n",
       "  </thead>\n",
       "  <tbody>\n",
       "    <tr>\n",
       "      <th>4340</th>\n",
       "      <td>5963397</td>\n",
       "      <td>4872.0</td>\n",
       "    </tr>\n",
       "    <tr>\n",
       "      <th>4341</th>\n",
       "      <td>5963397</td>\n",
       "      <td>4756.0</td>\n",
       "    </tr>\n",
       "    <tr>\n",
       "      <th>4342</th>\n",
       "      <td>5963397</td>\n",
       "      <td>4707.0</td>\n",
       "    </tr>\n",
       "    <tr>\n",
       "      <th>4343</th>\n",
       "      <td>5963397</td>\n",
       "      <td>4644.0</td>\n",
       "    </tr>\n",
       "    <tr>\n",
       "      <th>4370</th>\n",
       "      <td>5963397</td>\n",
       "      <td>4928.0</td>\n",
       "    </tr>\n",
       "    <tr>\n",
       "      <th>...</th>\n",
       "      <td>...</td>\n",
       "      <td>...</td>\n",
       "    </tr>\n",
       "    <tr>\n",
       "      <th>1269562</th>\n",
       "      <td>8585438</td>\n",
       "      <td>4661.0</td>\n",
       "    </tr>\n",
       "    <tr>\n",
       "      <th>1269563</th>\n",
       "      <td>8585438</td>\n",
       "      <td>4682.0</td>\n",
       "    </tr>\n",
       "    <tr>\n",
       "      <th>1269564</th>\n",
       "      <td>8585438</td>\n",
       "      <td>4729.0</td>\n",
       "    </tr>\n",
       "    <tr>\n",
       "      <th>1269565</th>\n",
       "      <td>8585438</td>\n",
       "      <td>4768.0</td>\n",
       "    </tr>\n",
       "    <tr>\n",
       "      <th>1269582</th>\n",
       "      <td>8585438</td>\n",
       "      <td>4821.0</td>\n",
       "    </tr>\n",
       "  </tbody>\n",
       "</table>\n",
       "<p>3380 rows × 2 columns</p>\n",
       "</div>"
      ],
      "text/plain": [
       "          TRIPID  TRAVELTIME\n",
       "4340     5963397      4872.0\n",
       "4341     5963397      4756.0\n",
       "4342     5963397      4707.0\n",
       "4343     5963397      4644.0\n",
       "4370     5963397      4928.0\n",
       "...          ...         ...\n",
       "1269562  8585438      4661.0\n",
       "1269563  8585438      4682.0\n",
       "1269564  8585438      4729.0\n",
       "1269565  8585438      4768.0\n",
       "1269582  8585438      4821.0\n",
       "\n",
       "[3380 rows x 2 columns]"
      ]
     },
     "execution_count": 121,
     "metadata": {},
     "output_type": "execute_result"
    }
   ],
   "source": [
    "# printing travel times larger than 3 times the mean\n",
    "dfroute1[['TRIPID', 'TRAVELTIME']].loc[dfroute1['TRAVELTIME'] > dfroute1['TRAVELTIME'].mean()*3]"
   ]
  },
  {
   "cell_type": "code",
   "execution_count": 122,
   "metadata": {},
   "outputs": [
    {
     "data": {
      "text/plain": [
       "(1294954, 43)"
      ]
     },
     "execution_count": 122,
     "metadata": {},
     "output_type": "execute_result"
    }
   ],
   "source": [
    "dfroute1.shape"
   ]
  },
  {
   "cell_type": "code",
   "execution_count": 123,
   "metadata": {},
   "outputs": [],
   "source": [
    "# list of indices of bad times\n",
    "badTimesIndexList = dfroute1[['TRIPID', 'DAYOFSERVICE', 'TRAVELTIME']].loc[(dfroute1['TRAVELTIME'] > dfroute1['TRAVELTIME'].mean()*4) | (dfroute1['TRAVELTIME'] < 0)].index.tolist()"
   ]
  },
  {
   "cell_type": "code",
   "execution_count": 124,
   "metadata": {},
   "outputs": [],
   "source": [
    "# list trip and dayofservice for all trips with outlier data (4 times above mean travel time or below 0 travel time)\n",
    "dfr1badtimes = dfroute1[['TRIPID', 'DAYOFSERVICE', 'TRAVELTIME']].loc[(dfroute1['TRAVELTIME'] > dfroute1['TRAVELTIME'].mean()*4) | (dfroute1['TRAVELTIME'] < 0)]"
   ]
  },
  {
   "cell_type": "code",
   "execution_count": 125,
   "metadata": {},
   "outputs": [
    {
     "data": {
      "text/plain": [
       "(336, 3)"
      ]
     },
     "execution_count": 125,
     "metadata": {},
     "output_type": "execute_result"
    }
   ],
   "source": [
    "dfr1badtimes.shape"
   ]
  },
  {
   "cell_type": "code",
   "execution_count": 126,
   "metadata": {},
   "outputs": [],
   "source": [
    "# list of indices of bad trips\n",
    "badTripsIndexList = dfroute1.loc[(dfroute1['DAYOFSERVICE'].isin(dfr1badtimes['DAYOFSERVICE'].unique())) & (dfroute1['TRIPID'].isin(dfr1badtimes['TRIPID'].unique()))].index.tolist()"
   ]
  },
  {
   "cell_type": "code",
   "execution_count": 127,
   "metadata": {},
   "outputs": [
    {
     "data": {
      "text/plain": [
       "2304"
      ]
     },
     "execution_count": 127,
     "metadata": {},
     "output_type": "execute_result"
    }
   ],
   "source": [
    "len(badTripsIndexList)"
   ]
  },
  {
   "cell_type": "code",
   "execution_count": 128,
   "metadata": {},
   "outputs": [],
   "source": [
    "# dropping bad trips from route 1 dataframe\n",
    "dfroute1 = dfroute1.drop(badTripsIndexList)"
   ]
  },
  {
   "cell_type": "code",
   "execution_count": 129,
   "metadata": {},
   "outputs": [
    {
     "data": {
      "text/plain": [
       "(1292650, 43)"
      ]
     },
     "execution_count": 129,
     "metadata": {},
     "output_type": "execute_result"
    }
   ],
   "source": [
    "dfroute1.shape"
   ]
  },
  {
   "cell_type": "code",
   "execution_count": 130,
   "metadata": {},
   "outputs": [
    {
     "data": {
      "text/plain": [
       "<AxesSubplot:xlabel='PROGRNUMBER', ylabel='TRAVELTIME'>"
      ]
     },
     "execution_count": 130,
     "metadata": {},
     "output_type": "execute_result"
    },
    {
     "data": {
      "image/png": "[encoded data removed]",
      "text/plain": [
       "<Figure size 432x288 with 1 Axes>"
      ]
     },
     "metadata": {
      "needs_background": "light"
     },
     "output_type": "display_data"
    }
   ],
   "source": [
    "# plotting scatter plot for PROGRNUMBER vs TRAVELTIME for route 1\n",
    "dfroute1[['PROGRNUMBER', 'TRAVELTIME']].plot(kind='scatter', x='PROGRNUMBER', y='TRAVELTIME')"
   ]
  },
  {
   "cell_type": "markdown",
   "metadata": {},
   "source": [
    "This data already looks a lot more promising. Now I want to look at stop time and remove any trips which were stopped for too long."
   ]
  },
  {
   "cell_type": "code",
   "execution_count": 131,
   "metadata": {},
   "outputs": [],
   "source": [
    "dfr1longstops = dfroute1.loc[dfroute1['STOPTIME'] > 600]"
   ]
  },
  {
   "cell_type": "code",
   "execution_count": 132,
   "metadata": {},
   "outputs": [
    {
     "data": {
      "text/plain": [
       "(401, 43)"
      ]
     },
     "execution_count": 132,
     "metadata": {},
     "output_type": "execute_result"
    }
   ],
   "source": [
    "dfr1longstops.shape"
   ]
  },
  {
   "cell_type": "markdown",
   "metadata": {},
   "source": [
    "401 trips were stopped for at least 10 minutes at a single time. Let's see how may different rows this affected in our route 1 dataframe."
   ]
  },
  {
   "cell_type": "code",
   "execution_count": 133,
   "metadata": {},
   "outputs": [],
   "source": [
    "longStopsIndexList = dfroute1.loc[(dfroute1['DAYOFSERVICE'].isin(dfr1longstops['DAYOFSERVICE'].unique())) & (dfroute1['TRIPID'].isin(dfr1longstops['TRIPID'].unique()))].index.tolist()"
   ]
  },
  {
   "cell_type": "code",
   "execution_count": 134,
   "metadata": {},
   "outputs": [
    {
     "data": {
      "text/plain": [
       "38295"
      ]
     },
     "execution_count": 134,
     "metadata": {},
     "output_type": "execute_result"
    }
   ],
   "source": [
    "len(longStopsIndexList)"
   ]
  },
  {
   "cell_type": "code",
   "execution_count": 135,
   "metadata": {},
   "outputs": [],
   "source": [
    "# dropping trips which had stops which lasted for over 10 minutes\n",
    "dfroute1 = dfroute1.drop(longStopsIndexList)"
   ]
  },
  {
   "cell_type": "code",
   "execution_count": 136,
   "metadata": {},
   "outputs": [
    {
     "data": {
      "text/plain": [
       "(1254355, 43)"
      ]
     },
     "execution_count": 136,
     "metadata": {},
     "output_type": "execute_result"
    }
   ],
   "source": [
    "dfroute1.shape"
   ]
  },
  {
   "cell_type": "code",
   "execution_count": 137,
   "metadata": {},
   "outputs": [
    {
     "data": {
      "text/plain": [
       "<AxesSubplot:xlabel='PROGRNUMBER', ylabel='TRAVELTIME'>"
      ]
     },
     "execution_count": 137,
     "metadata": {},
     "output_type": "execute_result"
    },
    {
     "data": {
      "image/png": "[encoded data removed]",
      "text/plain": [
       "<Figure size 432x288 with 1 Axes>"
      ]
     },
     "metadata": {
      "needs_background": "light"
     },
     "output_type": "display_data"
    }
   ],
   "source": [
    "# plotting scatter plot for PROGRNUMBER vs TRAVELTIME for route 1\n",
    "dfroute1[['PROGRNUMBER', 'TRAVELTIME']].plot(kind='scatter', x='PROGRNUMBER', y='TRAVELTIME')"
   ]
  },
  {
   "cell_type": "code",
   "execution_count": 138,
   "metadata": {},
   "outputs": [
    {
     "data": {
      "text/html": [
       "<div>\n",
       "<style scoped>\n",
       "    .dataframe tbody tr th:only-of-type {\n",
       "        vertical-align: middle;\n",
       "    }\n",
       "\n",
       "    .dataframe tbody tr th {\n",
       "        vertical-align: top;\n",
       "    }\n",
       "\n",
       "    .dataframe thead th {\n",
       "        text-align: right;\n",
       "    }\n",
       "</style>\n",
       "<table border=\"1\" class=\"dataframe\">\n",
       "  <thead>\n",
       "    <tr style=\"text-align: right;\">\n",
       "      <th></th>\n",
       "      <th>DAYOFSERVICE</th>\n",
       "      <th>TRIPID</th>\n",
       "      <th>PROGRNUMBER</th>\n",
       "      <th>STOPPOINTID</th>\n",
       "      <th>PLANNEDTIME_ARR</th>\n",
       "      <th>PLANNEDTIME_DEP</th>\n",
       "      <th>ACTUALTIME_ARR</th>\n",
       "      <th>ACTUALTIME_DEP</th>\n",
       "      <th>VEHICLEID</th>\n",
       "      <th>DIRECTION</th>\n",
       "      <th>...</th>\n",
       "      <th>h_15</th>\n",
       "      <th>h_16</th>\n",
       "      <th>h_17</th>\n",
       "      <th>h_18</th>\n",
       "      <th>h_19</th>\n",
       "      <th>h_20</th>\n",
       "      <th>h_21</th>\n",
       "      <th>h_22</th>\n",
       "      <th>h_23</th>\n",
       "      <th>h_24</th>\n",
       "    </tr>\n",
       "  </thead>\n",
       "  <tbody>\n",
       "    <tr>\n",
       "      <th>1167209</th>\n",
       "      <td>2018-11-10</td>\n",
       "      <td>8101330</td>\n",
       "      <td>43</td>\n",
       "      <td>226</td>\n",
       "      <td>31123</td>\n",
       "      <td>31123</td>\n",
       "      <td>30650</td>\n",
       "      <td>30650</td>\n",
       "      <td>2172287</td>\n",
       "      <td>2</td>\n",
       "      <td>...</td>\n",
       "      <td>0</td>\n",
       "      <td>0</td>\n",
       "      <td>0</td>\n",
       "      <td>0</td>\n",
       "      <td>0</td>\n",
       "      <td>0</td>\n",
       "      <td>0</td>\n",
       "      <td>0</td>\n",
       "      <td>0</td>\n",
       "      <td>0</td>\n",
       "    </tr>\n",
       "  </tbody>\n",
       "</table>\n",
       "<p>1 rows × 43 columns</p>\n",
       "</div>"
      ],
      "text/plain": [
       "        DAYOFSERVICE   TRIPID  PROGRNUMBER  STOPPOINTID  PLANNEDTIME_ARR  \\\n",
       "1167209   2018-11-10  8101330           43          226            31123   \n",
       "\n",
       "         PLANNEDTIME_DEP  ACTUALTIME_ARR  ACTUALTIME_DEP  VEHICLEID  \\\n",
       "1167209            31123           30650           30650    2172287   \n",
       "\n",
       "         DIRECTION  ...  h_15  h_16  h_17  h_18  h_19  h_20  h_21  h_22  h_23  \\\n",
       "1167209          2  ...     0     0     0     0     0     0     0     0     0   \n",
       "\n",
       "         h_24  \n",
       "1167209     0  \n",
       "\n",
       "[1 rows x 43 columns]"
      ]
     },
     "execution_count": 138,
     "metadata": {},
     "output_type": "execute_result"
    }
   ],
   "source": [
    "dfroute1.loc[(dfroute1['PROGRNUMBER'] > 40) & (dfroute1['TRAVELTIME'] < 200)]"
   ]
  },
  {
   "cell_type": "code",
   "execution_count": 139,
   "metadata": {},
   "outputs": [],
   "source": [
    "# dropping this outlier\n",
    "dfroute1 = dfroute1.drop(1167209)"
   ]
  },
  {
   "cell_type": "markdown",
   "metadata": {},
   "source": [
    "Now I would like to look at how many trips do not have an entry 1 in PROGRNUMBER."
   ]
  },
  {
   "cell_type": "code",
   "execution_count": 140,
   "metadata": {},
   "outputs": [],
   "source": [
    "# rows with 1 as PROGRNUMBER\n",
    "dfr1prog1 = dfroute1.loc[dfroute1['PROGRNUMBER'] == 1]"
   ]
  },
  {
   "cell_type": "code",
   "execution_count": 141,
   "metadata": {},
   "outputs": [
    {
     "data": {
      "text/plain": [
       "(31838, 43)"
      ]
     },
     "execution_count": 141,
     "metadata": {},
     "output_type": "execute_result"
    }
   ],
   "source": [
    "dfr1prog1.shape"
   ]
  },
  {
   "cell_type": "code",
   "execution_count": 142,
   "metadata": {},
   "outputs": [],
   "source": [
    "# index list for routes with a 1 progress number\n",
    "prog1IndexList = dfroute1.loc[(dfroute1['DAYOFSERVICE'].isin(dfr1prog1['DAYOFSERVICE'].unique())) & (dfroute1['TRIPID'].isin(dfr1prog1['TRIPID'].unique()))].index.tolist()"
   ]
  },
  {
   "cell_type": "code",
   "execution_count": 143,
   "metadata": {},
   "outputs": [
    {
     "data": {
      "text/plain": [
       "1254354"
      ]
     },
     "execution_count": 143,
     "metadata": {},
     "output_type": "execute_result"
    }
   ],
   "source": [
    "len(prog1IndexList)"
   ]
  },
  {
   "cell_type": "code",
   "execution_count": 144,
   "metadata": {},
   "outputs": [],
   "source": [
    "noprog1 = dfroute1.drop(prog1IndexList)"
   ]
  },
  {
   "cell_type": "code",
   "execution_count": 145,
   "metadata": {},
   "outputs": [
    {
     "name": "stdout",
     "output_type": "stream",
     "text": [
      "Empty DataFrame\n",
      "Columns: [DAYOFSERVICE, TRIPID, PROGRNUMBER, STOPPOINTID, PLANNEDTIME_ARR, PLANNEDTIME_DEP, ACTUALTIME_ARR, ACTUALTIME_DEP, VEHICLEID, DIRECTION, STOPTIME, TRIPSTART, TRAVELTIME, MONTHOFYEAR, DAYOFWEEK, HOUROFDAY, temp, wind_speed, w_main_Clouds, w_main_Drizzle, w_main_Fog, w_main_Mist, w_main_Rain, w_main_Smoke, w_main_Snow, h_7, h_8, h_9, h_10, h_11, h_12, h_13, h_14, h_15, h_16, h_17, h_18, h_19, h_20, h_21, h_22, h_23, h_24]\n",
      "Index: []\n",
      "\n",
      "[0 rows x 43 columns]\n"
     ]
    }
   ],
   "source": [
    "print(noprog1)"
   ]
  },
  {
   "cell_type": "markdown",
   "metadata": {},
   "source": [
    "It appears that all trips have a 1 progress number which is good, however, it does not explain the strange graph which shows major delays to certain trips. Let's instead look at trips which have over 600 travel time by stop 2."
   ]
  },
  {
   "cell_type": "code",
   "execution_count": 146,
   "metadata": {},
   "outputs": [],
   "source": [
    "# route 1 trips which took over 10 mins to reach second stop\n",
    "dfr1longstart = dfroute1.loc[(dfroute1['TRAVELTIME'] > 600) & (dfroute1['PROGRNUMBER'] == 2)]"
   ]
  },
  {
   "cell_type": "markdown",
   "metadata": {},
   "source": [
    "There are only 27 such trips, which are worth dropping."
   ]
  },
  {
   "cell_type": "code",
   "execution_count": 147,
   "metadata": {},
   "outputs": [],
   "source": [
    "# index list for rows with over 600 travel time by stop 2\n",
    "longStartIndexList = dfroute1.loc[(dfroute1['DAYOFSERVICE'].isin(dfr1longstart['DAYOFSERVICE'].unique())) & (dfroute1['TRIPID'].isin(dfr1longstart['TRIPID'].unique()))].index.tolist()"
   ]
  },
  {
   "cell_type": "code",
   "execution_count": 148,
   "metadata": {},
   "outputs": [
    {
     "data": {
      "text/plain": [
       "1459"
      ]
     },
     "execution_count": 148,
     "metadata": {},
     "output_type": "execute_result"
    }
   ],
   "source": [
    "len(longStartIndexList)"
   ]
  },
  {
   "cell_type": "code",
   "execution_count": 149,
   "metadata": {},
   "outputs": [],
   "source": [
    "# dropping trips which had over 600 travel time by stop 2\n",
    "dfroute1 = dfroute1.drop(longStartIndexList)"
   ]
  },
  {
   "cell_type": "code",
   "execution_count": 150,
   "metadata": {},
   "outputs": [
    {
     "data": {
      "text/plain": [
       "(1252895, 43)"
      ]
     },
     "execution_count": 150,
     "metadata": {},
     "output_type": "execute_result"
    }
   ],
   "source": [
    "dfroute1.shape"
   ]
  },
  {
   "cell_type": "code",
   "execution_count": 151,
   "metadata": {},
   "outputs": [
    {
     "data": {
      "text/plain": [
       "<AxesSubplot:xlabel='PROGRNUMBER', ylabel='TRAVELTIME'>"
      ]
     },
     "execution_count": 151,
     "metadata": {},
     "output_type": "execute_result"
    },
    {
     "data": {
      "image/png": "[encoded data removed]",
      "text/plain": [
       "<Figure size 432x288 with 1 Axes>"
      ]
     },
     "metadata": {
      "needs_background": "light"
     },
     "output_type": "display_data"
    }
   ],
   "source": [
    "# plotting scatter plot for PROGRNUMBER vs TRAVELTIME for route 1\n",
    "dfroute1[['PROGRNUMBER', 'TRAVELTIME']].plot(kind='scatter', x='PROGRNUMBER', y='TRAVELTIME')"
   ]
  },
  {
   "cell_type": "markdown",
   "metadata": {},
   "source": [
    "This data looks great. Let's see if our best model can get better using this data instead."
   ]
  },
  {
   "cell_type": "code",
   "execution_count": 152,
   "metadata": {},
   "outputs": [],
   "source": [
    "# 70/30 train/test split for route 1 data\n",
    "trainroute1 = dfroute1.sample(frac=0.7, random_state=1)\n",
    "testroute1 = dfroute1.drop(trainroute1.index)"
   ]
  },
  {
   "cell_type": "code",
   "execution_count": 153,
   "metadata": {},
   "outputs": [],
   "source": [
    "# descriptive features (same as last model)\n",
    "r1features5 = ['PROGRNUMBER', 'DIRECTION', 'DAYOFWEEK', 'MONTHOFYEAR', 'temp', 'w_main_Clouds', 'w_main_Drizzle', 'w_main_Fog', 'w_main_Mist', 'w_main_Rain', 'w_main_Smoke', 'w_main_Snow', 'h_7', 'h_8', 'h_9', 'h_10', 'h_11', 'h_12', 'h_13', 'h_14', 'h_15', 'h_16', 'h_17', 'h_18', 'h_19', 'h_20', 'h_21', 'h_22', 'h_23', 'h_24']\n",
    "\n",
    "X = trainroute1[r1features5]\n",
    "y = trainroute1['TRAVELTIME']"
   ]
  },
  {
   "cell_type": "code",
   "execution_count": 154,
   "metadata": {},
   "outputs": [],
   "source": [
    "# fitting the model\n",
    "linreg5r1 = LinearRegression().fit(X, y)"
   ]
  },
  {
   "cell_type": "code",
   "execution_count": 155,
   "metadata": {},
   "outputs": [
    {
     "name": "stdout",
     "output_type": "stream",
     "text": [
      "Intercept:  -441.6904150108121\n",
      "Features and coeficients: [('PROGRNUMBER', 84.21757207931836), ('DIRECTION', 76.5254409279265), ('DAYOFWEEK', -14.546318667414255), ('MONTHOFYEAR', 4.983714550702054), ('temp', -1.8217152123292735), ('w_main_Clouds', -10.807126356078362), ('w_main_Drizzle', -20.048341776472), ('w_main_Fog', -32.75347342434335), ('w_main_Mist', 66.82873859602606), ('w_main_Rain', 13.072103413653663), ('w_main_Smoke', -46.32846142292939), ('w_main_Snow', -115.20184608297534), ('h_7', 27.97236401775623), ('h_8', 199.7906486682345), ('h_9', 285.27856732169846), ('h_10', 115.52812554019158), ('h_11', 98.13603622024762), ('h_12', 122.65109182846544), ('h_13', 149.16718272000935), ('h_14', 140.49421055867316), ('h_15', 164.84121282735964), ('h_16', 193.1768151757664), ('h_17', 269.4702524607105), ('h_18', 291.69604021962067), ('h_19', 120.61389028947036), ('h_20', -41.55732399397651), ('h_21', -194.27536418723113), ('h_22', -304.55031628217813), ('h_23', -273.46928678508556), ('h_24', 775.9031235299366)]\n"
     ]
    }
   ],
   "source": [
    "# printing the intercept and weights learned for each feature\n",
    "print(\"Intercept: \", linreg5r1.intercept_)\n",
    "print(\"Features and coeficients:\", list(zip(r1features5, linreg5r1.coef_)))"
   ]
  },
  {
   "cell_type": "code",
   "execution_count": 156,
   "metadata": {},
   "outputs": [
    {
     "name": "stdout",
     "output_type": "stream",
     "text": [
      "Predictions for first 20 rows of training dataframe: \n",
      "\n",
      "         TRAVELTIME    Predicted\n",
      "1242572       337.0   441.316999\n",
      "390663       2636.0  2606.562523\n",
      "1013310       955.0   653.526336\n",
      "376603       2583.0  2463.793414\n",
      "33200        2644.0  2211.615798\n",
      "57801         656.0  1087.235178\n",
      "1132178      1835.0  2253.646719\n",
      "884567       1705.0  1944.540350\n",
      "354721       2578.0  2724.354206\n",
      "981918         39.0   -75.099110\n",
      "1046230       724.0   900.587699\n",
      "1103490      3233.0  2918.208942\n",
      "91848         128.0   182.227436\n",
      "802780        824.0  1318.040110\n",
      "165600        727.0   966.583124\n",
      "1256476      1111.0  1438.470385\n",
      "58433        2792.0  3185.169473\n",
      "846096       2169.0  1803.336455\n",
      "1236084      1619.0  1701.627665\n",
      "993805        985.0  1091.199100\n"
     ]
    }
   ],
   "source": [
    "# predicting the travel time for the first 20 rows of the training dataframe\n",
    "linreg5r1_predictions = linreg5r1.predict(X.head(20))\n",
    "\n",
    "print(\"Predictions for first 20 rows of training dataframe: \\n\")\n",
    "actual_vs_pred_linreg5r1 = pd.concat([y.head(20), pd.DataFrame(linreg5r1_predictions, columns=['Predicted'], index=y.head(20).index)], axis=1)\n",
    "print(actual_vs_pred_linreg5r1)"
   ]
  },
  {
   "cell_type": "code",
   "execution_count": 157,
   "metadata": {},
   "outputs": [],
   "source": [
    "# predicting the travel time for entire test dataframe\n",
    "linreg5r1_test_predictions = linreg5r1.predict(testroute1[r1features5])"
   ]
  },
  {
   "cell_type": "code",
   "execution_count": 158,
   "metadata": {},
   "outputs": [],
   "source": [
    "# difference between test travel times and test predictions\n",
    "r1prediction_diffs5 = testroute1['TRAVELTIME'] - linreg5r1_test_predictions"
   ]
  },
  {
   "cell_type": "code",
   "execution_count": 159,
   "metadata": {},
   "outputs": [
    {
     "name": "stdout",
     "output_type": "stream",
     "text": [
      "RMSE: 348.27747574675976\n"
     ]
    }
   ],
   "source": [
    "# calculating root mean square error\n",
    "r1_linmodel5_rmse = ((r1prediction_diffs5**2).mean())**0.5\n",
    "print(\"RMSE:\", r1_linmodel5_rmse)"
   ]
  },
  {
   "cell_type": "code",
   "execution_count": 160,
   "metadata": {},
   "outputs": [
    {
     "name": "stdout",
     "output_type": "stream",
     "text": [
      "R2 score: 0.9004626159049346\n"
     ]
    }
   ],
   "source": [
    "# printing r2 score\n",
    "print(\"R2 score:\", r2_score(testroute1['TRAVELTIME'], linreg5r1_test_predictions))"
   ]
  },
  {
   "cell_type": "markdown",
   "metadata": {},
   "source": [
    "As expected, the results have improved. We now have an average error of 5 minutes and 48 seconds and an R2 score of 0.9, an improvement on the last model, which had 6 minutes 5 seconds and 0.891 as its results."
   ]
  },
  {
   "cell_type": "markdown",
   "metadata": {},
   "source": [
    "## 3.5 Implementing Hour as a Non-linear Factor"
   ]
  },
  {
   "cell_type": "code",
   "execution_count": 161,
   "metadata": {},
   "outputs": [],
   "source": [
    "# dropping the hour dummy columns\n",
    "dfroute1 = dfroute1.drop(columns=['h_7', 'h_8', 'h_9', 'h_10', 'h_11', 'h_12', 'h_13', 'h_14', 'h_15', 'h_16', 'h_17', 'h_18', 'h_19', 'h_20', 'h_21', 'h_22', 'h_23', 'h_24'])"
   ]
  },
  {
   "cell_type": "code",
   "execution_count": 162,
   "metadata": {},
   "outputs": [],
   "source": [
    "# saving cleaned dfroute1 to csv\n",
    "dfroute1.to_csv(\"route1-leavetimes-cleaned2.csv\", index=False)"
   ]
  },
  {
   "cell_type": "code",
   "execution_count": 163,
   "metadata": {},
   "outputs": [
    {
     "data": {
      "text/html": [
       "<div>\n",
       "<style scoped>\n",
       "    .dataframe tbody tr th:only-of-type {\n",
       "        vertical-align: middle;\n",
       "    }\n",
       "\n",
       "    .dataframe tbody tr th {\n",
       "        vertical-align: top;\n",
       "    }\n",
       "\n",
       "    .dataframe thead th {\n",
       "        text-align: right;\n",
       "    }\n",
       "</style>\n",
       "<table border=\"1\" class=\"dataframe\">\n",
       "  <thead>\n",
       "    <tr style=\"text-align: right;\">\n",
       "      <th></th>\n",
       "      <th>DAYOFSERVICE</th>\n",
       "      <th>TRIPID</th>\n",
       "      <th>PROGRNUMBER</th>\n",
       "      <th>STOPPOINTID</th>\n",
       "      <th>PLANNEDTIME_ARR</th>\n",
       "      <th>PLANNEDTIME_DEP</th>\n",
       "      <th>ACTUALTIME_ARR</th>\n",
       "      <th>ACTUALTIME_DEP</th>\n",
       "      <th>VEHICLEID</th>\n",
       "      <th>DIRECTION</th>\n",
       "      <th>...</th>\n",
       "      <th>HOUROFDAY</th>\n",
       "      <th>temp</th>\n",
       "      <th>wind_speed</th>\n",
       "      <th>w_main_Clouds</th>\n",
       "      <th>w_main_Drizzle</th>\n",
       "      <th>w_main_Fog</th>\n",
       "      <th>w_main_Mist</th>\n",
       "      <th>w_main_Rain</th>\n",
       "      <th>w_main_Smoke</th>\n",
       "      <th>w_main_Snow</th>\n",
       "    </tr>\n",
       "  </thead>\n",
       "  <tbody>\n",
       "    <tr>\n",
       "      <th>0</th>\n",
       "      <td>2018-01-01</td>\n",
       "      <td>5972116</td>\n",
       "      <td>12</td>\n",
       "      <td>119</td>\n",
       "      <td>48030</td>\n",
       "      <td>48030</td>\n",
       "      <td>48012</td>\n",
       "      <td>48012</td>\n",
       "      <td>2693211</td>\n",
       "      <td>1</td>\n",
       "      <td>...</td>\n",
       "      <td>13</td>\n",
       "      <td>7.43</td>\n",
       "      <td>12.86</td>\n",
       "      <td>0</td>\n",
       "      <td>0</td>\n",
       "      <td>0</td>\n",
       "      <td>0</td>\n",
       "      <td>1</td>\n",
       "      <td>0</td>\n",
       "      <td>0</td>\n",
       "    </tr>\n",
       "    <tr>\n",
       "      <th>1</th>\n",
       "      <td>2018-01-01</td>\n",
       "      <td>5972116</td>\n",
       "      <td>13</td>\n",
       "      <td>44</td>\n",
       "      <td>48079</td>\n",
       "      <td>48079</td>\n",
       "      <td>48058</td>\n",
       "      <td>48058</td>\n",
       "      <td>2693211</td>\n",
       "      <td>1</td>\n",
       "      <td>...</td>\n",
       "      <td>13</td>\n",
       "      <td>7.43</td>\n",
       "      <td>12.86</td>\n",
       "      <td>0</td>\n",
       "      <td>0</td>\n",
       "      <td>0</td>\n",
       "      <td>0</td>\n",
       "      <td>1</td>\n",
       "      <td>0</td>\n",
       "      <td>0</td>\n",
       "    </tr>\n",
       "    <tr>\n",
       "      <th>2</th>\n",
       "      <td>2018-01-01</td>\n",
       "      <td>5972116</td>\n",
       "      <td>14</td>\n",
       "      <td>7603</td>\n",
       "      <td>48114</td>\n",
       "      <td>48114</td>\n",
       "      <td>48071</td>\n",
       "      <td>48071</td>\n",
       "      <td>2693211</td>\n",
       "      <td>1</td>\n",
       "      <td>...</td>\n",
       "      <td>13</td>\n",
       "      <td>7.43</td>\n",
       "      <td>12.86</td>\n",
       "      <td>0</td>\n",
       "      <td>0</td>\n",
       "      <td>0</td>\n",
       "      <td>0</td>\n",
       "      <td>1</td>\n",
       "      <td>0</td>\n",
       "      <td>0</td>\n",
       "    </tr>\n",
       "    <tr>\n",
       "      <th>3</th>\n",
       "      <td>2018-01-01</td>\n",
       "      <td>5972116</td>\n",
       "      <td>15</td>\n",
       "      <td>45</td>\n",
       "      <td>48155</td>\n",
       "      <td>48155</td>\n",
       "      <td>48089</td>\n",
       "      <td>48100</td>\n",
       "      <td>2693211</td>\n",
       "      <td>1</td>\n",
       "      <td>...</td>\n",
       "      <td>13</td>\n",
       "      <td>7.43</td>\n",
       "      <td>12.86</td>\n",
       "      <td>0</td>\n",
       "      <td>0</td>\n",
       "      <td>0</td>\n",
       "      <td>0</td>\n",
       "      <td>1</td>\n",
       "      <td>0</td>\n",
       "      <td>0</td>\n",
       "    </tr>\n",
       "    <tr>\n",
       "      <th>4</th>\n",
       "      <td>2018-01-01</td>\n",
       "      <td>5972116</td>\n",
       "      <td>16</td>\n",
       "      <td>46</td>\n",
       "      <td>48221</td>\n",
       "      <td>48221</td>\n",
       "      <td>48137</td>\n",
       "      <td>48137</td>\n",
       "      <td>2693211</td>\n",
       "      <td>1</td>\n",
       "      <td>...</td>\n",
       "      <td>13</td>\n",
       "      <td>7.43</td>\n",
       "      <td>12.86</td>\n",
       "      <td>0</td>\n",
       "      <td>0</td>\n",
       "      <td>0</td>\n",
       "      <td>0</td>\n",
       "      <td>1</td>\n",
       "      <td>0</td>\n",
       "      <td>0</td>\n",
       "    </tr>\n",
       "  </tbody>\n",
       "</table>\n",
       "<p>5 rows × 25 columns</p>\n",
       "</div>"
      ],
      "text/plain": [
       "  DAYOFSERVICE   TRIPID  PROGRNUMBER  STOPPOINTID  PLANNEDTIME_ARR  \\\n",
       "0   2018-01-01  5972116           12          119            48030   \n",
       "1   2018-01-01  5972116           13           44            48079   \n",
       "2   2018-01-01  5972116           14         7603            48114   \n",
       "3   2018-01-01  5972116           15           45            48155   \n",
       "4   2018-01-01  5972116           16           46            48221   \n",
       "\n",
       "   PLANNEDTIME_DEP  ACTUALTIME_ARR  ACTUALTIME_DEP  VEHICLEID  DIRECTION  ...  \\\n",
       "0            48030           48012           48012    2693211          1  ...   \n",
       "1            48079           48058           48058    2693211          1  ...   \n",
       "2            48114           48071           48071    2693211          1  ...   \n",
       "3            48155           48089           48100    2693211          1  ...   \n",
       "4            48221           48137           48137    2693211          1  ...   \n",
       "\n",
       "   HOUROFDAY  temp  wind_speed  w_main_Clouds  w_main_Drizzle  w_main_Fog  \\\n",
       "0         13  7.43       12.86              0               0           0   \n",
       "1         13  7.43       12.86              0               0           0   \n",
       "2         13  7.43       12.86              0               0           0   \n",
       "3         13  7.43       12.86              0               0           0   \n",
       "4         13  7.43       12.86              0               0           0   \n",
       "\n",
       "   w_main_Mist  w_main_Rain  w_main_Smoke  w_main_Snow  \n",
       "0            0            1             0            0  \n",
       "1            0            1             0            0  \n",
       "2            0            1             0            0  \n",
       "3            0            1             0            0  \n",
       "4            0            1             0            0  \n",
       "\n",
       "[5 rows x 25 columns]"
      ]
     },
     "execution_count": 163,
     "metadata": {},
     "output_type": "execute_result"
    }
   ],
   "source": [
    "dfroute1.head()"
   ]
  },
  {
   "cell_type": "code",
   "execution_count": 164,
   "metadata": {},
   "outputs": [
    {
     "data": {
      "text/plain": [
       "<AxesSubplot:xlabel='HOUROFDAY', ylabel='TRAVELTIME'>"
      ]
     },
     "execution_count": 164,
     "metadata": {},
     "output_type": "execute_result"
    },
    {
     "data": {
      "image/png": "[encoded data removed]",
      "text/plain": [
       "<Figure size 432x288 with 1 Axes>"
      ]
     },
     "metadata": {
      "needs_background": "light"
     },
     "output_type": "display_data"
    }
   ],
   "source": [
    "# looking at relationship between hour and travel time\n",
    "dfroute1[['HOUROFDAY', 'TRAVELTIME']].loc[dfroute1['PROGRNUMBER'] == 40].plot(kind='scatter', x='HOUROFDAY', y='TRAVELTIME', s=1)"
   ]
  },
  {
   "cell_type": "markdown",
   "metadata": {},
   "source": [
    "There appears to be two peaks in the hour data. This leads me to believe that we can capture this feature's predictive power using a quartic polynomial function."
   ]
  },
  {
   "cell_type": "code",
   "execution_count": 165,
   "metadata": {},
   "outputs": [
    {
     "data": {
      "text/html": [
       "<div>\n",
       "<style scoped>\n",
       "    .dataframe tbody tr th:only-of-type {\n",
       "        vertical-align: middle;\n",
       "    }\n",
       "\n",
       "    .dataframe tbody tr th {\n",
       "        vertical-align: top;\n",
       "    }\n",
       "\n",
       "    .dataframe thead th {\n",
       "        text-align: right;\n",
       "    }\n",
       "</style>\n",
       "<table border=\"1\" class=\"dataframe\">\n",
       "  <thead>\n",
       "    <tr style=\"text-align: right;\">\n",
       "      <th></th>\n",
       "      <th>DAYOFSERVICE</th>\n",
       "      <th>TRIPID</th>\n",
       "      <th>PROGRNUMBER</th>\n",
       "      <th>STOPPOINTID</th>\n",
       "      <th>PLANNEDTIME_ARR</th>\n",
       "      <th>PLANNEDTIME_DEP</th>\n",
       "      <th>ACTUALTIME_ARR</th>\n",
       "      <th>ACTUALTIME_DEP</th>\n",
       "      <th>VEHICLEID</th>\n",
       "      <th>DIRECTION</th>\n",
       "      <th>...</th>\n",
       "      <th>w_main_Clouds</th>\n",
       "      <th>w_main_Drizzle</th>\n",
       "      <th>w_main_Fog</th>\n",
       "      <th>w_main_Mist</th>\n",
       "      <th>w_main_Rain</th>\n",
       "      <th>w_main_Smoke</th>\n",
       "      <th>w_main_Snow</th>\n",
       "      <th>HOUROFDAY**2</th>\n",
       "      <th>HOUROFDAY**3</th>\n",
       "      <th>HOUROFDAY**4</th>\n",
       "    </tr>\n",
       "  </thead>\n",
       "  <tbody>\n",
       "    <tr>\n",
       "      <th>0</th>\n",
       "      <td>2018-01-01</td>\n",
       "      <td>5972116</td>\n",
       "      <td>12</td>\n",
       "      <td>119</td>\n",
       "      <td>48030</td>\n",
       "      <td>48030</td>\n",
       "      <td>48012</td>\n",
       "      <td>48012</td>\n",
       "      <td>2693211</td>\n",
       "      <td>1</td>\n",
       "      <td>...</td>\n",
       "      <td>0</td>\n",
       "      <td>0</td>\n",
       "      <td>0</td>\n",
       "      <td>0</td>\n",
       "      <td>1</td>\n",
       "      <td>0</td>\n",
       "      <td>0</td>\n",
       "      <td>169</td>\n",
       "      <td>2197</td>\n",
       "      <td>28561</td>\n",
       "    </tr>\n",
       "    <tr>\n",
       "      <th>1</th>\n",
       "      <td>2018-01-01</td>\n",
       "      <td>5972116</td>\n",
       "      <td>13</td>\n",
       "      <td>44</td>\n",
       "      <td>48079</td>\n",
       "      <td>48079</td>\n",
       "      <td>48058</td>\n",
       "      <td>48058</td>\n",
       "      <td>2693211</td>\n",
       "      <td>1</td>\n",
       "      <td>...</td>\n",
       "      <td>0</td>\n",
       "      <td>0</td>\n",
       "      <td>0</td>\n",
       "      <td>0</td>\n",
       "      <td>1</td>\n",
       "      <td>0</td>\n",
       "      <td>0</td>\n",
       "      <td>169</td>\n",
       "      <td>2197</td>\n",
       "      <td>28561</td>\n",
       "    </tr>\n",
       "    <tr>\n",
       "      <th>2</th>\n",
       "      <td>2018-01-01</td>\n",
       "      <td>5972116</td>\n",
       "      <td>14</td>\n",
       "      <td>7603</td>\n",
       "      <td>48114</td>\n",
       "      <td>48114</td>\n",
       "      <td>48071</td>\n",
       "      <td>48071</td>\n",
       "      <td>2693211</td>\n",
       "      <td>1</td>\n",
       "      <td>...</td>\n",
       "      <td>0</td>\n",
       "      <td>0</td>\n",
       "      <td>0</td>\n",
       "      <td>0</td>\n",
       "      <td>1</td>\n",
       "      <td>0</td>\n",
       "      <td>0</td>\n",
       "      <td>169</td>\n",
       "      <td>2197</td>\n",
       "      <td>28561</td>\n",
       "    </tr>\n",
       "    <tr>\n",
       "      <th>3</th>\n",
       "      <td>2018-01-01</td>\n",
       "      <td>5972116</td>\n",
       "      <td>15</td>\n",
       "      <td>45</td>\n",
       "      <td>48155</td>\n",
       "      <td>48155</td>\n",
       "      <td>48089</td>\n",
       "      <td>48100</td>\n",
       "      <td>2693211</td>\n",
       "      <td>1</td>\n",
       "      <td>...</td>\n",
       "      <td>0</td>\n",
       "      <td>0</td>\n",
       "      <td>0</td>\n",
       "      <td>0</td>\n",
       "      <td>1</td>\n",
       "      <td>0</td>\n",
       "      <td>0</td>\n",
       "      <td>169</td>\n",
       "      <td>2197</td>\n",
       "      <td>28561</td>\n",
       "    </tr>\n",
       "    <tr>\n",
       "      <th>4</th>\n",
       "      <td>2018-01-01</td>\n",
       "      <td>5972116</td>\n",
       "      <td>16</td>\n",
       "      <td>46</td>\n",
       "      <td>48221</td>\n",
       "      <td>48221</td>\n",
       "      <td>48137</td>\n",
       "      <td>48137</td>\n",
       "      <td>2693211</td>\n",
       "      <td>1</td>\n",
       "      <td>...</td>\n",
       "      <td>0</td>\n",
       "      <td>0</td>\n",
       "      <td>0</td>\n",
       "      <td>0</td>\n",
       "      <td>1</td>\n",
       "      <td>0</td>\n",
       "      <td>0</td>\n",
       "      <td>169</td>\n",
       "      <td>2197</td>\n",
       "      <td>28561</td>\n",
       "    </tr>\n",
       "  </tbody>\n",
       "</table>\n",
       "<p>5 rows × 28 columns</p>\n",
       "</div>"
      ],
      "text/plain": [
       "  DAYOFSERVICE   TRIPID  PROGRNUMBER  STOPPOINTID  PLANNEDTIME_ARR  \\\n",
       "0   2018-01-01  5972116           12          119            48030   \n",
       "1   2018-01-01  5972116           13           44            48079   \n",
       "2   2018-01-01  5972116           14         7603            48114   \n",
       "3   2018-01-01  5972116           15           45            48155   \n",
       "4   2018-01-01  5972116           16           46            48221   \n",
       "\n",
       "   PLANNEDTIME_DEP  ACTUALTIME_ARR  ACTUALTIME_DEP  VEHICLEID  DIRECTION  ...  \\\n",
       "0            48030           48012           48012    2693211          1  ...   \n",
       "1            48079           48058           48058    2693211          1  ...   \n",
       "2            48114           48071           48071    2693211          1  ...   \n",
       "3            48155           48089           48100    2693211          1  ...   \n",
       "4            48221           48137           48137    2693211          1  ...   \n",
       "\n",
       "   w_main_Clouds  w_main_Drizzle  w_main_Fog  w_main_Mist  w_main_Rain  \\\n",
       "0              0               0           0            0            1   \n",
       "1              0               0           0            0            1   \n",
       "2              0               0           0            0            1   \n",
       "3              0               0           0            0            1   \n",
       "4              0               0           0            0            1   \n",
       "\n",
       "   w_main_Smoke  w_main_Snow  HOUROFDAY**2  HOUROFDAY**3  HOUROFDAY**4  \n",
       "0             0            0           169          2197         28561  \n",
       "1             0            0           169          2197         28561  \n",
       "2             0            0           169          2197         28561  \n",
       "3             0            0           169          2197         28561  \n",
       "4             0            0           169          2197         28561  \n",
       "\n",
       "[5 rows x 28 columns]"
      ]
     },
     "execution_count": 165,
     "metadata": {},
     "output_type": "execute_result"
    }
   ],
   "source": [
    "# adding HOUROFDAY squared, cubed and to the power of 4 as columns\n",
    "dfroute1['HOUROFDAY**2'] = dfroute1['HOUROFDAY']**2\n",
    "dfroute1['HOUROFDAY**3'] = dfroute1['HOUROFDAY']**3\n",
    "dfroute1['HOUROFDAY**4'] = dfroute1['HOUROFDAY']**4\n",
    "dfroute1.head()"
   ]
  },
  {
   "cell_type": "code",
   "execution_count": 166,
   "metadata": {},
   "outputs": [],
   "source": [
    "# 70/30 train/test split for route 1 data\n",
    "trainroute1 = dfroute1.sample(frac=0.7, random_state=1)\n",
    "testroute1 = dfroute1.drop(trainroute1.index)"
   ]
  },
  {
   "cell_type": "markdown",
   "metadata": {},
   "source": [
    "<b>Linear Model with Hour as Quadratic Factor</b>"
   ]
  },
  {
   "cell_type": "code",
   "execution_count": 167,
   "metadata": {},
   "outputs": [],
   "source": [
    "# descriptive features\n",
    "r1features6 = ['PROGRNUMBER', 'DIRECTION', 'DAYOFWEEK', 'MONTHOFYEAR', 'temp', 'w_main_Clouds', 'w_main_Drizzle', 'w_main_Fog', 'w_main_Mist', 'w_main_Rain', 'w_main_Smoke', 'w_main_Snow', 'HOUROFDAY', 'HOUROFDAY**2']\n",
    "\n",
    "X = trainroute1[r1features6]\n",
    "y = trainroute1['TRAVELTIME']"
   ]
  },
  {
   "cell_type": "code",
   "execution_count": 168,
   "metadata": {},
   "outputs": [],
   "source": [
    "# fitting the model\n",
    "linreg6r1 = LinearRegression().fit(X, y)"
   ]
  },
  {
   "cell_type": "code",
   "execution_count": 169,
   "metadata": {},
   "outputs": [
    {
     "name": "stdout",
     "output_type": "stream",
     "text": [
      "Intercept:  -1046.512121010601\n",
      "Features and coeficients: [('PROGRNUMBER', 84.11131715943938), ('DIRECTION', 78.51016124026124), ('DAYOFWEEK', -15.756654210370229), ('MONTHOFYEAR', 5.574674320153327), ('temp', -2.244535328671141), ('w_main_Clouds', -21.571863192187017), ('w_main_Drizzle', -24.49540518263429), ('w_main_Fog', 22.095592415583578), ('w_main_Mist', 51.11259708602281), ('w_main_Rain', 3.5626498877738038), ('w_main_Smoke', -126.32513073955347), ('w_main_Snow', -107.84008233439349), ('HOUROFDAY', 129.55796090869515), ('HOUROFDAY**2', -5.004048461838892)]\n"
     ]
    }
   ],
   "source": [
    "# printing the intercept and weights learned for each feature\n",
    "print(\"Intercept: \", linreg6r1.intercept_)\n",
    "print(\"Features and coeficients:\", list(zip(r1features6, linreg6r1.coef_)))"
   ]
  },
  {
   "cell_type": "code",
   "execution_count": 170,
   "metadata": {},
   "outputs": [
    {
     "name": "stdout",
     "output_type": "stream",
     "text": [
      "Predictions for first 20 rows of training dataframe: \n",
      "\n",
      "         TRAVELTIME    Predicted\n",
      "1242572       337.0   542.430050\n",
      "390663       2636.0  2697.775616\n",
      "1013310       955.0   746.565290\n",
      "376603       2583.0  2358.553758\n",
      "33200        2644.0  2077.987674\n",
      "57801         656.0   888.911504\n",
      "1132178      1835.0  2272.524921\n",
      "884567       1705.0  1847.027735\n",
      "354721       2578.0  2790.047715\n",
      "981918         39.0    -8.833698\n",
      "1046230       724.0   971.394054\n",
      "1103490      3233.0  2831.338295\n",
      "91848         128.0    81.934605\n",
      "802780        824.0  1116.819429\n",
      "165600        727.0   823.665549\n",
      "1256476      1111.0  1454.082471\n",
      "58433        2792.0  3254.752125\n",
      "846096       2169.0  1906.073915\n",
      "1236084      1619.0  1688.832482\n",
      "993805        985.0  1073.761231\n"
     ]
    }
   ],
   "source": [
    "# predicting the travel time for the first 20 rows of the training dataframe\n",
    "linreg6r1_predictions = linreg6r1.predict(X.head(20))\n",
    "\n",
    "print(\"Predictions for first 20 rows of training dataframe: \\n\")\n",
    "actual_vs_pred_linreg6r1 = pd.concat([y.head(20), pd.DataFrame(linreg6r1_predictions, columns=['Predicted'], index=y.head(20).index)], axis=1)\n",
    "print(actual_vs_pred_linreg6r1)"
   ]
  },
  {
   "cell_type": "code",
   "execution_count": 171,
   "metadata": {},
   "outputs": [],
   "source": [
    "# predicting the travel time for entire test dataframe\n",
    "linreg6r1_test_predictions = linreg6r1.predict(testroute1[r1features6])"
   ]
  },
  {
   "cell_type": "code",
   "execution_count": 172,
   "metadata": {},
   "outputs": [],
   "source": [
    "# difference between test travel times and test predictions\n",
    "r1prediction_diffs6 = testroute1['TRAVELTIME'] - linreg6r1_test_predictions"
   ]
  },
  {
   "cell_type": "code",
   "execution_count": 173,
   "metadata": {},
   "outputs": [
    {
     "name": "stdout",
     "output_type": "stream",
     "text": [
      "RMSE: 361.42079249861155\n"
     ]
    }
   ],
   "source": [
    "# calculating root mean square error\n",
    "r1_linmodel6_rmse = ((r1prediction_diffs6**2).mean())**0.5\n",
    "print(\"RMSE:\", r1_linmodel6_rmse)"
   ]
  },
  {
   "cell_type": "code",
   "execution_count": 174,
   "metadata": {},
   "outputs": [
    {
     "name": "stdout",
     "output_type": "stream",
     "text": [
      "R2 score: 0.8928081627988077\n"
     ]
    }
   ],
   "source": [
    "# printing r2 score\n",
    "print(\"R2 score:\", r2_score(testroute1['TRAVELTIME'], linreg6r1_test_predictions))"
   ]
  },
  {
   "cell_type": "markdown",
   "metadata": {},
   "source": [
    "<b>Linear Model with Hour as Quartic Factor</b>"
   ]
  },
  {
   "cell_type": "code",
   "execution_count": 175,
   "metadata": {},
   "outputs": [],
   "source": [
    "# descriptive features\n",
    "r1features7 = ['PROGRNUMBER', 'DIRECTION', 'DAYOFWEEK', 'MONTHOFYEAR', 'temp', 'w_main_Clouds', 'w_main_Drizzle', 'w_main_Fog', 'w_main_Mist', 'w_main_Rain', 'w_main_Smoke', 'w_main_Snow', 'HOUROFDAY', 'HOUROFDAY**2', 'HOUROFDAY**3', 'HOUROFDAY**4']\n",
    "\n",
    "X = trainroute1[r1features7]\n",
    "y = trainroute1['TRAVELTIME']"
   ]
  },
  {
   "cell_type": "code",
   "execution_count": 176,
   "metadata": {},
   "outputs": [],
   "source": [
    "# fitting the model\n",
    "linreg7r1 = LinearRegression().fit(X, y)"
   ]
  },
  {
   "cell_type": "code",
   "execution_count": 177,
   "metadata": {},
   "outputs": [
    {
     "name": "stdout",
     "output_type": "stream",
     "text": [
      "Intercept:  -1176.6618972756362\n",
      "Features and coeficients: [('PROGRNUMBER', 84.3288287523119), ('DIRECTION', 78.17136048582307), ('DAYOFWEEK', -14.779691354324152), ('MONTHOFYEAR', 5.177108626328765), ('temp', -1.7550778188042258), ('w_main_Clouds', -14.443041060515807), ('w_main_Drizzle', -16.184834469111827), ('w_main_Fog', 16.36157394758295), ('w_main_Mist', 39.930146684195), ('w_main_Rain', 10.65120678782692), ('w_main_Smoke', -74.34471308009556), ('w_main_Snow', -102.27295556989698), ('HOUROFDAY', 292.2237983162515), ('HOUROFDAY**2', -37.55582554255064), ('HOUROFDAY**3', 2.1818881333601396), ('HOUROFDAY**4', -0.04693789344257482)]\n"
     ]
    }
   ],
   "source": [
    "# printing the intercept and weights learned for each feature\n",
    "print(\"Intercept: \", linreg7r1.intercept_)\n",
    "print(\"Features and coeficients:\", list(zip(r1features7, linreg7r1.coef_)))"
   ]
  },
  {
   "cell_type": "code",
   "execution_count": 178,
   "metadata": {},
   "outputs": [
    {
     "name": "stdout",
     "output_type": "stream",
     "text": [
      "Predictions for first 20 rows of training dataframe: \n",
      "\n",
      "         TRAVELTIME    Predicted\n",
      "1242572       337.0   482.471472\n",
      "390663       2636.0  2648.566808\n",
      "1013310       955.0   693.515926\n",
      "376603       2583.0  2392.159241\n",
      "33200        2644.0  2129.755124\n",
      "57801         656.0   950.704322\n",
      "1132178      1835.0  2336.605063\n",
      "884567       1705.0  1873.731830\n",
      "354721       2578.0  2749.100420\n",
      "981918         39.0   -45.828633\n",
      "1046230       724.0   924.454598\n",
      "1103490      3233.0  2910.085440\n",
      "91848         128.0   105.978129\n",
      "802780        824.0  1182.418097\n",
      "165600        727.0   816.247270\n",
      "1256476      1111.0  1514.796146\n",
      "58433        2792.0  3210.188084\n",
      "846096       2169.0  1862.093935\n",
      "1236084      1619.0  1700.722859\n",
      "993805        985.0  1088.067631\n"
     ]
    }
   ],
   "source": [
    "# predicting the travel time for the first 20 rows of the training dataframe\n",
    "linreg7r1_predictions = linreg7r1.predict(X.head(20))\n",
    "\n",
    "print(\"Predictions for first 20 rows of training dataframe: \\n\")\n",
    "actual_vs_pred_linreg7r1 = pd.concat([y.head(20), pd.DataFrame(linreg7r1_predictions, columns=['Predicted'], index=y.head(20).index)], axis=1)\n",
    "print(actual_vs_pred_linreg7r1)"
   ]
  },
  {
   "cell_type": "code",
   "execution_count": 179,
   "metadata": {},
   "outputs": [],
   "source": [
    "# predicting the travel time for entire test dataframe\n",
    "linreg7r1_test_predictions = linreg7r1.predict(testroute1[r1features7])"
   ]
  },
  {
   "cell_type": "code",
   "execution_count": 180,
   "metadata": {},
   "outputs": [],
   "source": [
    "# difference between test travel times and test predictions\n",
    "r1prediction_diffs7 = testroute1['TRAVELTIME'] - linreg7r1_test_predictions"
   ]
  },
  {
   "cell_type": "code",
   "execution_count": 181,
   "metadata": {},
   "outputs": [
    {
     "name": "stdout",
     "output_type": "stream",
     "text": [
      "RMSE: 357.4232771141824\n"
     ]
    }
   ],
   "source": [
    "# calculating root mean square error\n",
    "r1_linmodel7_rmse = ((r1prediction_diffs7**2).mean())**0.5\n",
    "print(\"RMSE:\", r1_linmodel7_rmse)"
   ]
  },
  {
   "cell_type": "code",
   "execution_count": 182,
   "metadata": {},
   "outputs": [
    {
     "name": "stdout",
     "output_type": "stream",
     "text": [
      "R2 score: 0.8951662523006215\n"
     ]
    }
   ],
   "source": [
    "# printing r2 score\n",
    "print(\"R2 score:\", r2_score(testroute1['TRAVELTIME'], linreg7r1_test_predictions))"
   ]
  },
  {
   "cell_type": "markdown",
   "metadata": {},
   "source": [
    "<b>Other Non-linear Factors</b>"
   ]
  },
  {
   "cell_type": "code",
   "execution_count": 183,
   "metadata": {},
   "outputs": [
    {
     "data": {
      "text/plain": [
       "<AxesSubplot:xlabel='DAYOFWEEK', ylabel='TRAVELTIME'>"
      ]
     },
     "execution_count": 183,
     "metadata": {},
     "output_type": "execute_result"
    },
    {
     "data": {
      "image/png": "[encoded data removed]",
      "text/plain": [
       "<Figure size 432x288 with 1 Axes>"
      ]
     },
     "metadata": {
      "needs_background": "light"
     },
     "output_type": "display_data"
    }
   ],
   "source": [
    "# dayofweek vs traveltime\n",
    "dfroute1[['DAYOFWEEK', 'TRAVELTIME']].loc[dfroute1['PROGRNUMBER'] == 5].plot(kind='scatter', x='DAYOFWEEK', y='TRAVELTIME')"
   ]
  },
  {
   "cell_type": "code",
   "execution_count": 184,
   "metadata": {},
   "outputs": [
    {
     "data": {
      "text/plain": [
       "<AxesSubplot:xlabel='MONTHOFYEAR', ylabel='TRAVELTIME'>"
      ]
     },
     "execution_count": 184,
     "metadata": {},
     "output_type": "execute_result"
    },
    {
     "data": {
      "image/png": "[encoded data removed]",
      "text/plain": [
       "<Figure size 432x288 with 1 Axes>"
      ]
     },
     "metadata": {
      "needs_background": "light"
     },
     "output_type": "display_data"
    }
   ],
   "source": [
    "# monthofyear vs traveltime\n",
    "dfroute1[['MONTHOFYEAR', 'TRAVELTIME']].loc[dfroute1['PROGRNUMBER'] == 5].plot(kind='scatter', x='MONTHOFYEAR', y='TRAVELTIME', s=3)"
   ]
  },
  {
   "cell_type": "code",
   "execution_count": 185,
   "metadata": {},
   "outputs": [
    {
     "data": {
      "text/plain": [
       "<AxesSubplot:xlabel='temp', ylabel='TRAVELTIME'>"
      ]
     },
     "execution_count": 185,
     "metadata": {},
     "output_type": "execute_result"
    },
    {
     "data": {
      "image/png": "[encoded data removed]",
      "text/plain": [
       "<Figure size 432x288 with 1 Axes>"
      ]
     },
     "metadata": {
      "needs_background": "light"
     },
     "output_type": "display_data"
    }
   ],
   "source": [
    "# temp vs traveltime\n",
    "dfroute1[['temp', 'TRAVELTIME']].loc[dfroute1['PROGRNUMBER'] == 40].plot(kind='scatter', x='temp', y='TRAVELTIME', s=3)"
   ]
  },
  {
   "cell_type": "code",
   "execution_count": null,
   "metadata": {},
   "outputs": [],
   "source": []
  },
  {
   "cell_type": "markdown",
   "metadata": {},
   "source": [
    "# 4 - Historical Average Models"
   ]
  },
  {
   "cell_type": "markdown",
   "metadata": {},
   "source": [
    "## 4.1 - Simple Historical Average Model"
   ]
  },
  {
   "cell_type": "code",
   "execution_count": 186,
   "metadata": {},
   "outputs": [],
   "source": [
    "# creating dataframe for average travel times for each hour of day, day of week and progress number using training data\n",
    "daylist = []\n",
    "hourlist = []\n",
    "proglist = []\n",
    "ttalist = []\n",
    "\n",
    "for day in trainroute1['DAYOFWEEK'].unique():\n",
    "    for hour in trainroute1['HOUROFDAY'].unique():\n",
    "        for num in trainroute1['PROGRNUMBER'].unique():\n",
    "            daylist += [day]\n",
    "            hourlist += [hour]\n",
    "            proglist += [num]\n",
    "            ttalist += [trainroute1['TRAVELTIME'].loc[(trainroute1['DAYOFWEEK'] == day) & (trainroute1['HOUROFDAY'] == hour) & (trainroute1['PROGRNUMBER'] == num)].mean()]\n",
    "                                           \n",
    "dfhist = pd.DataFrame({'DAYOFWEEK': daylist, 'HOUROFDAY': hourlist, 'PROGRNUMBER': proglist, 'TRAVELTIMEAVG': ttalist})"
   ]
  },
  {
   "cell_type": "code",
   "execution_count": 187,
   "metadata": {},
   "outputs": [
    {
     "data": {
      "text/html": [
       "<div>\n",
       "<style scoped>\n",
       "    .dataframe tbody tr th:only-of-type {\n",
       "        vertical-align: middle;\n",
       "    }\n",
       "\n",
       "    .dataframe tbody tr th {\n",
       "        vertical-align: top;\n",
       "    }\n",
       "\n",
       "    .dataframe thead th {\n",
       "        text-align: right;\n",
       "    }\n",
       "</style>\n",
       "<table border=\"1\" class=\"dataframe\">\n",
       "  <thead>\n",
       "    <tr style=\"text-align: right;\">\n",
       "      <th></th>\n",
       "      <th>DAYOFWEEK</th>\n",
       "      <th>HOUROFDAY</th>\n",
       "      <th>PROGRNUMBER</th>\n",
       "      <th>TRAVELTIMEAVG</th>\n",
       "    </tr>\n",
       "  </thead>\n",
       "  <tbody>\n",
       "    <tr>\n",
       "      <th>0</th>\n",
       "      <td>1</td>\n",
       "      <td>12</td>\n",
       "      <td>7</td>\n",
       "      <td>339.117371</td>\n",
       "    </tr>\n",
       "    <tr>\n",
       "      <th>1</th>\n",
       "      <td>1</td>\n",
       "      <td>12</td>\n",
       "      <td>34</td>\n",
       "      <td>2702.971564</td>\n",
       "    </tr>\n",
       "    <tr>\n",
       "      <th>2</th>\n",
       "      <td>1</td>\n",
       "      <td>12</td>\n",
       "      <td>11</td>\n",
       "      <td>552.189573</td>\n",
       "    </tr>\n",
       "    <tr>\n",
       "      <th>3</th>\n",
       "      <td>1</td>\n",
       "      <td>12</td>\n",
       "      <td>31</td>\n",
       "      <td>2491.188940</td>\n",
       "    </tr>\n",
       "    <tr>\n",
       "      <th>4</th>\n",
       "      <td>1</td>\n",
       "      <td>12</td>\n",
       "      <td>27</td>\n",
       "      <td>2217.693780</td>\n",
       "    </tr>\n",
       "  </tbody>\n",
       "</table>\n",
       "</div>"
      ],
      "text/plain": [
       "   DAYOFWEEK  HOUROFDAY  PROGRNUMBER  TRAVELTIMEAVG\n",
       "0          1         12            7     339.117371\n",
       "1          1         12           34    2702.971564\n",
       "2          1         12           11     552.189573\n",
       "3          1         12           31    2491.188940\n",
       "4          1         12           27    2217.693780"
      ]
     },
     "execution_count": 187,
     "metadata": {},
     "output_type": "execute_result"
    }
   ],
   "source": [
    "dfhist.head()"
   ]
  },
  {
   "cell_type": "code",
   "execution_count": 188,
   "metadata": {},
   "outputs": [],
   "source": [
    "# merging with test data to calculate results\n",
    "dfhistres = testroute1[['DAYOFSERVICE', 'TRIPID', 'DAYOFWEEK', 'HOUROFDAY', 'PROGRNUMBER', 'TRAVELTIME']].merge(dfhist, on=['DAYOFWEEK', 'HOUROFDAY', 'PROGRNUMBER'])"
   ]
  },
  {
   "cell_type": "code",
   "execution_count": 189,
   "metadata": {},
   "outputs": [
    {
     "data": {
      "text/html": [
       "<div>\n",
       "<style scoped>\n",
       "    .dataframe tbody tr th:only-of-type {\n",
       "        vertical-align: middle;\n",
       "    }\n",
       "\n",
       "    .dataframe tbody tr th {\n",
       "        vertical-align: top;\n",
       "    }\n",
       "\n",
       "    .dataframe thead th {\n",
       "        text-align: right;\n",
       "    }\n",
       "</style>\n",
       "<table border=\"1\" class=\"dataframe\">\n",
       "  <thead>\n",
       "    <tr style=\"text-align: right;\">\n",
       "      <th></th>\n",
       "      <th>DAYOFSERVICE</th>\n",
       "      <th>TRIPID</th>\n",
       "      <th>DAYOFWEEK</th>\n",
       "      <th>HOUROFDAY</th>\n",
       "      <th>PROGRNUMBER</th>\n",
       "      <th>TRAVELTIME</th>\n",
       "      <th>TRAVELTIMEAVG</th>\n",
       "    </tr>\n",
       "  </thead>\n",
       "  <tbody>\n",
       "    <tr>\n",
       "      <th>0</th>\n",
       "      <td>2018-01-01</td>\n",
       "      <td>5972116</td>\n",
       "      <td>0</td>\n",
       "      <td>13</td>\n",
       "      <td>13</td>\n",
       "      <td>631.0</td>\n",
       "      <td>672.364035</td>\n",
       "    </tr>\n",
       "    <tr>\n",
       "      <th>1</th>\n",
       "      <td>2018-01-08</td>\n",
       "      <td>6100926</td>\n",
       "      <td>0</td>\n",
       "      <td>13</td>\n",
       "      <td>13</td>\n",
       "      <td>661.0</td>\n",
       "      <td>672.364035</td>\n",
       "    </tr>\n",
       "    <tr>\n",
       "      <th>2</th>\n",
       "      <td>2018-01-15</td>\n",
       "      <td>6114209</td>\n",
       "      <td>0</td>\n",
       "      <td>13</td>\n",
       "      <td>13</td>\n",
       "      <td>711.0</td>\n",
       "      <td>672.364035</td>\n",
       "    </tr>\n",
       "    <tr>\n",
       "      <th>3</th>\n",
       "      <td>2018-01-22</td>\n",
       "      <td>6224845</td>\n",
       "      <td>0</td>\n",
       "      <td>13</td>\n",
       "      <td>13</td>\n",
       "      <td>642.0</td>\n",
       "      <td>672.364035</td>\n",
       "    </tr>\n",
       "    <tr>\n",
       "      <th>4</th>\n",
       "      <td>2018-01-22</td>\n",
       "      <td>6219267</td>\n",
       "      <td>0</td>\n",
       "      <td>13</td>\n",
       "      <td>13</td>\n",
       "      <td>848.0</td>\n",
       "      <td>672.364035</td>\n",
       "    </tr>\n",
       "  </tbody>\n",
       "</table>\n",
       "</div>"
      ],
      "text/plain": [
       "  DAYOFSERVICE   TRIPID  DAYOFWEEK  HOUROFDAY  PROGRNUMBER  TRAVELTIME  \\\n",
       "0   2018-01-01  5972116          0         13           13       631.0   \n",
       "1   2018-01-08  6100926          0         13           13       661.0   \n",
       "2   2018-01-15  6114209          0         13           13       711.0   \n",
       "3   2018-01-22  6224845          0         13           13       642.0   \n",
       "4   2018-01-22  6219267          0         13           13       848.0   \n",
       "\n",
       "   TRAVELTIMEAVG  \n",
       "0     672.364035  \n",
       "1     672.364035  \n",
       "2     672.364035  \n",
       "3     672.364035  \n",
       "4     672.364035  "
      ]
     },
     "execution_count": 189,
     "metadata": {},
     "output_type": "execute_result"
    }
   ],
   "source": [
    "dfhistres.head()"
   ]
  },
  {
   "cell_type": "code",
   "execution_count": 190,
   "metadata": {},
   "outputs": [],
   "source": [
    "nanhistindex = dfhistres['TRAVELTIMEAVG'].loc[dfhistres['TRAVELTIMEAVG'].isna() == True].index.tolist()"
   ]
  },
  {
   "cell_type": "code",
   "execution_count": 191,
   "metadata": {},
   "outputs": [],
   "source": [
    "# dropping NaN rows\n",
    "#dfhistres = dfhistres.drop(nanhistindex)"
   ]
  },
  {
   "cell_type": "code",
   "execution_count": 192,
   "metadata": {},
   "outputs": [],
   "source": [
    "# difference between test travel times and test predictions\n",
    "r1prediction_diffs6 = dfhistres['TRAVELTIME'] - dfhistres['TRAVELTIMEAVG']"
   ]
  },
  {
   "cell_type": "code",
   "execution_count": 193,
   "metadata": {},
   "outputs": [
    {
     "name": "stdout",
     "output_type": "stream",
     "text": [
      "RMSE: 275.79157123234404\n"
     ]
    }
   ],
   "source": [
    "# calculating root mean square error\n",
    "r1_histmodel_rmse = ((r1prediction_diffs6**2).mean())**0.5\n",
    "print(\"RMSE:\", r1_histmodel_rmse)"
   ]
  },
  {
   "cell_type": "code",
   "execution_count": 194,
   "metadata": {},
   "outputs": [],
   "source": [
    "# printing r2 score\n",
    "#print(\"R2 score:\", r2_score(dfhistres['TRAVELTIME'], dfhistres['TRAVELTIMEAVG']))"
   ]
  },
  {
   "cell_type": "markdown",
   "metadata": {},
   "source": [
    "These are the best scores so far. However, we had to drop 19 rows for it to work, so it is not without fault."
   ]
  },
  {
   "cell_type": "markdown",
   "metadata": {},
   "source": [
    "## 4.2 - Hybrid - Simple Historical Average and Linear Regression"
   ]
  },
  {
   "cell_type": "code",
   "execution_count": 195,
   "metadata": {},
   "outputs": [
    {
     "data": {
      "text/html": [
       "<div>\n",
       "<style scoped>\n",
       "    .dataframe tbody tr th:only-of-type {\n",
       "        vertical-align: middle;\n",
       "    }\n",
       "\n",
       "    .dataframe tbody tr th {\n",
       "        vertical-align: top;\n",
       "    }\n",
       "\n",
       "    .dataframe thead th {\n",
       "        text-align: right;\n",
       "    }\n",
       "</style>\n",
       "<table border=\"1\" class=\"dataframe\">\n",
       "  <thead>\n",
       "    <tr style=\"text-align: right;\">\n",
       "      <th></th>\n",
       "      <th>DAYOFSERVICE</th>\n",
       "      <th>TRIPID</th>\n",
       "      <th>PROGRNUMBER</th>\n",
       "      <th>STOPPOINTID</th>\n",
       "      <th>PLANNEDTIME_ARR</th>\n",
       "      <th>PLANNEDTIME_DEP</th>\n",
       "      <th>ACTUALTIME_ARR</th>\n",
       "      <th>ACTUALTIME_DEP</th>\n",
       "      <th>VEHICLEID</th>\n",
       "      <th>DIRECTION</th>\n",
       "      <th>...</th>\n",
       "      <th>w_main_Clouds</th>\n",
       "      <th>w_main_Drizzle</th>\n",
       "      <th>w_main_Fog</th>\n",
       "      <th>w_main_Mist</th>\n",
       "      <th>w_main_Rain</th>\n",
       "      <th>w_main_Smoke</th>\n",
       "      <th>w_main_Snow</th>\n",
       "      <th>HOUROFDAY**2</th>\n",
       "      <th>HOUROFDAY**3</th>\n",
       "      <th>HOUROFDAY**4</th>\n",
       "    </tr>\n",
       "  </thead>\n",
       "  <tbody>\n",
       "    <tr>\n",
       "      <th>1</th>\n",
       "      <td>2018-01-01</td>\n",
       "      <td>5972116</td>\n",
       "      <td>13</td>\n",
       "      <td>44</td>\n",
       "      <td>48079</td>\n",
       "      <td>48079</td>\n",
       "      <td>48058</td>\n",
       "      <td>48058</td>\n",
       "      <td>2693211</td>\n",
       "      <td>1</td>\n",
       "      <td>...</td>\n",
       "      <td>0</td>\n",
       "      <td>0</td>\n",
       "      <td>0</td>\n",
       "      <td>0</td>\n",
       "      <td>1</td>\n",
       "      <td>0</td>\n",
       "      <td>0</td>\n",
       "      <td>169</td>\n",
       "      <td>2197</td>\n",
       "      <td>28561</td>\n",
       "    </tr>\n",
       "    <tr>\n",
       "      <th>6</th>\n",
       "      <td>2018-01-01</td>\n",
       "      <td>5972116</td>\n",
       "      <td>18</td>\n",
       "      <td>48</td>\n",
       "      <td>48366</td>\n",
       "      <td>48366</td>\n",
       "      <td>48189</td>\n",
       "      <td>48189</td>\n",
       "      <td>2693211</td>\n",
       "      <td>1</td>\n",
       "      <td>...</td>\n",
       "      <td>0</td>\n",
       "      <td>0</td>\n",
       "      <td>0</td>\n",
       "      <td>0</td>\n",
       "      <td>1</td>\n",
       "      <td>0</td>\n",
       "      <td>0</td>\n",
       "      <td>169</td>\n",
       "      <td>2197</td>\n",
       "      <td>28561</td>\n",
       "    </tr>\n",
       "    <tr>\n",
       "      <th>19</th>\n",
       "      <td>2018-01-01</td>\n",
       "      <td>5972116</td>\n",
       "      <td>33</td>\n",
       "      <td>390</td>\n",
       "      <td>49755</td>\n",
       "      <td>49755</td>\n",
       "      <td>49310</td>\n",
       "      <td>49310</td>\n",
       "      <td>2693211</td>\n",
       "      <td>1</td>\n",
       "      <td>...</td>\n",
       "      <td>0</td>\n",
       "      <td>0</td>\n",
       "      <td>0</td>\n",
       "      <td>0</td>\n",
       "      <td>1</td>\n",
       "      <td>0</td>\n",
       "      <td>0</td>\n",
       "      <td>169</td>\n",
       "      <td>2197</td>\n",
       "      <td>28561</td>\n",
       "    </tr>\n",
       "    <tr>\n",
       "      <th>22</th>\n",
       "      <td>2018-01-01</td>\n",
       "      <td>5972116</td>\n",
       "      <td>37</td>\n",
       "      <td>375</td>\n",
       "      <td>49948</td>\n",
       "      <td>49948</td>\n",
       "      <td>49466</td>\n",
       "      <td>49466</td>\n",
       "      <td>2693211</td>\n",
       "      <td>1</td>\n",
       "      <td>...</td>\n",
       "      <td>0</td>\n",
       "      <td>0</td>\n",
       "      <td>0</td>\n",
       "      <td>0</td>\n",
       "      <td>1</td>\n",
       "      <td>0</td>\n",
       "      <td>0</td>\n",
       "      <td>169</td>\n",
       "      <td>2197</td>\n",
       "      <td>28561</td>\n",
       "    </tr>\n",
       "    <tr>\n",
       "      <th>25</th>\n",
       "      <td>2018-01-01</td>\n",
       "      <td>5972116</td>\n",
       "      <td>1</td>\n",
       "      <td>226</td>\n",
       "      <td>47400</td>\n",
       "      <td>47400</td>\n",
       "      <td>47427</td>\n",
       "      <td>47427</td>\n",
       "      <td>2693211</td>\n",
       "      <td>1</td>\n",
       "      <td>...</td>\n",
       "      <td>0</td>\n",
       "      <td>0</td>\n",
       "      <td>0</td>\n",
       "      <td>0</td>\n",
       "      <td>1</td>\n",
       "      <td>0</td>\n",
       "      <td>0</td>\n",
       "      <td>169</td>\n",
       "      <td>2197</td>\n",
       "      <td>28561</td>\n",
       "    </tr>\n",
       "  </tbody>\n",
       "</table>\n",
       "<p>5 rows × 28 columns</p>\n",
       "</div>"
      ],
      "text/plain": [
       "   DAYOFSERVICE   TRIPID  PROGRNUMBER  STOPPOINTID  PLANNEDTIME_ARR  \\\n",
       "1    2018-01-01  5972116           13           44            48079   \n",
       "6    2018-01-01  5972116           18           48            48366   \n",
       "19   2018-01-01  5972116           33          390            49755   \n",
       "22   2018-01-01  5972116           37          375            49948   \n",
       "25   2018-01-01  5972116            1          226            47400   \n",
       "\n",
       "    PLANNEDTIME_DEP  ACTUALTIME_ARR  ACTUALTIME_DEP  VEHICLEID  DIRECTION  \\\n",
       "1             48079           48058           48058    2693211          1   \n",
       "6             48366           48189           48189    2693211          1   \n",
       "19            49755           49310           49310    2693211          1   \n",
       "22            49948           49466           49466    2693211          1   \n",
       "25            47400           47427           47427    2693211          1   \n",
       "\n",
       "    ...  w_main_Clouds  w_main_Drizzle  w_main_Fog  w_main_Mist  w_main_Rain  \\\n",
       "1   ...              0               0           0            0            1   \n",
       "6   ...              0               0           0            0            1   \n",
       "19  ...              0               0           0            0            1   \n",
       "22  ...              0               0           0            0            1   \n",
       "25  ...              0               0           0            0            1   \n",
       "\n",
       "    w_main_Smoke  w_main_Snow  HOUROFDAY**2  HOUROFDAY**3  HOUROFDAY**4  \n",
       "1              0            0           169          2197         28561  \n",
       "6              0            0           169          2197         28561  \n",
       "19             0            0           169          2197         28561  \n",
       "22             0            0           169          2197         28561  \n",
       "25             0            0           169          2197         28561  \n",
       "\n",
       "[5 rows x 28 columns]"
      ]
     },
     "execution_count": 195,
     "metadata": {},
     "output_type": "execute_result"
    }
   ],
   "source": [
    "# merging test results from last linreg model with testroute1 to get hour, day and progress number\n",
    "testroute1.head()"
   ]
  },
  {
   "cell_type": "code",
   "execution_count": 196,
   "metadata": {},
   "outputs": [],
   "source": [
    "testcopy = testroute1"
   ]
  },
  {
   "cell_type": "code",
   "execution_count": 197,
   "metadata": {},
   "outputs": [
    {
     "data": {
      "text/html": [
       "<div>\n",
       "<style scoped>\n",
       "    .dataframe tbody tr th:only-of-type {\n",
       "        vertical-align: middle;\n",
       "    }\n",
       "\n",
       "    .dataframe tbody tr th {\n",
       "        vertical-align: top;\n",
       "    }\n",
       "\n",
       "    .dataframe thead th {\n",
       "        text-align: right;\n",
       "    }\n",
       "</style>\n",
       "<table border=\"1\" class=\"dataframe\">\n",
       "  <thead>\n",
       "    <tr style=\"text-align: right;\">\n",
       "      <th></th>\n",
       "      <th>DAYOFSERVICE</th>\n",
       "      <th>TRIPID</th>\n",
       "      <th>PROGRNUMBER</th>\n",
       "      <th>STOPPOINTID</th>\n",
       "      <th>PLANNEDTIME_ARR</th>\n",
       "      <th>PLANNEDTIME_DEP</th>\n",
       "      <th>ACTUALTIME_ARR</th>\n",
       "      <th>ACTUALTIME_DEP</th>\n",
       "      <th>VEHICLEID</th>\n",
       "      <th>DIRECTION</th>\n",
       "      <th>...</th>\n",
       "      <th>w_main_Clouds</th>\n",
       "      <th>w_main_Drizzle</th>\n",
       "      <th>w_main_Fog</th>\n",
       "      <th>w_main_Mist</th>\n",
       "      <th>w_main_Rain</th>\n",
       "      <th>w_main_Smoke</th>\n",
       "      <th>w_main_Snow</th>\n",
       "      <th>HOUROFDAY**2</th>\n",
       "      <th>HOUROFDAY**3</th>\n",
       "      <th>HOUROFDAY**4</th>\n",
       "    </tr>\n",
       "  </thead>\n",
       "  <tbody>\n",
       "    <tr>\n",
       "      <th>1</th>\n",
       "      <td>2018-01-01</td>\n",
       "      <td>5972116</td>\n",
       "      <td>13</td>\n",
       "      <td>44</td>\n",
       "      <td>48079</td>\n",
       "      <td>48079</td>\n",
       "      <td>48058</td>\n",
       "      <td>48058</td>\n",
       "      <td>2693211</td>\n",
       "      <td>1</td>\n",
       "      <td>...</td>\n",
       "      <td>0</td>\n",
       "      <td>0</td>\n",
       "      <td>0</td>\n",
       "      <td>0</td>\n",
       "      <td>1</td>\n",
       "      <td>0</td>\n",
       "      <td>0</td>\n",
       "      <td>169</td>\n",
       "      <td>2197</td>\n",
       "      <td>28561</td>\n",
       "    </tr>\n",
       "    <tr>\n",
       "      <th>6</th>\n",
       "      <td>2018-01-01</td>\n",
       "      <td>5972116</td>\n",
       "      <td>18</td>\n",
       "      <td>48</td>\n",
       "      <td>48366</td>\n",
       "      <td>48366</td>\n",
       "      <td>48189</td>\n",
       "      <td>48189</td>\n",
       "      <td>2693211</td>\n",
       "      <td>1</td>\n",
       "      <td>...</td>\n",
       "      <td>0</td>\n",
       "      <td>0</td>\n",
       "      <td>0</td>\n",
       "      <td>0</td>\n",
       "      <td>1</td>\n",
       "      <td>0</td>\n",
       "      <td>0</td>\n",
       "      <td>169</td>\n",
       "      <td>2197</td>\n",
       "      <td>28561</td>\n",
       "    </tr>\n",
       "    <tr>\n",
       "      <th>19</th>\n",
       "      <td>2018-01-01</td>\n",
       "      <td>5972116</td>\n",
       "      <td>33</td>\n",
       "      <td>390</td>\n",
       "      <td>49755</td>\n",
       "      <td>49755</td>\n",
       "      <td>49310</td>\n",
       "      <td>49310</td>\n",
       "      <td>2693211</td>\n",
       "      <td>1</td>\n",
       "      <td>...</td>\n",
       "      <td>0</td>\n",
       "      <td>0</td>\n",
       "      <td>0</td>\n",
       "      <td>0</td>\n",
       "      <td>1</td>\n",
       "      <td>0</td>\n",
       "      <td>0</td>\n",
       "      <td>169</td>\n",
       "      <td>2197</td>\n",
       "      <td>28561</td>\n",
       "    </tr>\n",
       "    <tr>\n",
       "      <th>22</th>\n",
       "      <td>2018-01-01</td>\n",
       "      <td>5972116</td>\n",
       "      <td>37</td>\n",
       "      <td>375</td>\n",
       "      <td>49948</td>\n",
       "      <td>49948</td>\n",
       "      <td>49466</td>\n",
       "      <td>49466</td>\n",
       "      <td>2693211</td>\n",
       "      <td>1</td>\n",
       "      <td>...</td>\n",
       "      <td>0</td>\n",
       "      <td>0</td>\n",
       "      <td>0</td>\n",
       "      <td>0</td>\n",
       "      <td>1</td>\n",
       "      <td>0</td>\n",
       "      <td>0</td>\n",
       "      <td>169</td>\n",
       "      <td>2197</td>\n",
       "      <td>28561</td>\n",
       "    </tr>\n",
       "    <tr>\n",
       "      <th>25</th>\n",
       "      <td>2018-01-01</td>\n",
       "      <td>5972116</td>\n",
       "      <td>1</td>\n",
       "      <td>226</td>\n",
       "      <td>47400</td>\n",
       "      <td>47400</td>\n",
       "      <td>47427</td>\n",
       "      <td>47427</td>\n",
       "      <td>2693211</td>\n",
       "      <td>1</td>\n",
       "      <td>...</td>\n",
       "      <td>0</td>\n",
       "      <td>0</td>\n",
       "      <td>0</td>\n",
       "      <td>0</td>\n",
       "      <td>1</td>\n",
       "      <td>0</td>\n",
       "      <td>0</td>\n",
       "      <td>169</td>\n",
       "      <td>2197</td>\n",
       "      <td>28561</td>\n",
       "    </tr>\n",
       "  </tbody>\n",
       "</table>\n",
       "<p>5 rows × 28 columns</p>\n",
       "</div>"
      ],
      "text/plain": [
       "   DAYOFSERVICE   TRIPID  PROGRNUMBER  STOPPOINTID  PLANNEDTIME_ARR  \\\n",
       "1    2018-01-01  5972116           13           44            48079   \n",
       "6    2018-01-01  5972116           18           48            48366   \n",
       "19   2018-01-01  5972116           33          390            49755   \n",
       "22   2018-01-01  5972116           37          375            49948   \n",
       "25   2018-01-01  5972116            1          226            47400   \n",
       "\n",
       "    PLANNEDTIME_DEP  ACTUALTIME_ARR  ACTUALTIME_DEP  VEHICLEID  DIRECTION  \\\n",
       "1             48079           48058           48058    2693211          1   \n",
       "6             48366           48189           48189    2693211          1   \n",
       "19            49755           49310           49310    2693211          1   \n",
       "22            49948           49466           49466    2693211          1   \n",
       "25            47400           47427           47427    2693211          1   \n",
       "\n",
       "    ...  w_main_Clouds  w_main_Drizzle  w_main_Fog  w_main_Mist  w_main_Rain  \\\n",
       "1   ...              0               0           0            0            1   \n",
       "6   ...              0               0           0            0            1   \n",
       "19  ...              0               0           0            0            1   \n",
       "22  ...              0               0           0            0            1   \n",
       "25  ...              0               0           0            0            1   \n",
       "\n",
       "    w_main_Smoke  w_main_Snow  HOUROFDAY**2  HOUROFDAY**3  HOUROFDAY**4  \n",
       "1              0            0           169          2197         28561  \n",
       "6              0            0           169          2197         28561  \n",
       "19             0            0           169          2197         28561  \n",
       "22             0            0           169          2197         28561  \n",
       "25             0            0           169          2197         28561  \n",
       "\n",
       "[5 rows x 28 columns]"
      ]
     },
     "execution_count": 197,
     "metadata": {},
     "output_type": "execute_result"
    }
   ],
   "source": [
    "testcopy.head()"
   ]
  },
  {
   "cell_type": "code",
   "execution_count": 198,
   "metadata": {},
   "outputs": [],
   "source": [
    "# adding predictions from linmodel7 to the testcopy dataframe\n",
    "testcopy['LINMODELPRED'] = linreg7r1.predict(testcopy[r1features7])"
   ]
  },
  {
   "cell_type": "code",
   "execution_count": 199,
   "metadata": {},
   "outputs": [
    {
     "data": {
      "text/html": [
       "<div>\n",
       "<style scoped>\n",
       "    .dataframe tbody tr th:only-of-type {\n",
       "        vertical-align: middle;\n",
       "    }\n",
       "\n",
       "    .dataframe tbody tr th {\n",
       "        vertical-align: top;\n",
       "    }\n",
       "\n",
       "    .dataframe thead th {\n",
       "        text-align: right;\n",
       "    }\n",
       "</style>\n",
       "<table border=\"1\" class=\"dataframe\">\n",
       "  <thead>\n",
       "    <tr style=\"text-align: right;\">\n",
       "      <th></th>\n",
       "      <th>DAYOFSERVICE</th>\n",
       "      <th>TRIPID</th>\n",
       "      <th>PROGRNUMBER</th>\n",
       "      <th>STOPPOINTID</th>\n",
       "      <th>PLANNEDTIME_ARR</th>\n",
       "      <th>PLANNEDTIME_DEP</th>\n",
       "      <th>ACTUALTIME_ARR</th>\n",
       "      <th>ACTUALTIME_DEP</th>\n",
       "      <th>VEHICLEID</th>\n",
       "      <th>DIRECTION</th>\n",
       "      <th>...</th>\n",
       "      <th>w_main_Drizzle</th>\n",
       "      <th>w_main_Fog</th>\n",
       "      <th>w_main_Mist</th>\n",
       "      <th>w_main_Rain</th>\n",
       "      <th>w_main_Smoke</th>\n",
       "      <th>w_main_Snow</th>\n",
       "      <th>HOUROFDAY**2</th>\n",
       "      <th>HOUROFDAY**3</th>\n",
       "      <th>HOUROFDAY**4</th>\n",
       "      <th>LINMODELPRED</th>\n",
       "    </tr>\n",
       "  </thead>\n",
       "  <tbody>\n",
       "    <tr>\n",
       "      <th>1</th>\n",
       "      <td>2018-01-01</td>\n",
       "      <td>5972116</td>\n",
       "      <td>13</td>\n",
       "      <td>44</td>\n",
       "      <td>48079</td>\n",
       "      <td>48079</td>\n",
       "      <td>48058</td>\n",
       "      <td>48058</td>\n",
       "      <td>2693211</td>\n",
       "      <td>1</td>\n",
       "      <td>...</td>\n",
       "      <td>0</td>\n",
       "      <td>0</td>\n",
       "      <td>0</td>\n",
       "      <td>1</td>\n",
       "      <td>0</td>\n",
       "      <td>0</td>\n",
       "      <td>169</td>\n",
       "      <td>2197</td>\n",
       "      <td>28561</td>\n",
       "      <td>905.562240</td>\n",
       "    </tr>\n",
       "    <tr>\n",
       "      <th>6</th>\n",
       "      <td>2018-01-01</td>\n",
       "      <td>5972116</td>\n",
       "      <td>18</td>\n",
       "      <td>48</td>\n",
       "      <td>48366</td>\n",
       "      <td>48366</td>\n",
       "      <td>48189</td>\n",
       "      <td>48189</td>\n",
       "      <td>2693211</td>\n",
       "      <td>1</td>\n",
       "      <td>...</td>\n",
       "      <td>0</td>\n",
       "      <td>0</td>\n",
       "      <td>0</td>\n",
       "      <td>1</td>\n",
       "      <td>0</td>\n",
       "      <td>0</td>\n",
       "      <td>169</td>\n",
       "      <td>2197</td>\n",
       "      <td>28561</td>\n",
       "      <td>1327.206384</td>\n",
       "    </tr>\n",
       "    <tr>\n",
       "      <th>19</th>\n",
       "      <td>2018-01-01</td>\n",
       "      <td>5972116</td>\n",
       "      <td>33</td>\n",
       "      <td>390</td>\n",
       "      <td>49755</td>\n",
       "      <td>49755</td>\n",
       "      <td>49310</td>\n",
       "      <td>49310</td>\n",
       "      <td>2693211</td>\n",
       "      <td>1</td>\n",
       "      <td>...</td>\n",
       "      <td>0</td>\n",
       "      <td>0</td>\n",
       "      <td>0</td>\n",
       "      <td>1</td>\n",
       "      <td>0</td>\n",
       "      <td>0</td>\n",
       "      <td>169</td>\n",
       "      <td>2197</td>\n",
       "      <td>28561</td>\n",
       "      <td>2592.138815</td>\n",
       "    </tr>\n",
       "    <tr>\n",
       "      <th>22</th>\n",
       "      <td>2018-01-01</td>\n",
       "      <td>5972116</td>\n",
       "      <td>37</td>\n",
       "      <td>375</td>\n",
       "      <td>49948</td>\n",
       "      <td>49948</td>\n",
       "      <td>49466</td>\n",
       "      <td>49466</td>\n",
       "      <td>2693211</td>\n",
       "      <td>1</td>\n",
       "      <td>...</td>\n",
       "      <td>0</td>\n",
       "      <td>0</td>\n",
       "      <td>0</td>\n",
       "      <td>1</td>\n",
       "      <td>0</td>\n",
       "      <td>0</td>\n",
       "      <td>169</td>\n",
       "      <td>2197</td>\n",
       "      <td>28561</td>\n",
       "      <td>2929.454130</td>\n",
       "    </tr>\n",
       "    <tr>\n",
       "      <th>25</th>\n",
       "      <td>2018-01-01</td>\n",
       "      <td>5972116</td>\n",
       "      <td>1</td>\n",
       "      <td>226</td>\n",
       "      <td>47400</td>\n",
       "      <td>47400</td>\n",
       "      <td>47427</td>\n",
       "      <td>47427</td>\n",
       "      <td>2693211</td>\n",
       "      <td>1</td>\n",
       "      <td>...</td>\n",
       "      <td>0</td>\n",
       "      <td>0</td>\n",
       "      <td>0</td>\n",
       "      <td>1</td>\n",
       "      <td>0</td>\n",
       "      <td>0</td>\n",
       "      <td>169</td>\n",
       "      <td>2197</td>\n",
       "      <td>28561</td>\n",
       "      <td>-106.383705</td>\n",
       "    </tr>\n",
       "  </tbody>\n",
       "</table>\n",
       "<p>5 rows × 29 columns</p>\n",
       "</div>"
      ],
      "text/plain": [
       "   DAYOFSERVICE   TRIPID  PROGRNUMBER  STOPPOINTID  PLANNEDTIME_ARR  \\\n",
       "1    2018-01-01  5972116           13           44            48079   \n",
       "6    2018-01-01  5972116           18           48            48366   \n",
       "19   2018-01-01  5972116           33          390            49755   \n",
       "22   2018-01-01  5972116           37          375            49948   \n",
       "25   2018-01-01  5972116            1          226            47400   \n",
       "\n",
       "    PLANNEDTIME_DEP  ACTUALTIME_ARR  ACTUALTIME_DEP  VEHICLEID  DIRECTION  \\\n",
       "1             48079           48058           48058    2693211          1   \n",
       "6             48366           48189           48189    2693211          1   \n",
       "19            49755           49310           49310    2693211          1   \n",
       "22            49948           49466           49466    2693211          1   \n",
       "25            47400           47427           47427    2693211          1   \n",
       "\n",
       "    ...  w_main_Drizzle  w_main_Fog  w_main_Mist  w_main_Rain  w_main_Smoke  \\\n",
       "1   ...               0           0            0            1             0   \n",
       "6   ...               0           0            0            1             0   \n",
       "19  ...               0           0            0            1             0   \n",
       "22  ...               0           0            0            1             0   \n",
       "25  ...               0           0            0            1             0   \n",
       "\n",
       "    w_main_Snow  HOUROFDAY**2  HOUROFDAY**3  HOUROFDAY**4  LINMODELPRED  \n",
       "1             0           169          2197         28561    905.562240  \n",
       "6             0           169          2197         28561   1327.206384  \n",
       "19            0           169          2197         28561   2592.138815  \n",
       "22            0           169          2197         28561   2929.454130  \n",
       "25            0           169          2197         28561   -106.383705  \n",
       "\n",
       "[5 rows x 29 columns]"
      ]
     },
     "execution_count": 199,
     "metadata": {},
     "output_type": "execute_result"
    }
   ],
   "source": [
    "testcopy.head()"
   ]
  },
  {
   "cell_type": "code",
   "execution_count": 200,
   "metadata": {},
   "outputs": [
    {
     "data": {
      "text/html": [
       "<div>\n",
       "<style scoped>\n",
       "    .dataframe tbody tr th:only-of-type {\n",
       "        vertical-align: middle;\n",
       "    }\n",
       "\n",
       "    .dataframe tbody tr th {\n",
       "        vertical-align: top;\n",
       "    }\n",
       "\n",
       "    .dataframe thead th {\n",
       "        text-align: right;\n",
       "    }\n",
       "</style>\n",
       "<table border=\"1\" class=\"dataframe\">\n",
       "  <thead>\n",
       "    <tr style=\"text-align: right;\">\n",
       "      <th></th>\n",
       "      <th>DAYOFSERVICE</th>\n",
       "      <th>TRIPID</th>\n",
       "      <th>DAYOFWEEK</th>\n",
       "      <th>HOUROFDAY</th>\n",
       "      <th>PROGRNUMBER</th>\n",
       "      <th>TRAVELTIME</th>\n",
       "      <th>TRAVELTIMEAVG</th>\n",
       "    </tr>\n",
       "  </thead>\n",
       "  <tbody>\n",
       "    <tr>\n",
       "      <th>0</th>\n",
       "      <td>2018-01-01</td>\n",
       "      <td>5972116</td>\n",
       "      <td>0</td>\n",
       "      <td>13</td>\n",
       "      <td>13</td>\n",
       "      <td>631.0</td>\n",
       "      <td>672.364035</td>\n",
       "    </tr>\n",
       "    <tr>\n",
       "      <th>1</th>\n",
       "      <td>2018-01-08</td>\n",
       "      <td>6100926</td>\n",
       "      <td>0</td>\n",
       "      <td>13</td>\n",
       "      <td>13</td>\n",
       "      <td>661.0</td>\n",
       "      <td>672.364035</td>\n",
       "    </tr>\n",
       "    <tr>\n",
       "      <th>2</th>\n",
       "      <td>2018-01-15</td>\n",
       "      <td>6114209</td>\n",
       "      <td>0</td>\n",
       "      <td>13</td>\n",
       "      <td>13</td>\n",
       "      <td>711.0</td>\n",
       "      <td>672.364035</td>\n",
       "    </tr>\n",
       "    <tr>\n",
       "      <th>3</th>\n",
       "      <td>2018-01-22</td>\n",
       "      <td>6224845</td>\n",
       "      <td>0</td>\n",
       "      <td>13</td>\n",
       "      <td>13</td>\n",
       "      <td>642.0</td>\n",
       "      <td>672.364035</td>\n",
       "    </tr>\n",
       "    <tr>\n",
       "      <th>4</th>\n",
       "      <td>2018-01-22</td>\n",
       "      <td>6219267</td>\n",
       "      <td>0</td>\n",
       "      <td>13</td>\n",
       "      <td>13</td>\n",
       "      <td>848.0</td>\n",
       "      <td>672.364035</td>\n",
       "    </tr>\n",
       "  </tbody>\n",
       "</table>\n",
       "</div>"
      ],
      "text/plain": [
       "  DAYOFSERVICE   TRIPID  DAYOFWEEK  HOUROFDAY  PROGRNUMBER  TRAVELTIME  \\\n",
       "0   2018-01-01  5972116          0         13           13       631.0   \n",
       "1   2018-01-08  6100926          0         13           13       661.0   \n",
       "2   2018-01-15  6114209          0         13           13       711.0   \n",
       "3   2018-01-22  6224845          0         13           13       642.0   \n",
       "4   2018-01-22  6219267          0         13           13       848.0   \n",
       "\n",
       "   TRAVELTIMEAVG  \n",
       "0     672.364035  \n",
       "1     672.364035  \n",
       "2     672.364035  \n",
       "3     672.364035  \n",
       "4     672.364035  "
      ]
     },
     "execution_count": 200,
     "metadata": {},
     "output_type": "execute_result"
    }
   ],
   "source": [
    "dfhistres.head()"
   ]
  },
  {
   "cell_type": "code",
   "execution_count": 201,
   "metadata": {},
   "outputs": [],
   "source": [
    "# merging testcopy and dfhistres on dayofservice, tripid and progrnumber\n",
    "dfhistres = dfhistres.merge(testcopy[['DAYOFSERVICE', 'TRIPID', 'PROGRNUMBER', 'LINMODELPRED']], on=['DAYOFSERVICE', 'TRIPID', 'PROGRNUMBER'])"
   ]
  },
  {
   "cell_type": "code",
   "execution_count": 202,
   "metadata": {},
   "outputs": [
    {
     "data": {
      "text/plain": [
       "(376693, 8)"
      ]
     },
     "execution_count": 202,
     "metadata": {},
     "output_type": "execute_result"
    }
   ],
   "source": [
    "dfhistres.shape"
   ]
  },
  {
   "cell_type": "code",
   "execution_count": 203,
   "metadata": {},
   "outputs": [
    {
     "data": {
      "text/html": [
       "<div>\n",
       "<style scoped>\n",
       "    .dataframe tbody tr th:only-of-type {\n",
       "        vertical-align: middle;\n",
       "    }\n",
       "\n",
       "    .dataframe tbody tr th {\n",
       "        vertical-align: top;\n",
       "    }\n",
       "\n",
       "    .dataframe thead th {\n",
       "        text-align: right;\n",
       "    }\n",
       "</style>\n",
       "<table border=\"1\" class=\"dataframe\">\n",
       "  <thead>\n",
       "    <tr style=\"text-align: right;\">\n",
       "      <th></th>\n",
       "      <th>DAYOFSERVICE</th>\n",
       "      <th>TRIPID</th>\n",
       "      <th>DAYOFWEEK</th>\n",
       "      <th>HOUROFDAY</th>\n",
       "      <th>PROGRNUMBER</th>\n",
       "      <th>TRAVELTIME</th>\n",
       "      <th>TRAVELTIMEAVG</th>\n",
       "      <th>LINMODELPRED</th>\n",
       "    </tr>\n",
       "  </thead>\n",
       "  <tbody>\n",
       "    <tr>\n",
       "      <th>0</th>\n",
       "      <td>2018-01-01</td>\n",
       "      <td>5972116</td>\n",
       "      <td>0</td>\n",
       "      <td>13</td>\n",
       "      <td>13</td>\n",
       "      <td>631.0</td>\n",
       "      <td>672.364035</td>\n",
       "      <td>905.562240</td>\n",
       "    </tr>\n",
       "    <tr>\n",
       "      <th>1</th>\n",
       "      <td>2018-01-08</td>\n",
       "      <td>6100926</td>\n",
       "      <td>0</td>\n",
       "      <td>13</td>\n",
       "      <td>13</td>\n",
       "      <td>661.0</td>\n",
       "      <td>672.364035</td>\n",
       "      <td>885.013644</td>\n",
       "    </tr>\n",
       "    <tr>\n",
       "      <th>2</th>\n",
       "      <td>2018-01-15</td>\n",
       "      <td>6114209</td>\n",
       "      <td>0</td>\n",
       "      <td>13</td>\n",
       "      <td>13</td>\n",
       "      <td>711.0</td>\n",
       "      <td>672.364035</td>\n",
       "      <td>959.446688</td>\n",
       "    </tr>\n",
       "    <tr>\n",
       "      <th>3</th>\n",
       "      <td>2018-01-22</td>\n",
       "      <td>6224845</td>\n",
       "      <td>0</td>\n",
       "      <td>13</td>\n",
       "      <td>13</td>\n",
       "      <td>642.0</td>\n",
       "      <td>672.364035</td>\n",
       "      <td>957.551204</td>\n",
       "    </tr>\n",
       "    <tr>\n",
       "      <th>4</th>\n",
       "      <td>2018-01-22</td>\n",
       "      <td>6219267</td>\n",
       "      <td>0</td>\n",
       "      <td>13</td>\n",
       "      <td>13</td>\n",
       "      <td>848.0</td>\n",
       "      <td>672.364035</td>\n",
       "      <td>957.551204</td>\n",
       "    </tr>\n",
       "  </tbody>\n",
       "</table>\n",
       "</div>"
      ],
      "text/plain": [
       "  DAYOFSERVICE   TRIPID  DAYOFWEEK  HOUROFDAY  PROGRNUMBER  TRAVELTIME  \\\n",
       "0   2018-01-01  5972116          0         13           13       631.0   \n",
       "1   2018-01-08  6100926          0         13           13       661.0   \n",
       "2   2018-01-15  6114209          0         13           13       711.0   \n",
       "3   2018-01-22  6224845          0         13           13       642.0   \n",
       "4   2018-01-22  6219267          0         13           13       848.0   \n",
       "\n",
       "   TRAVELTIMEAVG  LINMODELPRED  \n",
       "0     672.364035    905.562240  \n",
       "1     672.364035    885.013644  \n",
       "2     672.364035    959.446688  \n",
       "3     672.364035    957.551204  \n",
       "4     672.364035    957.551204  "
      ]
     },
     "execution_count": 203,
     "metadata": {},
     "output_type": "execute_result"
    }
   ],
   "source": [
    "dfhistres.head()"
   ]
  },
  {
   "cell_type": "code",
   "execution_count": 204,
   "metadata": {},
   "outputs": [
    {
     "name": "stdout",
     "output_type": "stream",
     "text": [
      "Null values in DAYOFSERVICE 0\n",
      "Null values in TRIPID 0\n",
      "Null values in DAYOFWEEK 0\n",
      "Null values in HOUROFDAY 0\n",
      "Null values in PROGRNUMBER 0\n",
      "Null values in TRAVELTIME 0\n",
      "Null values in TRAVELTIMEAVG 19\n",
      "Null values in LINMODELPRED 0\n"
     ]
    }
   ],
   "source": [
    "cols = ['DAYOFSERVICE', 'TRIPID', 'DAYOFWEEK', 'HOUROFDAY', 'PROGRNUMBER', 'TRAVELTIME', 'TRAVELTIMEAVG', 'LINMODELPRED']\n",
    "for col in cols:\n",
    "    print(\"Null values in\", col, dfhistres[col].isna().sum())"
   ]
  },
  {
   "cell_type": "code",
   "execution_count": 205,
   "metadata": {},
   "outputs": [],
   "source": [
    "nanindices = dfhistres.loc[dfhistres['TRAVELTIMEAVG'].isna() == True].index"
   ]
  },
  {
   "cell_type": "code",
   "execution_count": 206,
   "metadata": {},
   "outputs": [],
   "source": [
    "# dropping null values from dfhistres\n",
    "dfhistres = dfhistres.drop(nanindices)"
   ]
  },
  {
   "cell_type": "code",
   "execution_count": 207,
   "metadata": {},
   "outputs": [],
   "source": [
    "# column for average of linear model and historical average model\n",
    "dfhistres['HYBRIDPRED'] = (dfhistres['TRAVELTIMEAVG'] + dfhistres['LINMODELPRED']) / 2.0"
   ]
  },
  {
   "cell_type": "code",
   "execution_count": 208,
   "metadata": {},
   "outputs": [],
   "source": [
    "# difference between actual travel time and hybrid model predictions\n",
    "hybrid_pred_diffs = dfhistres['TRAVELTIME'] - dfhistres['HYBRIDPRED']"
   ]
  },
  {
   "cell_type": "code",
   "execution_count": 209,
   "metadata": {},
   "outputs": [
    {
     "name": "stdout",
     "output_type": "stream",
     "text": [
      "RMSE: 296.19922527056855\n"
     ]
    }
   ],
   "source": [
    "# calculating root mean square error\n",
    "r1_hybrid_rmse = ((hybrid_pred_diffs**2).mean())**0.5\n",
    "print(\"RMSE:\", r1_hybrid_rmse)"
   ]
  },
  {
   "cell_type": "code",
   "execution_count": 210,
   "metadata": {},
   "outputs": [
    {
     "name": "stdout",
     "output_type": "stream",
     "text": [
      "R2 score: 0.9279940288901376\n"
     ]
    }
   ],
   "source": [
    "# printing r2 score\n",
    "print(\"R2 score:\", r2_score(dfhistres['TRAVELTIME'], dfhistres['HYBRIDPRED']))"
   ]
  },
  {
   "cell_type": "markdown",
   "metadata": {},
   "source": [
    "This hybrid model (historical average and linear regression) has the best results of all the models so far which incorporates the weather. However, this might be difficult to implement into the app due to the size of the historical average model and the likelihood that some routes will not have an average time for some hour/day/progrnumber combination."
   ]
  },
  {
   "cell_type": "markdown",
   "metadata": {},
   "source": [
    "# 5 - Cleaning Full Leave Times File"
   ]
  },
  {
   "cell_type": "code",
   "execution_count": 211,
   "metadata": {},
   "outputs": [
    {
     "data": {
      "text/html": [
       "<div>\n",
       "<style scoped>\n",
       "    .dataframe tbody tr th:only-of-type {\n",
       "        vertical-align: middle;\n",
       "    }\n",
       "\n",
       "    .dataframe tbody tr th {\n",
       "        vertical-align: top;\n",
       "    }\n",
       "\n",
       "    .dataframe thead th {\n",
       "        text-align: right;\n",
       "    }\n",
       "</style>\n",
       "<table border=\"1\" class=\"dataframe\">\n",
       "  <thead>\n",
       "    <tr style=\"text-align: right;\">\n",
       "      <th></th>\n",
       "      <th>DAYOFSERVICE</th>\n",
       "      <th>TRIPID</th>\n",
       "      <th>LINEID</th>\n",
       "      <th>ROUTEID</th>\n",
       "      <th>DIRECTION</th>\n",
       "      <th>PLANNEDTIME_ARR</th>\n",
       "      <th>PLANNEDTIME_DEP</th>\n",
       "      <th>ACTUALTIME_ARR</th>\n",
       "      <th>ACTUALTIME_DEP</th>\n",
       "      <th>TRAVELTIME</th>\n",
       "      <th>MONTHOFYEAR</th>\n",
       "      <th>DAYOFWEEK</th>\n",
       "      <th>HOUROFDAY</th>\n",
       "    </tr>\n",
       "  </thead>\n",
       "  <tbody>\n",
       "    <tr>\n",
       "      <th>0</th>\n",
       "      <td>2018-02-07</td>\n",
       "      <td>6253783</td>\n",
       "      <td>68</td>\n",
       "      <td>68_80</td>\n",
       "      <td>1</td>\n",
       "      <td>87245</td>\n",
       "      <td>84600</td>\n",
       "      <td>87524.0</td>\n",
       "      <td>84600.0</td>\n",
       "      <td>2924.0</td>\n",
       "      <td>2</td>\n",
       "      <td>2</td>\n",
       "      <td>24</td>\n",
       "    </tr>\n",
       "    <tr>\n",
       "      <th>1</th>\n",
       "      <td>2018-02-07</td>\n",
       "      <td>6254942</td>\n",
       "      <td>45A</td>\n",
       "      <td>45A_70</td>\n",
       "      <td>2</td>\n",
       "      <td>35512</td>\n",
       "      <td>32100</td>\n",
       "      <td>36329.0</td>\n",
       "      <td>32082.0</td>\n",
       "      <td>4247.0</td>\n",
       "      <td>2</td>\n",
       "      <td>2</td>\n",
       "      <td>10</td>\n",
       "    </tr>\n",
       "    <tr>\n",
       "      <th>2</th>\n",
       "      <td>2018-02-07</td>\n",
       "      <td>6259460</td>\n",
       "      <td>25A</td>\n",
       "      <td>25A_273</td>\n",
       "      <td>1</td>\n",
       "      <td>57261</td>\n",
       "      <td>54420</td>\n",
       "      <td>58463.0</td>\n",
       "      <td>54443.0</td>\n",
       "      <td>4020.0</td>\n",
       "      <td>2</td>\n",
       "      <td>2</td>\n",
       "      <td>16</td>\n",
       "    </tr>\n",
       "    <tr>\n",
       "      <th>3</th>\n",
       "      <td>2018-02-07</td>\n",
       "      <td>6253175</td>\n",
       "      <td>14</td>\n",
       "      <td>14_15</td>\n",
       "      <td>1</td>\n",
       "      <td>85383</td>\n",
       "      <td>81600</td>\n",
       "      <td>84682.0</td>\n",
       "      <td>81608.0</td>\n",
       "      <td>3074.0</td>\n",
       "      <td>2</td>\n",
       "      <td>2</td>\n",
       "      <td>23</td>\n",
       "    </tr>\n",
       "    <tr>\n",
       "      <th>4</th>\n",
       "      <td>2018-02-07</td>\n",
       "      <td>6248240</td>\n",
       "      <td>77A</td>\n",
       "      <td>77A_28</td>\n",
       "      <td>2</td>\n",
       "      <td>41648</td>\n",
       "      <td>37200</td>\n",
       "      <td>42019.0</td>\n",
       "      <td>37538.0</td>\n",
       "      <td>4481.0</td>\n",
       "      <td>2</td>\n",
       "      <td>2</td>\n",
       "      <td>11</td>\n",
       "    </tr>\n",
       "  </tbody>\n",
       "</table>\n",
       "</div>"
      ],
      "text/plain": [
       "  DAYOFSERVICE   TRIPID LINEID  ROUTEID  DIRECTION  PLANNEDTIME_ARR  \\\n",
       "0   2018-02-07  6253783     68    68_80          1            87245   \n",
       "1   2018-02-07  6254942    45A   45A_70          2            35512   \n",
       "2   2018-02-07  6259460    25A  25A_273          1            57261   \n",
       "3   2018-02-07  6253175     14    14_15          1            85383   \n",
       "4   2018-02-07  6248240    77A   77A_28          2            41648   \n",
       "\n",
       "   PLANNEDTIME_DEP  ACTUALTIME_ARR  ACTUALTIME_DEP  TRAVELTIME  MONTHOFYEAR  \\\n",
       "0            84600         87524.0         84600.0      2924.0            2   \n",
       "1            32100         36329.0         32082.0      4247.0            2   \n",
       "2            54420         58463.0         54443.0      4020.0            2   \n",
       "3            81600         84682.0         81608.0      3074.0            2   \n",
       "4            37200         42019.0         37538.0      4481.0            2   \n",
       "\n",
       "   DAYOFWEEK  HOUROFDAY  \n",
       "0          2         24  \n",
       "1          2         10  \n",
       "2          2         16  \n",
       "3          2         23  \n",
       "4          2         11  "
      ]
     },
     "execution_count": 211,
     "metadata": {},
     "output_type": "execute_result"
    }
   ],
   "source": [
    "dftrips.head()"
   ]
  },
  {
   "cell_type": "code",
   "execution_count": 217,
   "metadata": {},
   "outputs": [
    {
     "data": {
      "text/plain": [
       "array(['41D'], dtype=object)"
      ]
     },
     "execution_count": 217,
     "metadata": {},
     "output_type": "execute_result"
    }
   ],
   "source": [
    "dftrips['LINEID'].unique()[129:]"
   ]
  },
  {
   "cell_type": "code",
   "execution_count": 218,
   "metadata": {},
   "outputs": [],
   "source": [
    "lineidsleft = dftrips['LINEID'].unique()[129:]"
   ]
  },
  {
   "cell_type": "code",
   "execution_count": 214,
   "metadata": {},
   "outputs": [],
   "source": [
    "import time"
   ]
  },
  {
   "cell_type": "code",
   "execution_count": 219,
   "metadata": {},
   "outputs": [
    {
     "name": "stdout",
     "output_type": "stream",
     "text": [
      "Now working on line: 41D number 130 in the sequence. Time since start 0.0010912418365478516\n",
      "FINISHED\n"
     ]
    }
   ],
   "source": [
    "count = 130\n",
    "\n",
    "#meanlist = []\n",
    "\n",
    "start_time = time.time()\n",
    "\n",
    "# looping over each lineid\n",
    "for lineid in lineidsleft:\n",
    "    \n",
    "    now = time.time()\n",
    "    timer = now - start_time\n",
    "    print(\"Now working on line:\", lineid, \"number\", count, \"in the sequence. Time since start\", timer)\n",
    "    count += 1\n",
    "    \n",
    "    # collecting all trip ids associated with the line id in the loop\n",
    "    trip_id_list = dftrips['TRIPID'][dftrips['LINEID'] == lineid].tolist()\n",
    "    \n",
    "    # list of dataframes to concatenate\n",
    "    df_list = []\n",
    "    \n",
    "    # iterating over each chunk in the leave times cleaned csv\n",
    "    chunksize = 10 ** 6\n",
    "    for chunk in pd.read_csv(\"rt_leavetimes-cleaned.csv\", chunksize=chunksize):\n",
    "        #parse_dates=[0], infer_datetime_format=True\n",
    "        \n",
    "        # adding the data in the chunk if the trip id is in the list we specified earlier\n",
    "        df_list.append(chunk[chunk['TRIPID'].isin(trip_id_list)])\n",
    "        \n",
    "        sizesum = 0\n",
    "        for dfl in df_list:\n",
    "            sizesum += dfl.shape[0]\n",
    "            \n",
    "        # stop reading if we have over 1100 rows\n",
    "        if sizesum > 1100:\n",
    "            break\n",
    "        \n",
    "    # concatenating all of the data for the lineid\n",
    "    dfline = pd.concat(df_list)\n",
    "    \n",
    "    # randomly choosing 1000 rows where progress number is at least 3\n",
    "    #dfline = dfline.loc[dfline['PROGRNUMBER'] > 2].sample(n=1000, random_state=1)\n",
    "    \n",
    "    # adding STOPTIME column to the line dataframe\n",
    "    dfline['STOPTIME'] = dfline['ACTUALTIME_DEP'] - dfline['ACTUALTIME_ARR']\n",
    "    \n",
    "    # converting line DAYOFSERVICE to datetime\n",
    "    dfline['DAYOFSERVICE'] = dfline['DAYOFSERVICE'].astype('datetime64')\n",
    "    \n",
    "    # adding TRIPSTART to line dataframe which is the departure time for the entire trip\n",
    "    dflinenew = dfline.merge(dftrips, on = ['DAYOFSERVICE', 'TRIPID'])\n",
    "    \n",
    "    # keeping only the columns we want for dfline\n",
    "    dfline = dflinenew[['DAYOFSERVICE', 'TRIPID', 'PROGRNUMBER', 'STOPPOINTID', 'PLANNEDTIME_ARR_x', 'PLANNEDTIME_DEP_x', 'ACTUALTIME_ARR_x', 'ACTUALTIME_DEP_x', 'VEHICLEID', 'DIRECTION', 'STOPTIME', 'ACTUALTIME_DEP_y']]\n",
    "    \n",
    "    # renaming the new columns\n",
    "    dfline = dfline.rename(columns={'PLANNEDTIME_ARR_x':'PLANNEDTIME_ARR', 'PLANNEDTIME_DEP_x':'PLANNEDTIME_DEP', 'ACTUALTIME_ARR_x':'ACTUALTIME_ARR', 'ACTUALTIME_DEP_x':'ACTUALTIME_DEP', 'ACTUALTIME_DEP_y':'TRIPSTART'})\n",
    "    \n",
    "    # adding a column for time since start of the trip, or TRAVELTIME, calculated as ACTUALTIME_ARR - TRIPSTART\n",
    "    dfline['TRAVELTIME'] = dfline['ACTUALTIME_ARR'] - dfline['TRIPSTART']\n",
    "    \n",
    "    # adding month of year column for line dataframe\n",
    "    dfline['MONTHOFYEAR'] = dfline['DAYOFSERVICE'].dt.month\n",
    "    \n",
    "    # adding day column for line dataframe\n",
    "    dfline['DAYOFWEEK'] = dfline['DAYOFSERVICE'].dt.dayofweek\n",
    "    \n",
    "    # adding hour column for line dataframe\n",
    "    dfline['HOUROFDAY'] = (dfline['ACTUALTIME_DEP'] // 3600).astype(int)\n",
    "    \n",
    "    # converting line DAYOFSERVICE to datetime\n",
    "    dfline['DAYOFSERVICE'] = dfline['DAYOFSERVICE'].astype('datetime64')\n",
    "    \n",
    "    # merging line data with weather data (merge on date and hour, keep temp, wind_speed and w_main dummies)\n",
    "    dfline = dfline.merge(dfw[['temp', 'wind_speed', 'w_main_Clouds', 'w_main_Drizzle', 'w_main_Fog', 'w_main_Mist', 'w_main_Rain', 'w_main_Smoke', 'w_main_Snow', 'DAYOFSERVICE', 'HOUROFDAY']], on=['DAYOFSERVICE', 'HOUROFDAY'])\n",
    "    \n",
    "    # list trip and dayofservice for all trips with outlier data (4 times above mean travel time or below 0 travel time)\n",
    "    dflinebadtimes = dfline[['TRIPID', 'DAYOFSERVICE', 'TRAVELTIME']].loc[(dfline['TRAVELTIME'] > dfline['TRAVELTIME'].mean()*4) | (dfline['TRAVELTIME'] < 0)]\n",
    "    \n",
    "    # list of indices of bad trips\n",
    "    badTripsIndexList = dfline.loc[(dfline['DAYOFSERVICE'].isin(dflinebadtimes['DAYOFSERVICE'].unique())) & (dfline['TRIPID'].isin(dflinebadtimes['TRIPID'].unique()))].index.tolist()\n",
    "    \n",
    "    # dropping bad trips from line dataframe\n",
    "    dfline = dfline.drop(badTripsIndexList)\n",
    "    \n",
    "    # looking at long stops (10 mins plus)\n",
    "    dflinelongstops = dfline.loc[dfline['STOPTIME'] > 600]\n",
    "    \n",
    "    # index list for long stops trips\n",
    "    longStopsIndexList = dfline.loc[(dfline['DAYOFSERVICE'].isin(dflinelongstops['DAYOFSERVICE'].unique())) & (dfline['TRIPID'].isin(dflinelongstops['TRIPID'].unique()))].index.tolist()\n",
    "    \n",
    "    # dropping trips which had stops which lasted for over 10 minutes\n",
    "    dfline = dfline.drop(longStopsIndexList)\n",
    "    \n",
    "    # line trips which took over 10 mins to reach second stop\n",
    "    dflinelongstart = dfline.loc[(dfline['TRAVELTIME'] > 600) & (dfline['PROGRNUMBER'] == 2)]\n",
    "    \n",
    "    # index list for rows with over 600 travel time by stop 2\n",
    "    longStartIndexList = dfline.loc[(dfline['DAYOFSERVICE'].isin(dflinelongstart['DAYOFSERVICE'].unique())) & (dfline['TRIPID'].isin(dflinelongstart['TRIPID'].unique()))].index.tolist()\n",
    "    \n",
    "    # dropping trips which had over 600 travel time by stop 2\n",
    "    dfline = dfline.drop(longStartIndexList)\n",
    "    \n",
    "    #meanlist += [dfline['TRAVELTIME'].mean()]\n",
    "    \n",
    "    # adding HOUROFDAY squared, cubed and to the power of 4 as columns\n",
    "    #dfline['HOUROFDAY**2'] = dfline['HOUROFDAY']**2\n",
    "    #dfline['HOUROFDAY**3'] = dfline['HOUROFDAY']**3\n",
    "    #dfline['HOUROFDAY**4'] = dfline['HOUROFDAY']**4\n",
    "    \n",
    "    # 70/30 train/test split for line data\n",
    "    trainline = dfline.sample(frac=0.7, random_state=1)\n",
    "    testline = dfline.drop(trainline.index)\n",
    "    \n",
    "    # descriptive features\n",
    "    linefeatures = ['PROGRNUMBER', 'DIRECTION', 'DAYOFWEEK', 'MONTHOFYEAR', 'temp', 'w_main_Clouds', 'w_main_Drizzle', 'w_main_Fog', 'w_main_Mist', 'w_main_Rain', 'w_main_Smoke', 'w_main_Snow', 'HOUROFDAY']\n",
    "\n",
    "    #X = trainline[linefeatures]\n",
    "    #y = trainline['TRAVELTIME']\n",
    "    \n",
    "    # fitting the model\n",
    "    #linregline = LinearRegression().fit(X, y)\n",
    "    \n",
    "    # save the model to pickle file\n",
    "    #filename = \"LinRegPickleFiles/linreg_{}.sav\".format(lineid)\n",
    "    #pickle.dump(linregline, open(filename, 'wb'))\n",
    "    \n",
    "    # opening knn joblib file\n",
    "    fn = \"KNNJoblibFiles/knn_{}.joblib\".format(lineid)\n",
    "    with open(fn, 'rb') as knnfile:\n",
    "        knnmodel = joblib.load(knnfile)\n",
    "        \n",
    "    # predicting for test dataframe using knn model\n",
    "    knntestpred = knnmodel.predict(testline[['PROGRNUMBER', 'DIRECTION', 'DAYOFWEEK', 'MONTHOFYEAR', 'temp', 'w_main_Clouds', 'w_main_Drizzle', 'w_main_Fog', 'w_main_Mist', 'w_main_Rain', 'w_main_Smoke', 'w_main_Snow', 'HOUROFDAY']])\n",
    "    \n",
    "    act_pred_knn = pd.concat([testline['TRAVELTIME'], pd.DataFrame(knntestpred, columns=['Predicted'], index=testline['TRAVELTIME'].index)], axis=1)\n",
    "    \n",
    "    act_pred_knn['DIFF_DIV_ACT'] = (act_pred_knn['Predicted'] - act_pred_knn['TRAVELTIME']) / (act_pred_knn['TRAVELTIME'] + 1.0)\n",
    "    \n",
    "    # saving the correct distribution to csv file\n",
    "    act_pred_knn['DIFF_DIV_ACT'].to_csv(\"knn_dist_csvs/knn_dist_{}\".format(lineid), header=False, index=False)\n",
    "    \n",
    "    # testing the model\n",
    "    # predicting the travel time for entire test dataframe\n",
    "    #linregline_test_predictions = linregline.predict(testline[linefeatures])\n",
    "    \n",
    "    # difference between test travel times and test predictions\n",
    "    #lineprediction_diffs = testline['TRAVELTIME'] - linregline_test_predictions\n",
    "    \n",
    "    # calculating root mean square error\n",
    "    #line_linmodel_rmse = ((lineprediction_diffs**2).mean())**0.5\n",
    "    \n",
    "    # printing r2 score\n",
    "    #line_r2 = r2_score(testline['TRAVELTIME'], linregline_test_predictions)\n",
    "    \n",
    "    # writing these scores to a file\n",
    "    #f = open(\"linreg_results.txt\", \"a\")\n",
    "    #f.write(\"\\nLine: \" + str(lineid) + \". RMSE: \" + str(line_linmodel_rmse) + \". R2 Score: \" + str(line_r2) + \".\\n\")\n",
    "    #f.close()\n",
    "    \n",
    "    \n",
    "print(\"FINISHED\")"
   ]
  },
  {
   "cell_type": "code",
   "execution_count": null,
   "metadata": {},
   "outputs": [],
   "source": []
  },
  {
   "cell_type": "code",
   "execution_count": 213,
   "metadata": {},
   "outputs": [],
   "source": [
    "import re"
   ]
  },
  {
   "cell_type": "code",
   "execution_count": 214,
   "metadata": {},
   "outputs": [],
   "source": [
    "# adding rmse/mean travel time to the results file\n",
    "\n",
    "\n",
    "# getting average travel time for each route\n",
    "#meanlist = []\n",
    "#for lineid in dftrips['LINEID'].unique():\n",
    "#    meanlist += [dftrips['TRAVELTIME'].loc[dftrips['LINEID'] == lineid].mean() / 2.0]\n",
    "\n",
    "\n",
    "#count = 0\n",
    "#indexcount = 0\n",
    "\n",
    "#rmsedivmeanlist = []\n",
    "\n",
    "# reading from linreg_results.txt\n",
    "#f = open(\"linreg_results.txt\", \"r\")\n",
    "#for line in f:\n",
    "#    count += 1\n",
    "#    if (count == 1) or (count % 2 == 0):\n",
    "#        continue\n",
    "#    rmse = float(re.findall(\"\\d+\\.\\d+\", line)[0])\n",
    "#    rmsedivmeanlist += [rmse / meanlist[indexcount]]\n",
    "#    indexcount += 1\n",
    "    \n",
    "#f.close()"
   ]
  },
  {
   "cell_type": "code",
   "execution_count": 215,
   "metadata": {},
   "outputs": [],
   "source": [
    "#print rmsedivmeanlist"
   ]
  },
  {
   "cell_type": "code",
   "execution_count": 216,
   "metadata": {},
   "outputs": [],
   "source": [
    "#print min(rmsedivmeanlist)"
   ]
  },
  {
   "cell_type": "code",
   "execution_count": 217,
   "metadata": {},
   "outputs": [],
   "source": [
    "#print max(rmsedivmeanlist)"
   ]
  },
  {
   "cell_type": "code",
   "execution_count": 218,
   "metadata": {},
   "outputs": [],
   "source": [
    "#sum = 0\n",
    "#for i in rmsedivmeanlist:\n",
    "#    sum += i\n",
    "#print sum/len(rmsedivmeanlist)"
   ]
  },
  {
   "cell_type": "code",
   "execution_count": 219,
   "metadata": {},
   "outputs": [],
   "source": [
    "#file = open(\"linreg_percent_results.txt\", \"a\")\n",
    "#file.write(\"RMSE scores divided by average travel time for each route.\\nMean score: \" + str(sum/len(rmsedivmeanlist)) + \"\\nMin score: \" + str(min(rmsedivmeanlist)) + \"\\nMax score: \" + str(max(rmsedivmeanlist)) + \"\\n\\n\")\n",
    "#file.close()\n",
    "\n",
    "# writing these scores to a file\n",
    "#for i in range(130):\n",
    "#    file = open(\"linreg_percent_results.txt\", \"a\")\n",
    "#    file.write(\"\\nLine: \" + str(dftrips['LINEID'].unique()[i]) + \". RMSE / Mean TT: \" + str(rmsedivmeanlist[i]) + \".\" + \".\\n\")\n",
    "#    file.close()"
   ]
  },
  {
   "cell_type": "markdown",
   "metadata": {},
   "source": [
    "# 6 - K-Nearest Neighbours Regression"
   ]
  },
  {
   "cell_type": "markdown",
   "metadata": {},
   "source": [
    "## 6.1 - Training KNN on the Route 1 Dataset"
   ]
  },
  {
   "cell_type": "code",
   "execution_count": 220,
   "metadata": {},
   "outputs": [
    {
     "data": {
      "text/html": [
       "<div>\n",
       "<style scoped>\n",
       "    .dataframe tbody tr th:only-of-type {\n",
       "        vertical-align: middle;\n",
       "    }\n",
       "\n",
       "    .dataframe tbody tr th {\n",
       "        vertical-align: top;\n",
       "    }\n",
       "\n",
       "    .dataframe thead th {\n",
       "        text-align: right;\n",
       "    }\n",
       "</style>\n",
       "<table border=\"1\" class=\"dataframe\">\n",
       "  <thead>\n",
       "    <tr style=\"text-align: right;\">\n",
       "      <th></th>\n",
       "      <th>DAYOFSERVICE</th>\n",
       "      <th>TRIPID</th>\n",
       "      <th>PROGRNUMBER</th>\n",
       "      <th>STOPPOINTID</th>\n",
       "      <th>PLANNEDTIME_ARR</th>\n",
       "      <th>PLANNEDTIME_DEP</th>\n",
       "      <th>ACTUALTIME_ARR</th>\n",
       "      <th>ACTUALTIME_DEP</th>\n",
       "      <th>VEHICLEID</th>\n",
       "      <th>DIRECTION</th>\n",
       "      <th>...</th>\n",
       "      <th>w_main_Clouds</th>\n",
       "      <th>w_main_Drizzle</th>\n",
       "      <th>w_main_Fog</th>\n",
       "      <th>w_main_Mist</th>\n",
       "      <th>w_main_Rain</th>\n",
       "      <th>w_main_Smoke</th>\n",
       "      <th>w_main_Snow</th>\n",
       "      <th>HOUROFDAY**2</th>\n",
       "      <th>HOUROFDAY**3</th>\n",
       "      <th>HOUROFDAY**4</th>\n",
       "    </tr>\n",
       "  </thead>\n",
       "  <tbody>\n",
       "    <tr>\n",
       "      <th>0</th>\n",
       "      <td>2018-01-01</td>\n",
       "      <td>5972116</td>\n",
       "      <td>12</td>\n",
       "      <td>119</td>\n",
       "      <td>48030</td>\n",
       "      <td>48030</td>\n",
       "      <td>48012</td>\n",
       "      <td>48012</td>\n",
       "      <td>2693211</td>\n",
       "      <td>1</td>\n",
       "      <td>...</td>\n",
       "      <td>0</td>\n",
       "      <td>0</td>\n",
       "      <td>0</td>\n",
       "      <td>0</td>\n",
       "      <td>1</td>\n",
       "      <td>0</td>\n",
       "      <td>0</td>\n",
       "      <td>169</td>\n",
       "      <td>2197</td>\n",
       "      <td>28561</td>\n",
       "    </tr>\n",
       "    <tr>\n",
       "      <th>1</th>\n",
       "      <td>2018-01-01</td>\n",
       "      <td>5972116</td>\n",
       "      <td>13</td>\n",
       "      <td>44</td>\n",
       "      <td>48079</td>\n",
       "      <td>48079</td>\n",
       "      <td>48058</td>\n",
       "      <td>48058</td>\n",
       "      <td>2693211</td>\n",
       "      <td>1</td>\n",
       "      <td>...</td>\n",
       "      <td>0</td>\n",
       "      <td>0</td>\n",
       "      <td>0</td>\n",
       "      <td>0</td>\n",
       "      <td>1</td>\n",
       "      <td>0</td>\n",
       "      <td>0</td>\n",
       "      <td>169</td>\n",
       "      <td>2197</td>\n",
       "      <td>28561</td>\n",
       "    </tr>\n",
       "    <tr>\n",
       "      <th>2</th>\n",
       "      <td>2018-01-01</td>\n",
       "      <td>5972116</td>\n",
       "      <td>14</td>\n",
       "      <td>7603</td>\n",
       "      <td>48114</td>\n",
       "      <td>48114</td>\n",
       "      <td>48071</td>\n",
       "      <td>48071</td>\n",
       "      <td>2693211</td>\n",
       "      <td>1</td>\n",
       "      <td>...</td>\n",
       "      <td>0</td>\n",
       "      <td>0</td>\n",
       "      <td>0</td>\n",
       "      <td>0</td>\n",
       "      <td>1</td>\n",
       "      <td>0</td>\n",
       "      <td>0</td>\n",
       "      <td>169</td>\n",
       "      <td>2197</td>\n",
       "      <td>28561</td>\n",
       "    </tr>\n",
       "    <tr>\n",
       "      <th>3</th>\n",
       "      <td>2018-01-01</td>\n",
       "      <td>5972116</td>\n",
       "      <td>15</td>\n",
       "      <td>45</td>\n",
       "      <td>48155</td>\n",
       "      <td>48155</td>\n",
       "      <td>48089</td>\n",
       "      <td>48100</td>\n",
       "      <td>2693211</td>\n",
       "      <td>1</td>\n",
       "      <td>...</td>\n",
       "      <td>0</td>\n",
       "      <td>0</td>\n",
       "      <td>0</td>\n",
       "      <td>0</td>\n",
       "      <td>1</td>\n",
       "      <td>0</td>\n",
       "      <td>0</td>\n",
       "      <td>169</td>\n",
       "      <td>2197</td>\n",
       "      <td>28561</td>\n",
       "    </tr>\n",
       "    <tr>\n",
       "      <th>4</th>\n",
       "      <td>2018-01-01</td>\n",
       "      <td>5972116</td>\n",
       "      <td>16</td>\n",
       "      <td>46</td>\n",
       "      <td>48221</td>\n",
       "      <td>48221</td>\n",
       "      <td>48137</td>\n",
       "      <td>48137</td>\n",
       "      <td>2693211</td>\n",
       "      <td>1</td>\n",
       "      <td>...</td>\n",
       "      <td>0</td>\n",
       "      <td>0</td>\n",
       "      <td>0</td>\n",
       "      <td>0</td>\n",
       "      <td>1</td>\n",
       "      <td>0</td>\n",
       "      <td>0</td>\n",
       "      <td>169</td>\n",
       "      <td>2197</td>\n",
       "      <td>28561</td>\n",
       "    </tr>\n",
       "  </tbody>\n",
       "</table>\n",
       "<p>5 rows × 28 columns</p>\n",
       "</div>"
      ],
      "text/plain": [
       "  DAYOFSERVICE   TRIPID  PROGRNUMBER  STOPPOINTID  PLANNEDTIME_ARR  \\\n",
       "0   2018-01-01  5972116           12          119            48030   \n",
       "1   2018-01-01  5972116           13           44            48079   \n",
       "2   2018-01-01  5972116           14         7603            48114   \n",
       "3   2018-01-01  5972116           15           45            48155   \n",
       "4   2018-01-01  5972116           16           46            48221   \n",
       "\n",
       "   PLANNEDTIME_DEP  ACTUALTIME_ARR  ACTUALTIME_DEP  VEHICLEID  DIRECTION  ...  \\\n",
       "0            48030           48012           48012    2693211          1  ...   \n",
       "1            48079           48058           48058    2693211          1  ...   \n",
       "2            48114           48071           48071    2693211          1  ...   \n",
       "3            48155           48089           48100    2693211          1  ...   \n",
       "4            48221           48137           48137    2693211          1  ...   \n",
       "\n",
       "   w_main_Clouds  w_main_Drizzle  w_main_Fog  w_main_Mist  w_main_Rain  \\\n",
       "0              0               0           0            0            1   \n",
       "1              0               0           0            0            1   \n",
       "2              0               0           0            0            1   \n",
       "3              0               0           0            0            1   \n",
       "4              0               0           0            0            1   \n",
       "\n",
       "   w_main_Smoke  w_main_Snow  HOUROFDAY**2  HOUROFDAY**3  HOUROFDAY**4  \n",
       "0             0            0           169          2197         28561  \n",
       "1             0            0           169          2197         28561  \n",
       "2             0            0           169          2197         28561  \n",
       "3             0            0           169          2197         28561  \n",
       "4             0            0           169          2197         28561  \n",
       "\n",
       "[5 rows x 28 columns]"
      ]
     },
     "execution_count": 220,
     "metadata": {},
     "output_type": "execute_result"
    }
   ],
   "source": [
    "dfroute1.head()"
   ]
  },
  {
   "cell_type": "code",
   "execution_count": 221,
   "metadata": {},
   "outputs": [
    {
     "data": {
      "text/html": [
       "<div>\n",
       "<style scoped>\n",
       "    .dataframe tbody tr th:only-of-type {\n",
       "        vertical-align: middle;\n",
       "    }\n",
       "\n",
       "    .dataframe tbody tr th {\n",
       "        vertical-align: top;\n",
       "    }\n",
       "\n",
       "    .dataframe thead th {\n",
       "        text-align: right;\n",
       "    }\n",
       "</style>\n",
       "<table border=\"1\" class=\"dataframe\">\n",
       "  <thead>\n",
       "    <tr style=\"text-align: right;\">\n",
       "      <th></th>\n",
       "      <th>DAYOFSERVICE</th>\n",
       "      <th>TRIPID</th>\n",
       "      <th>PROGRNUMBER</th>\n",
       "      <th>STOPPOINTID</th>\n",
       "      <th>PLANNEDTIME_ARR</th>\n",
       "      <th>PLANNEDTIME_DEP</th>\n",
       "      <th>ACTUALTIME_ARR</th>\n",
       "      <th>ACTUALTIME_DEP</th>\n",
       "      <th>VEHICLEID</th>\n",
       "      <th>DIRECTION</th>\n",
       "      <th>...</th>\n",
       "      <th>w_main_Clouds</th>\n",
       "      <th>w_main_Drizzle</th>\n",
       "      <th>w_main_Fog</th>\n",
       "      <th>w_main_Mist</th>\n",
       "      <th>w_main_Rain</th>\n",
       "      <th>w_main_Smoke</th>\n",
       "      <th>w_main_Snow</th>\n",
       "      <th>HOUROFDAY**2</th>\n",
       "      <th>HOUROFDAY**3</th>\n",
       "      <th>HOUROFDAY**4</th>\n",
       "    </tr>\n",
       "  </thead>\n",
       "  <tbody>\n",
       "    <tr>\n",
       "      <th>1242572</th>\n",
       "      <td>2018-12-18</td>\n",
       "      <td>8459317</td>\n",
       "      <td>7</td>\n",
       "      <td>387</td>\n",
       "      <td>43489</td>\n",
       "      <td>43489</td>\n",
       "      <td>43587</td>\n",
       "      <td>43618</td>\n",
       "      <td>2868403</td>\n",
       "      <td>2</td>\n",
       "      <td>...</td>\n",
       "      <td>1</td>\n",
       "      <td>0</td>\n",
       "      <td>0</td>\n",
       "      <td>0</td>\n",
       "      <td>0</td>\n",
       "      <td>0</td>\n",
       "      <td>0</td>\n",
       "      <td>144</td>\n",
       "      <td>1728</td>\n",
       "      <td>20736</td>\n",
       "    </tr>\n",
       "    <tr>\n",
       "      <th>390663</th>\n",
       "      <td>2018-04-25</td>\n",
       "      <td>6633738</td>\n",
       "      <td>34</td>\n",
       "      <td>372</td>\n",
       "      <td>44525</td>\n",
       "      <td>44525</td>\n",
       "      <td>44625</td>\n",
       "      <td>44625</td>\n",
       "      <td>1000190</td>\n",
       "      <td>1</td>\n",
       "      <td>...</td>\n",
       "      <td>0</td>\n",
       "      <td>0</td>\n",
       "      <td>0</td>\n",
       "      <td>0</td>\n",
       "      <td>1</td>\n",
       "      <td>0</td>\n",
       "      <td>0</td>\n",
       "      <td>144</td>\n",
       "      <td>1728</td>\n",
       "      <td>20736</td>\n",
       "    </tr>\n",
       "    <tr>\n",
       "      <th>1013310</th>\n",
       "      <td>2018-10-13</td>\n",
       "      <td>8026160</td>\n",
       "      <td>11</td>\n",
       "      <td>4432</td>\n",
       "      <td>46180</td>\n",
       "      <td>46180</td>\n",
       "      <td>46561</td>\n",
       "      <td>46561</td>\n",
       "      <td>2534842</td>\n",
       "      <td>1</td>\n",
       "      <td>...</td>\n",
       "      <td>0</td>\n",
       "      <td>0</td>\n",
       "      <td>0</td>\n",
       "      <td>0</td>\n",
       "      <td>1</td>\n",
       "      <td>0</td>\n",
       "      <td>0</td>\n",
       "      <td>144</td>\n",
       "      <td>1728</td>\n",
       "      <td>20736</td>\n",
       "    </tr>\n",
       "    <tr>\n",
       "      <th>376603</th>\n",
       "      <td>2018-04-19</td>\n",
       "      <td>6632267</td>\n",
       "      <td>31</td>\n",
       "      <td>7602</td>\n",
       "      <td>31767</td>\n",
       "      <td>31767</td>\n",
       "      <td>32128</td>\n",
       "      <td>32141</td>\n",
       "      <td>2693266</td>\n",
       "      <td>2</td>\n",
       "      <td>...</td>\n",
       "      <td>1</td>\n",
       "      <td>0</td>\n",
       "      <td>0</td>\n",
       "      <td>0</td>\n",
       "      <td>0</td>\n",
       "      <td>0</td>\n",
       "      <td>0</td>\n",
       "      <td>64</td>\n",
       "      <td>512</td>\n",
       "      <td>4096</td>\n",
       "    </tr>\n",
       "    <tr>\n",
       "      <th>33200</th>\n",
       "      <td>2018-01-10</td>\n",
       "      <td>6100238</td>\n",
       "      <td>27</td>\n",
       "      <td>17</td>\n",
       "      <td>65193</td>\n",
       "      <td>65193</td>\n",
       "      <td>65048</td>\n",
       "      <td>65089</td>\n",
       "      <td>2693212</td>\n",
       "      <td>2</td>\n",
       "      <td>...</td>\n",
       "      <td>0</td>\n",
       "      <td>0</td>\n",
       "      <td>1</td>\n",
       "      <td>0</td>\n",
       "      <td>0</td>\n",
       "      <td>0</td>\n",
       "      <td>0</td>\n",
       "      <td>324</td>\n",
       "      <td>5832</td>\n",
       "      <td>104976</td>\n",
       "    </tr>\n",
       "  </tbody>\n",
       "</table>\n",
       "<p>5 rows × 28 columns</p>\n",
       "</div>"
      ],
      "text/plain": [
       "        DAYOFSERVICE   TRIPID  PROGRNUMBER  STOPPOINTID  PLANNEDTIME_ARR  \\\n",
       "1242572   2018-12-18  8459317            7          387            43489   \n",
       "390663    2018-04-25  6633738           34          372            44525   \n",
       "1013310   2018-10-13  8026160           11         4432            46180   \n",
       "376603    2018-04-19  6632267           31         7602            31767   \n",
       "33200     2018-01-10  6100238           27           17            65193   \n",
       "\n",
       "         PLANNEDTIME_DEP  ACTUALTIME_ARR  ACTUALTIME_DEP  VEHICLEID  \\\n",
       "1242572            43489           43587           43618    2868403   \n",
       "390663             44525           44625           44625    1000190   \n",
       "1013310            46180           46561           46561    2534842   \n",
       "376603             31767           32128           32141    2693266   \n",
       "33200              65193           65048           65089    2693212   \n",
       "\n",
       "         DIRECTION  ...  w_main_Clouds  w_main_Drizzle  w_main_Fog  \\\n",
       "1242572          2  ...              1               0           0   \n",
       "390663           1  ...              0               0           0   \n",
       "1013310          1  ...              0               0           0   \n",
       "376603           2  ...              1               0           0   \n",
       "33200            2  ...              0               0           1   \n",
       "\n",
       "         w_main_Mist  w_main_Rain  w_main_Smoke  w_main_Snow  HOUROFDAY**2  \\\n",
       "1242572            0            0             0            0           144   \n",
       "390663             0            1             0            0           144   \n",
       "1013310            0            1             0            0           144   \n",
       "376603             0            0             0            0            64   \n",
       "33200              0            0             0            0           324   \n",
       "\n",
       "         HOUROFDAY**3  HOUROFDAY**4  \n",
       "1242572          1728         20736  \n",
       "390663           1728         20736  \n",
       "1013310          1728         20736  \n",
       "376603            512          4096  \n",
       "33200            5832        104976  \n",
       "\n",
       "[5 rows x 28 columns]"
      ]
     },
     "execution_count": 221,
     "metadata": {},
     "output_type": "execute_result"
    }
   ],
   "source": [
    "trainroute1.head()"
   ]
  },
  {
   "cell_type": "code",
   "execution_count": 222,
   "metadata": {},
   "outputs": [
    {
     "data": {
      "text/plain": [
       "(877026, 28)"
      ]
     },
     "execution_count": 222,
     "metadata": {},
     "output_type": "execute_result"
    }
   ],
   "source": [
    "trainroute1.shape"
   ]
  },
  {
   "cell_type": "code",
   "execution_count": 223,
   "metadata": {},
   "outputs": [],
   "source": [
    "# setting up model parameters\n",
    "knnfeatures = ['PROGRNUMBER', 'DIRECTION', 'DAYOFWEEK', 'MONTHOFYEAR', 'temp', 'w_main_Clouds', 'w_main_Drizzle', 'w_main_Fog', 'w_main_Mist', 'w_main_Rain', 'w_main_Smoke', 'w_main_Snow', 'HOUROFDAY']\n",
    "\n",
    "X = trainroute1[knnfeatures]\n",
    "y = trainroute1['TRAVELTIME']"
   ]
  },
  {
   "cell_type": "code",
   "execution_count": 224,
   "metadata": {},
   "outputs": [],
   "source": [
    "# fitting the model\n",
    "knn = KNeighborsRegressor().fit(X, y)"
   ]
  },
  {
   "cell_type": "code",
   "execution_count": 225,
   "metadata": {},
   "outputs": [],
   "source": [
    "# predicting for the test dataframe\n",
    "knntestpred = knn.predict(testroute1[knnfeatures])"
   ]
  },
  {
   "cell_type": "code",
   "execution_count": 226,
   "metadata": {},
   "outputs": [
    {
     "data": {
      "text/plain": [
       "array([ 541.6,  778.6, 2086.6, ..., 1064.2, 1296.6, 1146.2])"
      ]
     },
     "execution_count": 226,
     "metadata": {},
     "output_type": "execute_result"
    }
   ],
   "source": [
    "knntestpred"
   ]
  },
  {
   "cell_type": "code",
   "execution_count": 227,
   "metadata": {},
   "outputs": [],
   "source": [
    "# difference between test travel times and test predictions\n",
    "knnprediction_diffs = testroute1['TRAVELTIME'] - knntestpred"
   ]
  },
  {
   "cell_type": "code",
   "execution_count": 228,
   "metadata": {},
   "outputs": [
    {
     "name": "stdout",
     "output_type": "stream",
     "text": [
      "RMSE: 233.62109969575042\n"
     ]
    }
   ],
   "source": [
    "# calculating root mean square error\n",
    "knn_rmse = ((knnprediction_diffs**2).mean())**0.5\n",
    "print(\"RMSE:\", knn_rmse)"
   ]
  },
  {
   "cell_type": "code",
   "execution_count": 229,
   "metadata": {},
   "outputs": [
    {
     "name": "stdout",
     "output_type": "stream",
     "text": [
      "R2 score: 0.9552122160455281\n"
     ]
    }
   ],
   "source": [
    "# printing r2 score\n",
    "print(\"R2 score:\", r2_score(testroute1['TRAVELTIME'], knntestpred))"
   ]
  },
  {
   "cell_type": "code",
   "execution_count": 230,
   "metadata": {},
   "outputs": [],
   "source": [
    "# saving pickle file as compressed\n",
    "#sfile = bz2.BZ2File(\"KNNPickleFiles/test_r1.joblib\", 'wb')\n",
    "#joblib.dump(knn, sfile)\n",
    "#sfile.close()"
   ]
  },
  {
   "cell_type": "code",
   "execution_count": 231,
   "metadata": {},
   "outputs": [],
   "source": [
    "# unpickling compressed pickle file to get prediction\n",
    "#fileName = \"KNNPickleFiles/test_r1.joblib\"\n",
    "#with bz2.BZ2File(fileName, 'rb') as f:\n",
    "#    model = joblib.load(f)"
   ]
  },
  {
   "cell_type": "code",
   "execution_count": 232,
   "metadata": {},
   "outputs": [],
   "source": [
    "#float(model.predict(pd.DataFrame([[30, 1, 4, 12, 9.5, 0, 0, 0, 0, 0, 0, 0, 18]], columns=['PROGRNUMBER', 'DIRECTION', 'DAYOFWEEK', 'MONTHOFYEAR', 'temp', 'w_main_Clouds', 'w_main_Drizzle', 'w_main_Fog', 'w_main_Mist', 'w_main_Rain', 'w_main_Smoke', 'w_main_Snow', 'HOUROFDAY'])))"
   ]
  },
  {
   "cell_type": "markdown",
   "metadata": {},
   "source": [
    "Full dataframe model compressed as bz2 file is 10.8Mb on disk. It takes about 5 seconds to load this file. This is too long for predictions in our app and the file is also too big. We want the file to be around 2Mb and take less than a second to load the model. First I will see how changing the compression on the dump method affects the size of the joblib file and the amount of time it takes to load from disk."
   ]
  },
  {
   "cell_type": "code",
   "execution_count": 233,
   "metadata": {},
   "outputs": [],
   "source": [
    "#joblib.dump(knn, \"KNNPickleFiles/test2_r1.joblib\", compress=3)"
   ]
  },
  {
   "cell_type": "code",
   "execution_count": 234,
   "metadata": {},
   "outputs": [],
   "source": [
    "#now = time.time()\n",
    "#model2 = joblib.load(\"KNNPickleFiles/test2_r1.joblib\")\n",
    "#timer = time.time() - now\n",
    "#print timer"
   ]
  },
  {
   "cell_type": "markdown",
   "metadata": {},
   "source": [
    "Using compress=3, the file is 22.9Mb on disk and it takes 3.45 seconds to load. From these results, we must consider both a smaller (and less accurate) model and less compression so the model loads quicker."
   ]
  },
  {
   "cell_type": "code",
   "execution_count": 235,
   "metadata": {},
   "outputs": [],
   "source": [
    "# fitting second model on 10% of data\n",
    "#knn2 = KNeighborsRegressor().fit(X.head(X.shape[0] // 10), y.head(X.shape[0] // 10))"
   ]
  },
  {
   "cell_type": "code",
   "execution_count": 236,
   "metadata": {},
   "outputs": [],
   "source": [
    "# predicting for the test dataframe\n",
    "#knntestpred2 = knn2.predict(testroute1[knnfeatures])"
   ]
  },
  {
   "cell_type": "code",
   "execution_count": 237,
   "metadata": {},
   "outputs": [],
   "source": [
    "# difference between test travel times and test predictions\n",
    "#knnprediction_diffs2 = testroute1['TRAVELTIME'] - knntestpred2"
   ]
  },
  {
   "cell_type": "code",
   "execution_count": 238,
   "metadata": {},
   "outputs": [],
   "source": [
    "# calculating root mean square error\n",
    "#knn2_rmse = ((knnprediction_diffs2**2).mean())**0.5\n",
    "#print(\"RMSE:\", knn2_rmse)"
   ]
  },
  {
   "cell_type": "code",
   "execution_count": 239,
   "metadata": {},
   "outputs": [],
   "source": [
    "# printing r2 score\n",
    "#print(\"R2 score:\", r2_score(testroute1['TRAVELTIME'], knntestpred2))"
   ]
  },
  {
   "cell_type": "code",
   "execution_count": 240,
   "metadata": {},
   "outputs": [],
   "source": [
    "#joblib.dump(knn2, \"KNNPickleFiles/test3_r1.joblib\", compress=0)"
   ]
  },
  {
   "cell_type": "code",
   "execution_count": 241,
   "metadata": {},
   "outputs": [],
   "source": [
    "#now = time.time()\n",
    "#model2 = joblib.load(\"KNNPickleFiles/test3_r1.joblib\")\n",
    "#timer = time.time() - now\n",
    "#print timer"
   ]
  },
  {
   "cell_type": "markdown",
   "metadata": {},
   "source": [
    "Model 10% of original size, 0 compression: 20.6Mb joblib file, 0.34 second load time and 274 RMSE for the model. The load time and accuracy are acceptable, however, the file size is still too big. I will try compression and see what happens."
   ]
  },
  {
   "cell_type": "code",
   "execution_count": 242,
   "metadata": {},
   "outputs": [],
   "source": [
    "#joblib.dump(knn2, \"KNNPickleFiles/test5_r1.joblib\", compress=1)"
   ]
  },
  {
   "cell_type": "code",
   "execution_count": 243,
   "metadata": {},
   "outputs": [],
   "source": [
    "#now = time.time()\n",
    "#model2 = joblib.load(\"KNNPickleFiles/test5_r1.joblib\")\n",
    "#timer = time.time() - now\n",
    "#print timer"
   ]
  },
  {
   "cell_type": "markdown",
   "metadata": {},
   "source": [
    "Model 10% of original size, 1 compression: 2.7Mb joblib file, 0.42 second load time and 274 RMSE for the model. Everything is acceptable, however, it is worth trying 2 compression to see if we can get a smaller file with similar load time."
   ]
  },
  {
   "cell_type": "code",
   "execution_count": 244,
   "metadata": {},
   "outputs": [],
   "source": [
    "#joblib.dump(knn2, \"KNNPickleFiles/test6_r1.joblib\", compress=2)"
   ]
  },
  {
   "cell_type": "code",
   "execution_count": 245,
   "metadata": {},
   "outputs": [],
   "source": [
    "#now = time.time()\n",
    "#model2 = joblib.load(\"KNNPickleFiles/test6_r1.joblib\")\n",
    "#timer = time.time() - now\n",
    "#print timer"
   ]
  },
  {
   "cell_type": "code",
   "execution_count": 246,
   "metadata": {},
   "outputs": [],
   "source": [
    "#joblib.dump(knn2, \"KNNPickleFiles/test7_r1.joblib\", compress=3)"
   ]
  },
  {
   "cell_type": "code",
   "execution_count": 247,
   "metadata": {},
   "outputs": [],
   "source": [
    "#now = time.time()\n",
    "#model2 = joblib.load(\"KNNPickleFiles/test7_r1.joblib\")\n",
    "#timer = time.time() - now\n",
    "#print timer"
   ]
  },
  {
   "cell_type": "markdown",
   "metadata": {},
   "source": [
    "I will use compress=3 and 10% of the model size for each route."
   ]
  },
  {
   "cell_type": "markdown",
   "metadata": {},
   "source": [
    "## 6.2 Training KNN on the Full Dataset and Saving Results"
   ]
  },
  {
   "cell_type": "code",
   "execution_count": 248,
   "metadata": {},
   "outputs": [
    {
     "data": {
      "text/plain": [
       "array(['42D', '31B', '66X', '31D', '33D', '39X', '41B', '25B', '7D',\n",
       "       '46E', '142', '118', '51D', '15D', '41A', '25D', '38D', '40B',\n",
       "       '66B', '38B', '236', '7B', '41X', '40E', '70D', '69X', '116',\n",
       "       '77X', '25X', '68X', '161', '16D', '33E', '41D'], dtype=object)"
      ]
     },
     "execution_count": 248,
     "metadata": {},
     "output_type": "execute_result"
    }
   ],
   "source": [
    "dftrips['LINEID'].unique()[96:]"
   ]
  },
  {
   "cell_type": "code",
   "execution_count": 249,
   "metadata": {},
   "outputs": [],
   "source": [
    "lineidsleft = dftrips['LINEID'].unique()[96:]"
   ]
  },
  {
   "cell_type": "code",
   "execution_count": 250,
   "metadata": {},
   "outputs": [
    {
     "name": "stdout",
     "output_type": "stream",
     "text": [
      "Now working on line: 42D number 97 in the sequence. Time since start 0.0005185604095458984\n"
     ]
    },
    {
     "name": "stderr",
     "output_type": "stream",
     "text": [
      "/home/team14/miniconda2/envs/dublinBus/lib/python3.8/site-packages/IPython/core/interactiveshell.py:3361: DtypeWarning: Columns (1,2,3,4,5,6,7,8) have mixed types.Specify dtype option on import or set low_memory=False.\n",
      "  if (await self.run_code(code, result,  async_=asy)):\n"
     ]
    },
    {
     "name": "stdout",
     "output_type": "stream",
     "text": [
      "Now working on line: 31B number 98 in the sequence. Time since start 168.04520440101624\n"
     ]
    },
    {
     "name": "stderr",
     "output_type": "stream",
     "text": [
      "/home/team14/miniconda2/envs/dublinBus/lib/python3.8/site-packages/IPython/core/interactiveshell.py:3361: DtypeWarning: Columns (1,2,3,4,5,6,7,8) have mixed types.Specify dtype option on import or set low_memory=False.\n",
      "  if (await self.run_code(code, result,  async_=asy)):\n"
     ]
    },
    {
     "name": "stdout",
     "output_type": "stream",
     "text": [
      "Now working on line: 66X number 99 in the sequence. Time since start 382.1439678668976\n"
     ]
    },
    {
     "name": "stderr",
     "output_type": "stream",
     "text": [
      "/home/team14/miniconda2/envs/dublinBus/lib/python3.8/site-packages/IPython/core/interactiveshell.py:3361: DtypeWarning: Columns (1,2,3,4,5,6,7,8) have mixed types.Specify dtype option on import or set low_memory=False.\n",
      "  if (await self.run_code(code, result,  async_=asy)):\n"
     ]
    },
    {
     "name": "stdout",
     "output_type": "stream",
     "text": [
      "Now working on line: 31D number 100 in the sequence. Time since start 591.194673538208\n"
     ]
    },
    {
     "name": "stderr",
     "output_type": "stream",
     "text": [
      "/home/team14/miniconda2/envs/dublinBus/lib/python3.8/site-packages/IPython/core/interactiveshell.py:3361: DtypeWarning: Columns (1,2,3,4,5,6,7,8) have mixed types.Specify dtype option on import or set low_memory=False.\n",
      "  if (await self.run_code(code, result,  async_=asy)):\n"
     ]
    },
    {
     "name": "stdout",
     "output_type": "stream",
     "text": [
      "Now working on line: 33D number 101 in the sequence. Time since start 727.325088262558\n"
     ]
    },
    {
     "name": "stderr",
     "output_type": "stream",
     "text": [
      "/home/team14/miniconda2/envs/dublinBus/lib/python3.8/site-packages/IPython/core/interactiveshell.py:3361: DtypeWarning: Columns (1,2,3,4,5,6,7,8) have mixed types.Specify dtype option on import or set low_memory=False.\n",
      "  if (await self.run_code(code, result,  async_=asy)):\n"
     ]
    },
    {
     "name": "stdout",
     "output_type": "stream",
     "text": [
      "Now working on line: 39X number 102 in the sequence. Time since start 908.3457911014557\n"
     ]
    },
    {
     "name": "stderr",
     "output_type": "stream",
     "text": [
      "/home/team14/miniconda2/envs/dublinBus/lib/python3.8/site-packages/IPython/core/interactiveshell.py:3361: DtypeWarning: Columns (1,2,3,4,5,6,7,8) have mixed types.Specify dtype option on import or set low_memory=False.\n",
      "  if (await self.run_code(code, result,  async_=asy)):\n"
     ]
    },
    {
     "name": "stdout",
     "output_type": "stream",
     "text": [
      "Now working on line: 41B number 103 in the sequence. Time since start 1060.9167623519897\n"
     ]
    },
    {
     "name": "stderr",
     "output_type": "stream",
     "text": [
      "/home/team14/miniconda2/envs/dublinBus/lib/python3.8/site-packages/IPython/core/interactiveshell.py:3361: DtypeWarning: Columns (1,2,3,4,5,6,7,8) have mixed types.Specify dtype option on import or set low_memory=False.\n",
      "  if (await self.run_code(code, result,  async_=asy)):\n"
     ]
    },
    {
     "name": "stdout",
     "output_type": "stream",
     "text": [
      "Now working on line: 25B number 104 in the sequence. Time since start 1181.0173466205597\n"
     ]
    },
    {
     "name": "stderr",
     "output_type": "stream",
     "text": [
      "/home/team14/miniconda2/envs/dublinBus/lib/python3.8/site-packages/IPython/core/interactiveshell.py:3361: DtypeWarning: Columns (1,2,3,4,5,6,7,8) have mixed types.Specify dtype option on import or set low_memory=False.\n",
      "  if (await self.run_code(code, result,  async_=asy)):\n"
     ]
    },
    {
     "name": "stdout",
     "output_type": "stream",
     "text": [
      "Now working on line: 7D number 105 in the sequence. Time since start 1310.2535450458527\n"
     ]
    },
    {
     "name": "stderr",
     "output_type": "stream",
     "text": [
      "/home/team14/miniconda2/envs/dublinBus/lib/python3.8/site-packages/IPython/core/interactiveshell.py:3361: DtypeWarning: Columns (1,2,3,4,5,6,7,8) have mixed types.Specify dtype option on import or set low_memory=False.\n",
      "  if (await self.run_code(code, result,  async_=asy)):\n"
     ]
    },
    {
     "name": "stdout",
     "output_type": "stream",
     "text": [
      "Now working on line: 46E number 106 in the sequence. Time since start 1443.5228233337402\n"
     ]
    },
    {
     "name": "stderr",
     "output_type": "stream",
     "text": [
      "/home/team14/miniconda2/envs/dublinBus/lib/python3.8/site-packages/IPython/core/interactiveshell.py:3361: DtypeWarning: Columns (1,2,3,4,5,6,7,8) have mixed types.Specify dtype option on import or set low_memory=False.\n",
      "  if (await self.run_code(code, result,  async_=asy)):\n"
     ]
    },
    {
     "name": "stdout",
     "output_type": "stream",
     "text": [
      "Now working on line: 142 number 107 in the sequence. Time since start 1659.0534076690674\n"
     ]
    },
    {
     "name": "stderr",
     "output_type": "stream",
     "text": [
      "/home/team14/miniconda2/envs/dublinBus/lib/python3.8/site-packages/IPython/core/interactiveshell.py:3361: DtypeWarning: Columns (1,2,3,4,5,6,7,8) have mixed types.Specify dtype option on import or set low_memory=False.\n",
      "  if (await self.run_code(code, result,  async_=asy)):\n"
     ]
    },
    {
     "name": "stdout",
     "output_type": "stream",
     "text": [
      "Now working on line: 118 number 108 in the sequence. Time since start 1880.1784999370575\n"
     ]
    },
    {
     "name": "stderr",
     "output_type": "stream",
     "text": [
      "/home/team14/miniconda2/envs/dublinBus/lib/python3.8/site-packages/IPython/core/interactiveshell.py:3361: DtypeWarning: Columns (1,2,3,4,5,6,7,8) have mixed types.Specify dtype option on import or set low_memory=False.\n",
      "  if (await self.run_code(code, result,  async_=asy)):\n"
     ]
    },
    {
     "name": "stdout",
     "output_type": "stream",
     "text": [
      "Now working on line: 51D number 109 in the sequence. Time since start 2081.649091720581\n"
     ]
    },
    {
     "name": "stderr",
     "output_type": "stream",
     "text": [
      "/home/team14/miniconda2/envs/dublinBus/lib/python3.8/site-packages/IPython/core/interactiveshell.py:3361: DtypeWarning: Columns (1,2,3,4,5,6,7,8) have mixed types.Specify dtype option on import or set low_memory=False.\n",
      "  if (await self.run_code(code, result,  async_=asy)):\n"
     ]
    },
    {
     "name": "stdout",
     "output_type": "stream",
     "text": [
      "Now working on line: 15D number 110 in the sequence. Time since start 2239.5182893276215\n"
     ]
    },
    {
     "name": "stderr",
     "output_type": "stream",
     "text": [
      "/home/team14/miniconda2/envs/dublinBus/lib/python3.8/site-packages/IPython/core/interactiveshell.py:3361: DtypeWarning: Columns (1,2,3,4,5,6,7,8) have mixed types.Specify dtype option on import or set low_memory=False.\n",
      "  if (await self.run_code(code, result,  async_=asy)):\n"
     ]
    },
    {
     "name": "stdout",
     "output_type": "stream",
     "text": [
      "Now working on line: 41A number 111 in the sequence. Time since start 2446.9823031425476\n"
     ]
    },
    {
     "name": "stderr",
     "output_type": "stream",
     "text": [
      "/home/team14/miniconda2/envs/dublinBus/lib/python3.8/site-packages/IPython/core/interactiveshell.py:3361: DtypeWarning: Columns (1,2,3,4,5,6,7,8) have mixed types.Specify dtype option on import or set low_memory=False.\n",
      "  if (await self.run_code(code, result,  async_=asy)):\n"
     ]
    },
    {
     "name": "stdout",
     "output_type": "stream",
     "text": [
      "Now working on line: 25D number 112 in the sequence. Time since start 2640.6015436649323\n"
     ]
    },
    {
     "name": "stderr",
     "output_type": "stream",
     "text": [
      "/home/team14/miniconda2/envs/dublinBus/lib/python3.8/site-packages/IPython/core/interactiveshell.py:3361: DtypeWarning: Columns (1,2,3,4,5,6,7,8) have mixed types.Specify dtype option on import or set low_memory=False.\n",
      "  if (await self.run_code(code, result,  async_=asy)):\n"
     ]
    },
    {
     "name": "stdout",
     "output_type": "stream",
     "text": [
      "Now working on line: 38D number 113 in the sequence. Time since start 2820.78692650795\n"
     ]
    },
    {
     "name": "stderr",
     "output_type": "stream",
     "text": [
      "/home/team14/miniconda2/envs/dublinBus/lib/python3.8/site-packages/IPython/core/interactiveshell.py:3361: DtypeWarning: Columns (1,2,3,4,5,6,7,8) have mixed types.Specify dtype option on import or set low_memory=False.\n",
      "  if (await self.run_code(code, result,  async_=asy)):\n"
     ]
    },
    {
     "name": "stdout",
     "output_type": "stream",
     "text": [
      "Now working on line: 40B number 114 in the sequence. Time since start 3077.272374391556\n"
     ]
    },
    {
     "name": "stderr",
     "output_type": "stream",
     "text": [
      "/home/team14/miniconda2/envs/dublinBus/lib/python3.8/site-packages/IPython/core/interactiveshell.py:3361: DtypeWarning: Columns (1,2,3,4,5,6,7,8) have mixed types.Specify dtype option on import or set low_memory=False.\n",
      "  if (await self.run_code(code, result,  async_=asy)):\n"
     ]
    },
    {
     "name": "stdout",
     "output_type": "stream",
     "text": [
      "Now working on line: 66B number 115 in the sequence. Time since start 3342.9766597747803\n"
     ]
    },
    {
     "name": "stderr",
     "output_type": "stream",
     "text": [
      "/home/team14/miniconda2/envs/dublinBus/lib/python3.8/site-packages/IPython/core/interactiveshell.py:3361: DtypeWarning: Columns (1,2,3,4,5,6,7,8) have mixed types.Specify dtype option on import or set low_memory=False.\n",
      "  if (await self.run_code(code, result,  async_=asy)):\n"
     ]
    },
    {
     "name": "stdout",
     "output_type": "stream",
     "text": [
      "Now working on line: 38B number 116 in the sequence. Time since start 3497.9204461574554\n"
     ]
    },
    {
     "name": "stderr",
     "output_type": "stream",
     "text": [
      "/home/team14/miniconda2/envs/dublinBus/lib/python3.8/site-packages/IPython/core/interactiveshell.py:3361: DtypeWarning: Columns (1,2,3,4,5,6,7,8) have mixed types.Specify dtype option on import or set low_memory=False.\n",
      "  if (await self.run_code(code, result,  async_=asy)):\n"
     ]
    },
    {
     "name": "stdout",
     "output_type": "stream",
     "text": [
      "Now working on line: 236 number 117 in the sequence. Time since start 3650.864138841629\n"
     ]
    },
    {
     "name": "stderr",
     "output_type": "stream",
     "text": [
      "/home/team14/miniconda2/envs/dublinBus/lib/python3.8/site-packages/IPython/core/interactiveshell.py:3361: DtypeWarning: Columns (1,2,3,4,5,6,7,8) have mixed types.Specify dtype option on import or set low_memory=False.\n",
      "  if (await self.run_code(code, result,  async_=asy)):\n"
     ]
    },
    {
     "name": "stdout",
     "output_type": "stream",
     "text": [
      "Now working on line: 7B number 118 in the sequence. Time since start 3802.1263933181763\n"
     ]
    },
    {
     "name": "stderr",
     "output_type": "stream",
     "text": [
      "/home/team14/miniconda2/envs/dublinBus/lib/python3.8/site-packages/IPython/core/interactiveshell.py:3361: DtypeWarning: Columns (1,2,3,4,5,6,7,8) have mixed types.Specify dtype option on import or set low_memory=False.\n",
      "  if (await self.run_code(code, result,  async_=asy)):\n"
     ]
    },
    {
     "name": "stdout",
     "output_type": "stream",
     "text": [
      "Now working on line: 41X number 119 in the sequence. Time since start 3990.1789100170135\n"
     ]
    },
    {
     "name": "stderr",
     "output_type": "stream",
     "text": [
      "/home/team14/miniconda2/envs/dublinBus/lib/python3.8/site-packages/IPython/core/interactiveshell.py:3361: DtypeWarning: Columns (1,2,3,4,5,6,7,8) have mixed types.Specify dtype option on import or set low_memory=False.\n",
      "  if (await self.run_code(code, result,  async_=asy)):\n"
     ]
    },
    {
     "name": "stdout",
     "output_type": "stream",
     "text": [
      "Now working on line: 40E number 120 in the sequence. Time since start 4160.1377494335175\n"
     ]
    },
    {
     "name": "stderr",
     "output_type": "stream",
     "text": [
      "/home/team14/miniconda2/envs/dublinBus/lib/python3.8/site-packages/IPython/core/interactiveshell.py:3361: DtypeWarning: Columns (1,2,3,4,5,6,7,8) have mixed types.Specify dtype option on import or set low_memory=False.\n",
      "  if (await self.run_code(code, result,  async_=asy)):\n"
     ]
    },
    {
     "name": "stdout",
     "output_type": "stream",
     "text": [
      "Now working on line: 70D number 121 in the sequence. Time since start 4355.225386142731\n"
     ]
    },
    {
     "name": "stderr",
     "output_type": "stream",
     "text": [
      "/home/team14/miniconda2/envs/dublinBus/lib/python3.8/site-packages/IPython/core/interactiveshell.py:3361: DtypeWarning: Columns (1,2,3,4,5,6,7,8) have mixed types.Specify dtype option on import or set low_memory=False.\n",
      "  if (await self.run_code(code, result,  async_=asy)):\n"
     ]
    },
    {
     "name": "stdout",
     "output_type": "stream",
     "text": [
      "Now working on line: 69X number 122 in the sequence. Time since start 4524.497407674789\n"
     ]
    },
    {
     "name": "stderr",
     "output_type": "stream",
     "text": [
      "/home/team14/miniconda2/envs/dublinBus/lib/python3.8/site-packages/IPython/core/interactiveshell.py:3361: DtypeWarning: Columns (1,2,3,4,5,6,7,8) have mixed types.Specify dtype option on import or set low_memory=False.\n",
      "  if (await self.run_code(code, result,  async_=asy)):\n"
     ]
    },
    {
     "name": "stdout",
     "output_type": "stream",
     "text": [
      "Now working on line: 116 number 123 in the sequence. Time since start 4665.842942237854\n"
     ]
    },
    {
     "name": "stderr",
     "output_type": "stream",
     "text": [
      "/home/team14/miniconda2/envs/dublinBus/lib/python3.8/site-packages/IPython/core/interactiveshell.py:3361: DtypeWarning: Columns (1,2,3,4,5,6,7,8) have mixed types.Specify dtype option on import or set low_memory=False.\n",
      "  if (await self.run_code(code, result,  async_=asy)):\n"
     ]
    },
    {
     "name": "stdout",
     "output_type": "stream",
     "text": [
      "Now working on line: 77X number 124 in the sequence. Time since start 4805.6226897239685\n"
     ]
    },
    {
     "name": "stderr",
     "output_type": "stream",
     "text": [
      "/home/team14/miniconda2/envs/dublinBus/lib/python3.8/site-packages/IPython/core/interactiveshell.py:3361: DtypeWarning: Columns (1,2,3,4,5,6,7,8) have mixed types.Specify dtype option on import or set low_memory=False.\n",
      "  if (await self.run_code(code, result,  async_=asy)):\n"
     ]
    },
    {
     "name": "stdout",
     "output_type": "stream",
     "text": [
      "Now working on line: 25X number 125 in the sequence. Time since start 4958.938506364822\n"
     ]
    },
    {
     "name": "stderr",
     "output_type": "stream",
     "text": [
      "/home/team14/miniconda2/envs/dublinBus/lib/python3.8/site-packages/IPython/core/interactiveshell.py:3361: DtypeWarning: Columns (1,2,3,4,5,6,7,8) have mixed types.Specify dtype option on import or set low_memory=False.\n",
      "  if (await self.run_code(code, result,  async_=asy)):\n"
     ]
    },
    {
     "name": "stdout",
     "output_type": "stream",
     "text": [
      "Now working on line: 68X number 126 in the sequence. Time since start 5139.507492303848\n"
     ]
    },
    {
     "name": "stderr",
     "output_type": "stream",
     "text": [
      "/home/team14/miniconda2/envs/dublinBus/lib/python3.8/site-packages/IPython/core/interactiveshell.py:3361: DtypeWarning: Columns (1,2,3,4,5,6,7,8) have mixed types.Specify dtype option on import or set low_memory=False.\n",
      "  if (await self.run_code(code, result,  async_=asy)):\n"
     ]
    },
    {
     "name": "stdout",
     "output_type": "stream",
     "text": [
      "Now working on line: 161 number 127 in the sequence. Time since start 5311.911252737045\n"
     ]
    },
    {
     "name": "stderr",
     "output_type": "stream",
     "text": [
      "/home/team14/miniconda2/envs/dublinBus/lib/python3.8/site-packages/IPython/core/interactiveshell.py:3361: DtypeWarning: Columns (1,2,3,4,5,6,7,8) have mixed types.Specify dtype option on import or set low_memory=False.\n",
      "  if (await self.run_code(code, result,  async_=asy)):\n"
     ]
    },
    {
     "name": "stdout",
     "output_type": "stream",
     "text": [
      "Now working on line: 16D number 128 in the sequence. Time since start 5491.007681131363\n"
     ]
    },
    {
     "name": "stderr",
     "output_type": "stream",
     "text": [
      "/home/team14/miniconda2/envs/dublinBus/lib/python3.8/site-packages/IPython/core/interactiveshell.py:3361: DtypeWarning: Columns (1,2,3,4,5,6,7,8) have mixed types.Specify dtype option on import or set low_memory=False.\n",
      "  if (await self.run_code(code, result,  async_=asy)):\n"
     ]
    },
    {
     "name": "stdout",
     "output_type": "stream",
     "text": [
      "Now working on line: 33E number 129 in the sequence. Time since start 5670.689937353134\n"
     ]
    },
    {
     "name": "stderr",
     "output_type": "stream",
     "text": [
      "/home/team14/miniconda2/envs/dublinBus/lib/python3.8/site-packages/IPython/core/interactiveshell.py:3361: DtypeWarning: Columns (1,2,3,4,5,6,7,8) have mixed types.Specify dtype option on import or set low_memory=False.\n",
      "  if (await self.run_code(code, result,  async_=asy)):\n"
     ]
    },
    {
     "name": "stdout",
     "output_type": "stream",
     "text": [
      "Now working on line: 41D number 130 in the sequence. Time since start 5868.912485837936\n"
     ]
    },
    {
     "name": "stderr",
     "output_type": "stream",
     "text": [
      "/home/team14/miniconda2/envs/dublinBus/lib/python3.8/site-packages/IPython/core/interactiveshell.py:3361: DtypeWarning: Columns (1,2,3,4,5,6,7,8) have mixed types.Specify dtype option on import or set low_memory=False.\n",
      "  if (await self.run_code(code, result,  async_=asy)):\n"
     ]
    },
    {
     "name": "stdout",
     "output_type": "stream",
     "text": [
      "FINISHED\n"
     ]
    }
   ],
   "source": [
    "count = 97\n",
    "\n",
    "#meanlist = []\n",
    "\n",
    "start_time = time.time()\n",
    "\n",
    "# looping over each lineid\n",
    "for lineid in lineidsleft:\n",
    "    \n",
    "    now = time.time()\n",
    "    timer = now - start_time\n",
    "    print(\"Now working on line:\", lineid, \"number\", count, \"in the sequence. Time since start\", timer)\n",
    "    count += 1\n",
    "    \n",
    "    # collecting all trip ids associated with the line id in the loop\n",
    "    trip_id_list = dftrips['TRIPID'][dftrips['LINEID'] == lineid].tolist()\n",
    "    \n",
    "    # list of dataframes to concatenate\n",
    "    df_list = []\n",
    "    \n",
    "    # iterating over each chunk in the leave times cleaned csv\n",
    "    chunksize = 10 ** 6\n",
    "    for chunk in pd.read_csv(\"rt_leavetimes-cleaned.csv\", chunksize=chunksize):\n",
    "        #parse_dates=[0], infer_datetime_format=True\n",
    "        \n",
    "        # adding the data in the chunk if the trip id is in the list we specified earlier\n",
    "        df_list.append(chunk[chunk['TRIPID'].isin(trip_id_list)])\n",
    "        \n",
    "    # concatenating all of the data for the lineid\n",
    "    dfline = pd.concat(df_list)\n",
    "    \n",
    "    # setting dfline to a random 10% of its data\n",
    "    dfline = dfline.sample(frac=0.1, random_state=2)\n",
    "    \n",
    "    # adding STOPTIME column to the line dataframe\n",
    "    dfline['STOPTIME'] = dfline['ACTUALTIME_DEP'] - dfline['ACTUALTIME_ARR']\n",
    "    \n",
    "    # converting line DAYOFSERVICE to datetime\n",
    "    dfline['DAYOFSERVICE'] = dfline['DAYOFSERVICE'].astype('datetime64')\n",
    "    \n",
    "    # adding TRIPSTART to line dataframe which is the departure time for the entire trip\n",
    "    dflinenew = dfline.merge(dftrips, on = ['DAYOFSERVICE', 'TRIPID'])\n",
    "    \n",
    "    # keeping only the columns we want for dfline\n",
    "    dfline = dflinenew[['DAYOFSERVICE', 'TRIPID', 'PROGRNUMBER', 'STOPPOINTID', 'PLANNEDTIME_ARR_x', 'PLANNEDTIME_DEP_x', 'ACTUALTIME_ARR_x', 'ACTUALTIME_DEP_x', 'VEHICLEID', 'DIRECTION', 'STOPTIME', 'ACTUALTIME_DEP_y']]\n",
    "    \n",
    "    # renaming the new columns\n",
    "    dfline = dfline.rename(columns={'PLANNEDTIME_ARR_x':'PLANNEDTIME_ARR', 'PLANNEDTIME_DEP_x':'PLANNEDTIME_DEP', 'ACTUALTIME_ARR_x':'ACTUALTIME_ARR', 'ACTUALTIME_DEP_x':'ACTUALTIME_DEP', 'ACTUALTIME_DEP_y':'TRIPSTART'})\n",
    "    \n",
    "    # adding a column for time since start of the trip, or TRAVELTIME, calculated as ACTUALTIME_ARR - TRIPSTART\n",
    "    dfline['TRAVELTIME'] = dfline['ACTUALTIME_ARR'] - dfline['TRIPSTART']\n",
    "    \n",
    "    # adding month of year column for line dataframe\n",
    "    dfline['MONTHOFYEAR'] = dfline['DAYOFSERVICE'].dt.month\n",
    "    \n",
    "    # adding day column for line dataframe\n",
    "    dfline['DAYOFWEEK'] = dfline['DAYOFSERVICE'].dt.dayofweek\n",
    "    \n",
    "    # adding hour column for line dataframe\n",
    "    dfline['HOUROFDAY'] = (dfline['ACTUALTIME_DEP'] // 3600).astype(int)\n",
    "    \n",
    "    # converting line DAYOFSERVICE to datetime\n",
    "    #dfline['DAYOFSERVICE'] = dfline['DAYOFSERVICE'].astype('datetime64')\n",
    "    \n",
    "    # merging line data with weather data (merge on date and hour, keep temp, wind_speed and w_main dummies)\n",
    "    dfline = dfline.merge(dfw[['temp', 'wind_speed', 'w_main_Clouds', 'w_main_Drizzle', 'w_main_Fog', 'w_main_Mist', 'w_main_Rain', 'w_main_Smoke', 'w_main_Snow', 'DAYOFSERVICE', 'HOUROFDAY']], on=['DAYOFSERVICE', 'HOUROFDAY'])\n",
    "    \n",
    "    # list trip and dayofservice for all trips with outlier data (4 times above mean travel time or below 0 travel time)\n",
    "    dflinebadtimes = dfline[['TRIPID', 'DAYOFSERVICE', 'TRAVELTIME']].loc[(dfline['TRAVELTIME'] > dfline['TRAVELTIME'].mean()*4) | (dfline['TRAVELTIME'] < 0)]\n",
    "    \n",
    "    # list of indices of bad trips\n",
    "    badTripsIndexList = dfline.loc[(dfline['DAYOFSERVICE'].isin(dflinebadtimes['DAYOFSERVICE'].unique())) & (dfline['TRIPID'].isin(dflinebadtimes['TRIPID'].unique()))].index.tolist()\n",
    "    \n",
    "    # dropping bad trips from line dataframe\n",
    "    dfline = dfline.drop(badTripsIndexList)\n",
    "    \n",
    "    # looking at long stops (10 mins plus)\n",
    "    dflinelongstops = dfline.loc[dfline['STOPTIME'] > 600]\n",
    "    \n",
    "    # index list for long stops trips\n",
    "    longStopsIndexList = dfline.loc[(dfline['DAYOFSERVICE'].isin(dflinelongstops['DAYOFSERVICE'].unique())) & (dfline['TRIPID'].isin(dflinelongstops['TRIPID'].unique()))].index.tolist()\n",
    "    \n",
    "    # dropping trips which had stops which lasted for over 10 minutes\n",
    "    dfline = dfline.drop(longStopsIndexList)\n",
    "    \n",
    "    # line trips which took over 10 mins to reach second stop\n",
    "    dflinelongstart = dfline.loc[(dfline['TRAVELTIME'] > 600) & (dfline['PROGRNUMBER'] == 2)]\n",
    "    \n",
    "    # index list for rows with over 600 travel time by stop 2\n",
    "    longStartIndexList = dfline.loc[(dfline['DAYOFSERVICE'].isin(dflinelongstart['DAYOFSERVICE'].unique())) & (dfline['TRIPID'].isin(dflinelongstart['TRIPID'].unique()))].index.tolist()\n",
    "    \n",
    "    # dropping trips which had over 600 travel time by stop 2\n",
    "    dfline = dfline.drop(longStartIndexList)\n",
    "    \n",
    "    #meanlist += [dfline['TRAVELTIME'].mean()]\n",
    "    \n",
    "    # adding HOUROFDAY squared, cubed and to the power of 4 as columns\n",
    "    #dfline['HOUROFDAY**2'] = dfline['HOUROFDAY']**2\n",
    "    #dfline['HOUROFDAY**3'] = dfline['HOUROFDAY']**3\n",
    "    #dfline['HOUROFDAY**4'] = dfline['HOUROFDAY']**4\n",
    "    \n",
    "    # 70/30 train/test split for line data\n",
    "    trainline = dfline.sample(frac=0.7, random_state=1)\n",
    "    testline = dfline.drop(trainline.index)\n",
    "    \n",
    "    # descriptive features\n",
    "    linefeatures = ['PROGRNUMBER', 'DIRECTION', 'DAYOFWEEK', 'MONTHOFYEAR', 'temp', 'w_main_Clouds', 'w_main_Drizzle', 'w_main_Fog', 'w_main_Mist', 'w_main_Rain', 'w_main_Smoke', 'w_main_Snow', 'HOUROFDAY']\n",
    "\n",
    "    X = trainline[linefeatures]\n",
    "    y = trainline['TRAVELTIME']\n",
    "    \n",
    "    # fitting the model\n",
    "    knnline = KNeighborsRegressor().fit(X, y)\n",
    "    \n",
    "    # save the model to pickle file\n",
    "    #filename = \"KNNPickleFiles/knn_{}.sav\".format(lineid)\n",
    "    #pickle.dump(knnline, open(filename, 'wb'))\n",
    "    \n",
    "    # save the model to a joblib file\n",
    "    filename = \"KNNJoblibFiles/knn_{}.joblib\".format(lineid)\n",
    "    joblib.dump(knnline, filename, compress=3)\n",
    "    \n",
    "    \n",
    "    # testing the model\n",
    "    # predicting the travel time for entire test dataframe\n",
    "    #knnline_test_predictions = knnline.predict(testline[linefeatures])\n",
    "    \n",
    "    # difference between test travel times and test predictions\n",
    "    #knnlineprediction_diffs = testline['TRAVELTIME'] - knnline_test_predictions\n",
    "    \n",
    "    # calculating root mean square error\n",
    "    #line_knn_rmse = ((knnlineprediction_diffs**2).mean())**0.5\n",
    "    \n",
    "    # printing r2 score\n",
    "    #knnline_r2 = r2_score(testline['TRAVELTIME'], knnline_test_predictions)\n",
    "    \n",
    "    # writing these scores to a file\n",
    "    #f = open(\"knn_results.txt\", \"a\")\n",
    "    #f.write(\"\\nLine: \" + str(lineid) + \". RMSE: \" + str(line_knn_rmse) + \". R2 Score: \" + str(knnline_r2) + \".\\n\")\n",
    "    #f.close()\n",
    "    \n",
    "    \n",
    "print(\"FINISHED\")"
   ]
  },
  {
   "cell_type": "code",
   "execution_count": 248,
   "metadata": {},
   "outputs": [],
   "source": [
    "# adding rmse/mean travel time to the results file\n",
    "\n",
    "\n",
    "# getting average travel time for each route\n",
    "meanlist = []\n",
    "for lineid in dftrips['LINEID'].unique():\n",
    "    meanlist += [dftrips['TRAVELTIME'].loc[dftrips['LINEID'] == lineid].mean() / 2.0]\n",
    "\n",
    "\n",
    "count = 0\n",
    "indexcount = 0\n",
    "\n",
    "rmsedivmeanlist = []\n",
    "\n",
    "# reading from knn_results.txt\n",
    "f = open(\"knn_results.txt\", \"r\")\n",
    "for line in f:\n",
    "    count += 1\n",
    "    if (count == 1) or (count % 2 == 0):\n",
    "        continue\n",
    "    rmse = float(re.findall(\"\\d+\\.\\d+\", line)[0])\n",
    "    rmsedivmeanlist += [rmse / meanlist[indexcount]]\n",
    "    indexcount += 1\n",
    "    \n",
    "f.close()"
   ]
  },
  {
   "cell_type": "code",
   "execution_count": 249,
   "metadata": {},
   "outputs": [
    {
     "name": "stdout",
     "output_type": "stream",
     "text": [
      "[0.21414160676361144, 0.15702233026166926, 0.19641911147696653, 0.17123495889267612, 0.16971609380584332, 0.21855280848436537, 0.16271081272789026, 0.161189292259039, 0.17406612513742517, 0.18432965974791277, 0.18297009254472785, 0.1388519207484817, 0.1789289028422052, 0.2414510517507763, 0.1969846901384839, 0.15702090743509006, 0.19076286844770976, 0.17750787940562193, 0.16292395308637478, 0.14707531601606078, 0.14700182621647567, 0.23867754403585661, 0.1976542229270453, 0.23578935492907446, 0.21087864298586484, 0.1966756310545424, 0.16349884194063116, 0.21891635204951906, 0.2101785844774168, 0.17370967415651417, 0.25950617263136994, 0.16770564339550453, 0.18030428832636974, 0.17741999631375352, 0.2459877737415707, 0.21380090362634224, 0.20067072903842895, 0.18909507000657824, 0.17888412319941788, 0.18329993541761938, 0.14875027332486435, 0.2132455920406924, 0.17434221621442952, 0.1423359992430006, 0.20654654448479198, 0.1878335817789551, 0.20980195587860628, 0.15663667512684518, 0.17677876227810577, 0.16952481911693204, 0.15876606665281046, 0.23650504803847863, 0.18847930638100513, 0.19341031467458247, 0.1464351956450826, 0.24059870565378128, 0.22831424866527184, 0.21045300622441002, 0.18210386018274205, 0.19354333946894492, 0.16393544391477494, 0.1798410063103637, 0.2217502067531803, 0.17264422239220095, 0.22571040330857994, 0.18086573823394025, 0.21898024623176432, 0.280168639240776, 0.15083756265033627, 0.10880735712704956, 0.25893004958389954, 0.16429576645165883, 0.20722333675394455, 0.16287166138123885, 0.23799791266605635, 0.13948116145753278, 0.12671648301083566, 0.18200582596242698, 0.16436275728175678, 0.28106540939384256, 0.23925550175896831, 0.22534006468370574, 0.1747536061238514, 0.18410575492251777, 0.18356992794059732, 0.17940040363194135, 0.12561227955658882, 0.23475634223885, 0.21427042836924504, 0.21438374539278482, 0.19847508772670136, 0.16230494038124957, 0.235072310526774, 0.19335893932209502, 0.1525352645317278, 0.21285897929847178, 0.1635948598057585, 0.25309732852699046, 0.16194389965470368, 0.21471392774047826, 0.1928041355795829, 0.16814428556671218, 0.18104000846731633, 0.19563705783166052, 0.13164837443025587, 0.15301540685973364, 0.15608701124817279, 0.15264488620057193, 0.11801573184267133, 0.22176476054423258, 0.12833386040048006, 0.24473374367636658, 0.12166652158539726, 0.21486431431523945, 0.19950510658816883, 0.15626075584923024, 0.16685775272141556, 0.1481886730968549, 0.19668104553305008, 0.1790174390022165, 0.14954522227873393, 0.1723621389252502, 0.17073088308890622, 0.12532272368512157, 0.16834080613125849, 0.08330643406366917, 0.24844424913122187, 0.12823430520464152, 0.07900025886249995, 0.20710123283988954]\n"
     ]
    }
   ],
   "source": [
    "print rmsedivmeanlist"
   ]
  },
  {
   "cell_type": "code",
   "execution_count": 250,
   "metadata": {},
   "outputs": [
    {
     "name": "stdout",
     "output_type": "stream",
     "text": [
      "0.07900025886249995\n"
     ]
    }
   ],
   "source": [
    "print min(rmsedivmeanlist)"
   ]
  },
  {
   "cell_type": "code",
   "execution_count": 251,
   "metadata": {},
   "outputs": [
    {
     "name": "stdout",
     "output_type": "stream",
     "text": [
      "0.28106540939384256\n"
     ]
    }
   ],
   "source": [
    "print max(rmsedivmeanlist)"
   ]
  },
  {
   "cell_type": "code",
   "execution_count": 252,
   "metadata": {},
   "outputs": [
    {
     "name": "stdout",
     "output_type": "stream",
     "text": [
      "0.18499319316390664\n"
     ]
    }
   ],
   "source": [
    "sum = 0\n",
    "for i in rmsedivmeanlist:\n",
    "    sum += i\n",
    "print sum/len(rmsedivmeanlist)"
   ]
  },
  {
   "cell_type": "code",
   "execution_count": 253,
   "metadata": {},
   "outputs": [],
   "source": [
    "#file = open(\"knn_percent_results.txt\", \"a\")\n",
    "#file.write(\"RMSE scores divided by average travel time for each route.\\nMean score: \" + str(sum/len(rmsedivmeanlist)) + \"\\nMin score: \" + str(min(rmsedivmeanlist)) + \"\\nMax score: \" + str(max(rmsedivmeanlist)) + \"\\n\\n\")\n",
    "#file.close()\n",
    "\n",
    "# writing these scores to a file\n",
    "#for i in range(130):\n",
    "#    file = open(\"knn_percent_results.txt\", \"a\")\n",
    "#    file.write(\"\\nLine: \" + str(dftrips['LINEID'].unique()[i]) + \". RMSE / Mean TT: \" + str(rmsedivmeanlist[i]) + \".\" + \".\\n\")\n",
    "#    file.close()"
   ]
  },
  {
   "cell_type": "markdown",
   "metadata": {},
   "source": [
    "# 7 - Support Vector Machine Regression"
   ]
  },
  {
   "cell_type": "code",
   "execution_count": 226,
   "metadata": {},
   "outputs": [
    {
     "data": {
      "text/html": [
       "<div>\n",
       "<style scoped>\n",
       "    .dataframe tbody tr th:only-of-type {\n",
       "        vertical-align: middle;\n",
       "    }\n",
       "\n",
       "    .dataframe tbody tr th {\n",
       "        vertical-align: top;\n",
       "    }\n",
       "\n",
       "    .dataframe thead th {\n",
       "        text-align: right;\n",
       "    }\n",
       "</style>\n",
       "<table border=\"1\" class=\"dataframe\">\n",
       "  <thead>\n",
       "    <tr style=\"text-align: right;\">\n",
       "      <th></th>\n",
       "      <th>DAYOFSERVICE</th>\n",
       "      <th>TRIPID</th>\n",
       "      <th>PROGRNUMBER</th>\n",
       "      <th>STOPPOINTID</th>\n",
       "      <th>PLANNEDTIME_ARR</th>\n",
       "      <th>PLANNEDTIME_DEP</th>\n",
       "      <th>ACTUALTIME_ARR</th>\n",
       "      <th>ACTUALTIME_DEP</th>\n",
       "      <th>VEHICLEID</th>\n",
       "      <th>DIRECTION</th>\n",
       "      <th>...</th>\n",
       "      <th>w_main_Clouds</th>\n",
       "      <th>w_main_Drizzle</th>\n",
       "      <th>w_main_Fog</th>\n",
       "      <th>w_main_Mist</th>\n",
       "      <th>w_main_Rain</th>\n",
       "      <th>w_main_Smoke</th>\n",
       "      <th>w_main_Snow</th>\n",
       "      <th>HOUROFDAY**2</th>\n",
       "      <th>HOUROFDAY**3</th>\n",
       "      <th>HOUROFDAY**4</th>\n",
       "    </tr>\n",
       "  </thead>\n",
       "  <tbody>\n",
       "    <tr>\n",
       "      <th>1242572</th>\n",
       "      <td>2018-12-18</td>\n",
       "      <td>8459317</td>\n",
       "      <td>7</td>\n",
       "      <td>387</td>\n",
       "      <td>43489</td>\n",
       "      <td>43489</td>\n",
       "      <td>43587</td>\n",
       "      <td>43618</td>\n",
       "      <td>2868403</td>\n",
       "      <td>2</td>\n",
       "      <td>...</td>\n",
       "      <td>1</td>\n",
       "      <td>0</td>\n",
       "      <td>0</td>\n",
       "      <td>0</td>\n",
       "      <td>0</td>\n",
       "      <td>0</td>\n",
       "      <td>0</td>\n",
       "      <td>144</td>\n",
       "      <td>1728</td>\n",
       "      <td>20736</td>\n",
       "    </tr>\n",
       "    <tr>\n",
       "      <th>390663</th>\n",
       "      <td>2018-04-25</td>\n",
       "      <td>6633738</td>\n",
       "      <td>34</td>\n",
       "      <td>372</td>\n",
       "      <td>44525</td>\n",
       "      <td>44525</td>\n",
       "      <td>44625</td>\n",
       "      <td>44625</td>\n",
       "      <td>1000190</td>\n",
       "      <td>1</td>\n",
       "      <td>...</td>\n",
       "      <td>0</td>\n",
       "      <td>0</td>\n",
       "      <td>0</td>\n",
       "      <td>0</td>\n",
       "      <td>1</td>\n",
       "      <td>0</td>\n",
       "      <td>0</td>\n",
       "      <td>144</td>\n",
       "      <td>1728</td>\n",
       "      <td>20736</td>\n",
       "    </tr>\n",
       "    <tr>\n",
       "      <th>1013310</th>\n",
       "      <td>2018-10-13</td>\n",
       "      <td>8026160</td>\n",
       "      <td>11</td>\n",
       "      <td>4432</td>\n",
       "      <td>46180</td>\n",
       "      <td>46180</td>\n",
       "      <td>46561</td>\n",
       "      <td>46561</td>\n",
       "      <td>2534842</td>\n",
       "      <td>1</td>\n",
       "      <td>...</td>\n",
       "      <td>0</td>\n",
       "      <td>0</td>\n",
       "      <td>0</td>\n",
       "      <td>0</td>\n",
       "      <td>1</td>\n",
       "      <td>0</td>\n",
       "      <td>0</td>\n",
       "      <td>144</td>\n",
       "      <td>1728</td>\n",
       "      <td>20736</td>\n",
       "    </tr>\n",
       "    <tr>\n",
       "      <th>376603</th>\n",
       "      <td>2018-04-19</td>\n",
       "      <td>6632267</td>\n",
       "      <td>31</td>\n",
       "      <td>7602</td>\n",
       "      <td>31767</td>\n",
       "      <td>31767</td>\n",
       "      <td>32128</td>\n",
       "      <td>32141</td>\n",
       "      <td>2693266</td>\n",
       "      <td>2</td>\n",
       "      <td>...</td>\n",
       "      <td>1</td>\n",
       "      <td>0</td>\n",
       "      <td>0</td>\n",
       "      <td>0</td>\n",
       "      <td>0</td>\n",
       "      <td>0</td>\n",
       "      <td>0</td>\n",
       "      <td>64</td>\n",
       "      <td>512</td>\n",
       "      <td>4096</td>\n",
       "    </tr>\n",
       "    <tr>\n",
       "      <th>33200</th>\n",
       "      <td>2018-01-10</td>\n",
       "      <td>6100238</td>\n",
       "      <td>27</td>\n",
       "      <td>17</td>\n",
       "      <td>65193</td>\n",
       "      <td>65193</td>\n",
       "      <td>65048</td>\n",
       "      <td>65089</td>\n",
       "      <td>2693212</td>\n",
       "      <td>2</td>\n",
       "      <td>...</td>\n",
       "      <td>0</td>\n",
       "      <td>0</td>\n",
       "      <td>1</td>\n",
       "      <td>0</td>\n",
       "      <td>0</td>\n",
       "      <td>0</td>\n",
       "      <td>0</td>\n",
       "      <td>324</td>\n",
       "      <td>5832</td>\n",
       "      <td>104976</td>\n",
       "    </tr>\n",
       "  </tbody>\n",
       "</table>\n",
       "<p>5 rows × 28 columns</p>\n",
       "</div>"
      ],
      "text/plain": [
       "        DAYOFSERVICE   TRIPID  PROGRNUMBER  STOPPOINTID  PLANNEDTIME_ARR  \\\n",
       "1242572   2018-12-18  8459317            7          387            43489   \n",
       "390663    2018-04-25  6633738           34          372            44525   \n",
       "1013310   2018-10-13  8026160           11         4432            46180   \n",
       "376603    2018-04-19  6632267           31         7602            31767   \n",
       "33200     2018-01-10  6100238           27           17            65193   \n",
       "\n",
       "         PLANNEDTIME_DEP  ACTUALTIME_ARR  ACTUALTIME_DEP  VEHICLEID  \\\n",
       "1242572            43489           43587           43618    2868403   \n",
       "390663             44525           44625           44625    1000190   \n",
       "1013310            46180           46561           46561    2534842   \n",
       "376603             31767           32128           32141    2693266   \n",
       "33200              65193           65048           65089    2693212   \n",
       "\n",
       "         DIRECTION  ...  w_main_Clouds  w_main_Drizzle  w_main_Fog  \\\n",
       "1242572          2  ...              1               0           0   \n",
       "390663           1  ...              0               0           0   \n",
       "1013310          1  ...              0               0           0   \n",
       "376603           2  ...              1               0           0   \n",
       "33200            2  ...              0               0           1   \n",
       "\n",
       "         w_main_Mist  w_main_Rain  w_main_Smoke  w_main_Snow  HOUROFDAY**2  \\\n",
       "1242572            0            0             0            0           144   \n",
       "390663             0            1             0            0           144   \n",
       "1013310            0            1             0            0           144   \n",
       "376603             0            0             0            0            64   \n",
       "33200              0            0             0            0           324   \n",
       "\n",
       "         HOUROFDAY**3  HOUROFDAY**4  \n",
       "1242572          1728         20736  \n",
       "390663           1728         20736  \n",
       "1013310          1728         20736  \n",
       "376603            512          4096  \n",
       "33200            5832        104976  \n",
       "\n",
       "[5 rows x 28 columns]"
      ]
     },
     "execution_count": 226,
     "metadata": {},
     "output_type": "execute_result"
    }
   ],
   "source": [
    "trainroute1.head()"
   ]
  },
  {
   "cell_type": "code",
   "execution_count": 227,
   "metadata": {},
   "outputs": [],
   "source": [
    "# setting up model parameters\n",
    "svmfeatures = ['PROGRNUMBER', 'DIRECTION', 'DAYOFWEEK', 'MONTHOFYEAR', 'temp', 'w_main_Clouds', 'w_main_Drizzle', 'w_main_Fog', 'w_main_Mist', 'w_main_Rain', 'w_main_Smoke', 'w_main_Snow', 'HOUROFDAY']\n",
    "\n",
    "X = trainroute1[svmfeatures]\n",
    "y = trainroute1['TRAVELTIME']"
   ]
  },
  {
   "cell_type": "code",
   "execution_count": 230,
   "metadata": {},
   "outputs": [
    {
     "name": "stdout",
     "output_type": "stream",
     "text": [
      "1326.28362107\n"
     ]
    }
   ],
   "source": [
    "# fitting the model (on 100,000 rows of training data)\n",
    "now = time.time()\n",
    "svmr = SVR(gamma='scale').fit(X.head(100000), y.head(100000))\n",
    "fin = time.time()\n",
    "timer = fin - now\n",
    "print timer"
   ]
  },
  {
   "cell_type": "code",
   "execution_count": 231,
   "metadata": {},
   "outputs": [],
   "source": [
    "# predicting for the test dataframe\n",
    "svmtestpred = svmr.predict(testroute1[svmfeatures])"
   ]
  },
  {
   "cell_type": "code",
   "execution_count": 232,
   "metadata": {},
   "outputs": [],
   "source": [
    "# difference between test travel times and test predictions\n",
    "svmprediction_diffs = testroute1['TRAVELTIME'] - svmtestpred"
   ]
  },
  {
   "cell_type": "code",
   "execution_count": 233,
   "metadata": {},
   "outputs": [
    {
     "name": "stdout",
     "output_type": "stream",
     "text": [
      "('RMSE:', 353.75713989829427)\n"
     ]
    }
   ],
   "source": [
    "# calculating root mean square error\n",
    "svm_rmse = ((svmprediction_diffs**2).mean())**0.5\n",
    "print(\"RMSE:\", svm_rmse)"
   ]
  },
  {
   "cell_type": "code",
   "execution_count": 234,
   "metadata": {},
   "outputs": [
    {
     "name": "stdout",
     "output_type": "stream",
     "text": [
      "('R2 score:', 0.8973060797978099)\n"
     ]
    }
   ],
   "source": [
    "# printing r2 score\n",
    "print(\"R2 score:\", r2_score(testroute1['TRAVELTIME'], svmtestpred))"
   ]
  },
  {
   "cell_type": "markdown",
   "metadata": {},
   "source": [
    "The support vector regressor took too long to train on the full dataset, therefore I trained it on 100,000 rows of the training data. Even then, it took 22 minutes to train. It took a similar amount of time to predict on the entire test dataframe. This means we cannot train it on the full dataset as it will take far too long. From a results standpoint, the model only performed as well as the linear models, being greatly outperformed by the historical average and KNN models. Therefore, I will not be using an SVM model."
   ]
  }
 ],
 "metadata": {
  "kernelspec": {
   "display_name": "Python 3",
   "language": "python",
   "name": "python3"
  },
  "language_info": {
   "codemirror_mode": {
    "name": "ipython",
    "version": 3
   },
   "file_extension": ".py",
   "mimetype": "text/x-python",
   "name": "python",
   "nbconvert_exporter": "python",
   "pygments_lexer": "ipython3",
   "version": "3.8.11"
  }
 },
 "nbformat": 4,
 "nbformat_minor": 2
}
